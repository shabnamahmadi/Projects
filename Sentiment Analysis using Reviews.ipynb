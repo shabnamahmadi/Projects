{
 "cells": [
  {
   "cell_type": "code",
   "execution_count": 1,
   "id": "f0130926",
   "metadata": {},
   "outputs": [],
   "source": [
    "import warnings\n",
    "warnings.filterwarnings(\"ignore\")"
   ]
  },
  {
   "cell_type": "code",
   "execution_count": 2,
   "id": "054483ff",
   "metadata": {},
   "outputs": [
    {
     "name": "stderr",
     "output_type": "stream",
     "text": [
      "[nltk_data] Downloading package punkt to\n",
      "[nltk_data]     C:\\Users\\shabn\\AppData\\Roaming\\nltk_data...\n",
      "[nltk_data]   Package punkt is already up-to-date!\n",
      "[nltk_data] Downloading package stopwords to\n",
      "[nltk_data]     C:\\Users\\shabn\\AppData\\Roaming\\nltk_data...\n",
      "[nltk_data]   Package stopwords is already up-to-date!\n"
     ]
    }
   ],
   "source": [
    "# ignore warning error\n",
    "import warnings\n",
    "warnings.filterwarnings('ignore')\n",
    "\n",
    "# import standard libraries \n",
    "import numpy as np \n",
    "import pandas as pd \n",
    "from pandas import Series, DataFrame\n",
    "\n",
    "# import visualization packages\n",
    "import matplotlib as mpl\n",
    "import matplotlib.pyplot as plt\n",
    "\n",
    "import seaborn as sns\n",
    "from matplotlib.axes._axes import _log as matplotlib_axes_logger\n",
    "matplotlib_axes_logger.setLevel('ERROR')\n",
    "\n",
    "# import TensorFlow package\n",
    "import tensorflow as tf\n",
    "from tensorflow.keras.preprocessing.text import Tokenizer\n",
    "from tensorflow.keras.preprocessing.sequence import pad_sequences\n",
    "from keras import callbacks\n",
    "from tensorflow import keras\n",
    "\n",
    "# import parser\n",
    "from dateutil.parser import parse\n",
    "\n",
    "# spelling corrections\n",
    "import textblob\n",
    "\n",
    "# import reduce\n",
    "from functools import reduce\n",
    "\n",
    "# import bag count vectorizer function\n",
    "from sklearn.feature_extraction.text import CountVectorizer\n",
    "\n",
    "# import appropriate tokenize function\n",
    "import nltk\n",
    "from nltk import word_tokenize\n",
    "nltk.download('punkt')\n",
    "\n",
    "# import nltk 'stopwords' functions\n",
    "nltk.download('stopwords')\n",
    "from nltk.corpus import stopwords\n",
    "\n",
    "# import EarlyStopping\n",
    "import tensorflow\n",
    "from keras.callbacks import ModelCheckpoint, EarlyStopping"
   ]
  },
  {
   "cell_type": "code",
   "execution_count": 3,
   "id": "3ad3401f",
   "metadata": {},
   "outputs": [],
   "source": [
    "# import data and create column 'source' in each dataframe\n",
    "\n",
    "amazon_df = pd.read_csv(r\"C:\\Users\\shabn\\Documents\\WGU - MSDA\\D213\\sentiment labelled sentences\\amazon_cells_labelled.txt\", sep='\\t', names=['review', 'score'])\n",
    "amazon_df['source'] = 'Amazon'\n",
    "\n",
    "yelp_df = pd.read_csv(r\"C:\\Users\\shabn\\Documents\\WGU - MSDA\\D213\\sentiment labelled sentences\\yelp_labelled.txt\", sep='\\t', names=['review', 'score'])\n",
    "yelp_df['source'] = 'Yelp'\n",
    "\n",
    "imdb_df = pd.read_csv(r\"C:\\Users\\shabn\\Documents\\WGU - MSDA\\D213\\sentiment labelled sentences\\imdb_labelled.txt\", sep='\\t', names=['review', 'score'])\n",
    "imdb_df['source'] = 'IMDb'"
   ]
  },
  {
   "cell_type": "code",
   "execution_count": 4,
   "id": "d7dfd807",
   "metadata": {},
   "outputs": [
    {
     "data": {
      "text/html": [
       "<div>\n",
       "<style scoped>\n",
       "    .dataframe tbody tr th:only-of-type {\n",
       "        vertical-align: middle;\n",
       "    }\n",
       "\n",
       "    .dataframe tbody tr th {\n",
       "        vertical-align: top;\n",
       "    }\n",
       "\n",
       "    .dataframe thead th {\n",
       "        text-align: right;\n",
       "    }\n",
       "</style>\n",
       "<table border=\"1\" class=\"dataframe\">\n",
       "  <thead>\n",
       "    <tr style=\"text-align: right;\">\n",
       "      <th></th>\n",
       "      <th>review</th>\n",
       "      <th>score</th>\n",
       "      <th>source</th>\n",
       "    </tr>\n",
       "  </thead>\n",
       "  <tbody>\n",
       "    <tr>\n",
       "      <th>0</th>\n",
       "      <td>So there is no way for me to plug it in here i...</td>\n",
       "      <td>0</td>\n",
       "      <td>Amazon</td>\n",
       "    </tr>\n",
       "    <tr>\n",
       "      <th>1</th>\n",
       "      <td>Good case, Excellent value.</td>\n",
       "      <td>1</td>\n",
       "      <td>Amazon</td>\n",
       "    </tr>\n",
       "    <tr>\n",
       "      <th>2</th>\n",
       "      <td>Great for the jawbone.</td>\n",
       "      <td>1</td>\n",
       "      <td>Amazon</td>\n",
       "    </tr>\n",
       "    <tr>\n",
       "      <th>3</th>\n",
       "      <td>Tied to charger for conversations lasting more...</td>\n",
       "      <td>0</td>\n",
       "      <td>Amazon</td>\n",
       "    </tr>\n",
       "    <tr>\n",
       "      <th>4</th>\n",
       "      <td>The mic is great.</td>\n",
       "      <td>1</td>\n",
       "      <td>Amazon</td>\n",
       "    </tr>\n",
       "    <tr>\n",
       "      <th>...</th>\n",
       "      <td>...</td>\n",
       "      <td>...</td>\n",
       "      <td>...</td>\n",
       "    </tr>\n",
       "    <tr>\n",
       "      <th>995</th>\n",
       "      <td>The screen does get smudged easily because it ...</td>\n",
       "      <td>0</td>\n",
       "      <td>Amazon</td>\n",
       "    </tr>\n",
       "    <tr>\n",
       "      <th>996</th>\n",
       "      <td>What a piece of junk.. I lose more calls on th...</td>\n",
       "      <td>0</td>\n",
       "      <td>Amazon</td>\n",
       "    </tr>\n",
       "    <tr>\n",
       "      <th>997</th>\n",
       "      <td>Item Does Not Match Picture.</td>\n",
       "      <td>0</td>\n",
       "      <td>Amazon</td>\n",
       "    </tr>\n",
       "    <tr>\n",
       "      <th>998</th>\n",
       "      <td>The only thing that disappoint me is the infra...</td>\n",
       "      <td>0</td>\n",
       "      <td>Amazon</td>\n",
       "    </tr>\n",
       "    <tr>\n",
       "      <th>999</th>\n",
       "      <td>You can not answer calls with the unit, never ...</td>\n",
       "      <td>0</td>\n",
       "      <td>Amazon</td>\n",
       "    </tr>\n",
       "  </tbody>\n",
       "</table>\n",
       "<p>1000 rows × 3 columns</p>\n",
       "</div>"
      ],
      "text/plain": [
       "                                                review  score  source\n",
       "0    So there is no way for me to plug it in here i...      0  Amazon\n",
       "1                          Good case, Excellent value.      1  Amazon\n",
       "2                               Great for the jawbone.      1  Amazon\n",
       "3    Tied to charger for conversations lasting more...      0  Amazon\n",
       "4                                    The mic is great.      1  Amazon\n",
       "..                                                 ...    ...     ...\n",
       "995  The screen does get smudged easily because it ...      0  Amazon\n",
       "996  What a piece of junk.. I lose more calls on th...      0  Amazon\n",
       "997                       Item Does Not Match Picture.      0  Amazon\n",
       "998  The only thing that disappoint me is the infra...      0  Amazon\n",
       "999  You can not answer calls with the unit, never ...      0  Amazon\n",
       "\n",
       "[1000 rows x 3 columns]"
      ]
     },
     "execution_count": 4,
     "metadata": {},
     "output_type": "execute_result"
    }
   ],
   "source": [
    "amazon_df"
   ]
  },
  {
   "cell_type": "code",
   "execution_count": 5,
   "id": "736cff66",
   "metadata": {},
   "outputs": [
    {
     "data": {
      "text/plain": [
       "(1000, 3)"
      ]
     },
     "execution_count": 5,
     "metadata": {},
     "output_type": "execute_result"
    }
   ],
   "source": [
    "amazon_df.shape"
   ]
  },
  {
   "cell_type": "code",
   "execution_count": 6,
   "id": "0f195571",
   "metadata": {},
   "outputs": [
    {
     "data": {
      "text/plain": [
       "review    False\n",
       "score     False\n",
       "source    False\n",
       "dtype: bool"
      ]
     },
     "execution_count": 6,
     "metadata": {},
     "output_type": "execute_result"
    }
   ],
   "source": [
    "amazon_df.isna().any()"
   ]
  },
  {
   "cell_type": "code",
   "execution_count": 7,
   "id": "b18ae977",
   "metadata": {
    "scrolled": true
   },
   "outputs": [
    {
     "data": {
      "text/html": [
       "<div>\n",
       "<style scoped>\n",
       "    .dataframe tbody tr th:only-of-type {\n",
       "        vertical-align: middle;\n",
       "    }\n",
       "\n",
       "    .dataframe tbody tr th {\n",
       "        vertical-align: top;\n",
       "    }\n",
       "\n",
       "    .dataframe thead th {\n",
       "        text-align: right;\n",
       "    }\n",
       "</style>\n",
       "<table border=\"1\" class=\"dataframe\">\n",
       "  <thead>\n",
       "    <tr style=\"text-align: right;\">\n",
       "      <th></th>\n",
       "      <th>review</th>\n",
       "      <th>score</th>\n",
       "      <th>source</th>\n",
       "    </tr>\n",
       "  </thead>\n",
       "  <tbody>\n",
       "    <tr>\n",
       "      <th>0</th>\n",
       "      <td>Wow... Loved this place.</td>\n",
       "      <td>1</td>\n",
       "      <td>Yelp</td>\n",
       "    </tr>\n",
       "    <tr>\n",
       "      <th>1</th>\n",
       "      <td>Crust is not good.</td>\n",
       "      <td>0</td>\n",
       "      <td>Yelp</td>\n",
       "    </tr>\n",
       "    <tr>\n",
       "      <th>2</th>\n",
       "      <td>Not tasty and the texture was just nasty.</td>\n",
       "      <td>0</td>\n",
       "      <td>Yelp</td>\n",
       "    </tr>\n",
       "    <tr>\n",
       "      <th>3</th>\n",
       "      <td>Stopped by during the late May bank holiday of...</td>\n",
       "      <td>1</td>\n",
       "      <td>Yelp</td>\n",
       "    </tr>\n",
       "    <tr>\n",
       "      <th>4</th>\n",
       "      <td>The selection on the menu was great and so wer...</td>\n",
       "      <td>1</td>\n",
       "      <td>Yelp</td>\n",
       "    </tr>\n",
       "    <tr>\n",
       "      <th>...</th>\n",
       "      <td>...</td>\n",
       "      <td>...</td>\n",
       "      <td>...</td>\n",
       "    </tr>\n",
       "    <tr>\n",
       "      <th>995</th>\n",
       "      <td>I think food should have flavor and texture an...</td>\n",
       "      <td>0</td>\n",
       "      <td>Yelp</td>\n",
       "    </tr>\n",
       "    <tr>\n",
       "      <th>996</th>\n",
       "      <td>Appetite instantly gone.</td>\n",
       "      <td>0</td>\n",
       "      <td>Yelp</td>\n",
       "    </tr>\n",
       "    <tr>\n",
       "      <th>997</th>\n",
       "      <td>Overall I was not impressed and would not go b...</td>\n",
       "      <td>0</td>\n",
       "      <td>Yelp</td>\n",
       "    </tr>\n",
       "    <tr>\n",
       "      <th>998</th>\n",
       "      <td>The whole experience was underwhelming, and I ...</td>\n",
       "      <td>0</td>\n",
       "      <td>Yelp</td>\n",
       "    </tr>\n",
       "    <tr>\n",
       "      <th>999</th>\n",
       "      <td>Then, as if I hadn't wasted enough of my life ...</td>\n",
       "      <td>0</td>\n",
       "      <td>Yelp</td>\n",
       "    </tr>\n",
       "  </tbody>\n",
       "</table>\n",
       "<p>1000 rows × 3 columns</p>\n",
       "</div>"
      ],
      "text/plain": [
       "                                                review  score source\n",
       "0                             Wow... Loved this place.      1   Yelp\n",
       "1                                   Crust is not good.      0   Yelp\n",
       "2            Not tasty and the texture was just nasty.      0   Yelp\n",
       "3    Stopped by during the late May bank holiday of...      1   Yelp\n",
       "4    The selection on the menu was great and so wer...      1   Yelp\n",
       "..                                                 ...    ...    ...\n",
       "995  I think food should have flavor and texture an...      0   Yelp\n",
       "996                           Appetite instantly gone.      0   Yelp\n",
       "997  Overall I was not impressed and would not go b...      0   Yelp\n",
       "998  The whole experience was underwhelming, and I ...      0   Yelp\n",
       "999  Then, as if I hadn't wasted enough of my life ...      0   Yelp\n",
       "\n",
       "[1000 rows x 3 columns]"
      ]
     },
     "execution_count": 7,
     "metadata": {},
     "output_type": "execute_result"
    }
   ],
   "source": [
    "yelp_df"
   ]
  },
  {
   "cell_type": "code",
   "execution_count": 8,
   "id": "72a6c33d",
   "metadata": {},
   "outputs": [
    {
     "data": {
      "text/plain": [
       "(1000, 3)"
      ]
     },
     "execution_count": 8,
     "metadata": {},
     "output_type": "execute_result"
    }
   ],
   "source": [
    "yelp_df.shape"
   ]
  },
  {
   "cell_type": "code",
   "execution_count": 9,
   "id": "2cd1d091",
   "metadata": {},
   "outputs": [
    {
     "data": {
      "text/plain": [
       "review    False\n",
       "score     False\n",
       "source    False\n",
       "dtype: bool"
      ]
     },
     "execution_count": 9,
     "metadata": {},
     "output_type": "execute_result"
    }
   ],
   "source": [
    "yelp_df.isna().any()"
   ]
  },
  {
   "cell_type": "code",
   "execution_count": 10,
   "id": "8b48d9a8",
   "metadata": {},
   "outputs": [
    {
     "data": {
      "text/html": [
       "<div>\n",
       "<style scoped>\n",
       "    .dataframe tbody tr th:only-of-type {\n",
       "        vertical-align: middle;\n",
       "    }\n",
       "\n",
       "    .dataframe tbody tr th {\n",
       "        vertical-align: top;\n",
       "    }\n",
       "\n",
       "    .dataframe thead th {\n",
       "        text-align: right;\n",
       "    }\n",
       "</style>\n",
       "<table border=\"1\" class=\"dataframe\">\n",
       "  <thead>\n",
       "    <tr style=\"text-align: right;\">\n",
       "      <th></th>\n",
       "      <th>review</th>\n",
       "      <th>score</th>\n",
       "      <th>source</th>\n",
       "    </tr>\n",
       "  </thead>\n",
       "  <tbody>\n",
       "    <tr>\n",
       "      <th>0</th>\n",
       "      <td>A very, very, very slow-moving, aimless movie ...</td>\n",
       "      <td>0</td>\n",
       "      <td>IMDb</td>\n",
       "    </tr>\n",
       "    <tr>\n",
       "      <th>1</th>\n",
       "      <td>Not sure who was more lost - the flat characte...</td>\n",
       "      <td>0</td>\n",
       "      <td>IMDb</td>\n",
       "    </tr>\n",
       "    <tr>\n",
       "      <th>2</th>\n",
       "      <td>Attempting artiness with black &amp; white and cle...</td>\n",
       "      <td>0</td>\n",
       "      <td>IMDb</td>\n",
       "    </tr>\n",
       "    <tr>\n",
       "      <th>3</th>\n",
       "      <td>Very little music or anything to speak of.</td>\n",
       "      <td>0</td>\n",
       "      <td>IMDb</td>\n",
       "    </tr>\n",
       "    <tr>\n",
       "      <th>4</th>\n",
       "      <td>The best scene in the movie was when Gerardo i...</td>\n",
       "      <td>1</td>\n",
       "      <td>IMDb</td>\n",
       "    </tr>\n",
       "    <tr>\n",
       "      <th>...</th>\n",
       "      <td>...</td>\n",
       "      <td>...</td>\n",
       "      <td>...</td>\n",
       "    </tr>\n",
       "    <tr>\n",
       "      <th>743</th>\n",
       "      <td>I just got bored watching Jessice Lange take h...</td>\n",
       "      <td>0</td>\n",
       "      <td>IMDb</td>\n",
       "    </tr>\n",
       "    <tr>\n",
       "      <th>744</th>\n",
       "      <td>Unfortunately, any virtue in this film's produ...</td>\n",
       "      <td>0</td>\n",
       "      <td>IMDb</td>\n",
       "    </tr>\n",
       "    <tr>\n",
       "      <th>745</th>\n",
       "      <td>In a word, it is embarrassing.</td>\n",
       "      <td>0</td>\n",
       "      <td>IMDb</td>\n",
       "    </tr>\n",
       "    <tr>\n",
       "      <th>746</th>\n",
       "      <td>Exceptionally bad!</td>\n",
       "      <td>0</td>\n",
       "      <td>IMDb</td>\n",
       "    </tr>\n",
       "    <tr>\n",
       "      <th>747</th>\n",
       "      <td>All in all its an insult to one's intelligence...</td>\n",
       "      <td>0</td>\n",
       "      <td>IMDb</td>\n",
       "    </tr>\n",
       "  </tbody>\n",
       "</table>\n",
       "<p>748 rows × 3 columns</p>\n",
       "</div>"
      ],
      "text/plain": [
       "                                                review  score source\n",
       "0    A very, very, very slow-moving, aimless movie ...      0   IMDb\n",
       "1    Not sure who was more lost - the flat characte...      0   IMDb\n",
       "2    Attempting artiness with black & white and cle...      0   IMDb\n",
       "3         Very little music or anything to speak of.        0   IMDb\n",
       "4    The best scene in the movie was when Gerardo i...      1   IMDb\n",
       "..                                                 ...    ...    ...\n",
       "743  I just got bored watching Jessice Lange take h...      0   IMDb\n",
       "744  Unfortunately, any virtue in this film's produ...      0   IMDb\n",
       "745                   In a word, it is embarrassing.        0   IMDb\n",
       "746                               Exceptionally bad!        0   IMDb\n",
       "747  All in all its an insult to one's intelligence...      0   IMDb\n",
       "\n",
       "[748 rows x 3 columns]"
      ]
     },
     "execution_count": 10,
     "metadata": {},
     "output_type": "execute_result"
    }
   ],
   "source": [
    "imdb_df"
   ]
  },
  {
   "cell_type": "code",
   "execution_count": 11,
   "id": "3e5b4a6f",
   "metadata": {},
   "outputs": [
    {
     "data": {
      "text/plain": [
       "(748, 3)"
      ]
     },
     "execution_count": 11,
     "metadata": {},
     "output_type": "execute_result"
    }
   ],
   "source": [
    "imdb_df.shape"
   ]
  },
  {
   "cell_type": "code",
   "execution_count": 12,
   "id": "868596fe",
   "metadata": {},
   "outputs": [
    {
     "data": {
      "text/plain": [
       "review    False\n",
       "score     False\n",
       "source    False\n",
       "dtype: bool"
      ]
     },
     "execution_count": 12,
     "metadata": {},
     "output_type": "execute_result"
    }
   ],
   "source": [
    "imdb_df.isna().any()"
   ]
  },
  {
   "cell_type": "code",
   "execution_count": 13,
   "id": "bf4d64d1",
   "metadata": {},
   "outputs": [],
   "source": [
    "# we are expecting 1000 rows, let's look into the data\n",
    "# we know that there is a new row when the score is given\n",
    "# we will split the data after a numerical score\n",
    "\n",
    "imdb = open(r\"C:\\Users\\shabn\\Documents\\WGU - MSDA\\D213\\sentiment labelled sentences\\imdb_labelled.txt\").read()\n",
    "\n",
    "    \n",
    "texts, labels = zip(*(line.split('\\t') for line in imdb.split('\\n') if len(line.split('\\t')) > 1))        "
   ]
  },
  {
   "cell_type": "code",
   "execution_count": 14,
   "id": "bac1d6c6",
   "metadata": {},
   "outputs": [],
   "source": [
    "imdb_clean = pd.DataFrame()\n",
    "imdb_clean['review'] = texts\n",
    "imdb_clean['score'] = labels\n",
    "imdb_clean['source'] = 'IMDb'"
   ]
  },
  {
   "cell_type": "code",
   "execution_count": 15,
   "id": "b91c9a04",
   "metadata": {},
   "outputs": [
    {
     "data": {
      "text/html": [
       "<div>\n",
       "<style scoped>\n",
       "    .dataframe tbody tr th:only-of-type {\n",
       "        vertical-align: middle;\n",
       "    }\n",
       "\n",
       "    .dataframe tbody tr th {\n",
       "        vertical-align: top;\n",
       "    }\n",
       "\n",
       "    .dataframe thead th {\n",
       "        text-align: right;\n",
       "    }\n",
       "</style>\n",
       "<table border=\"1\" class=\"dataframe\">\n",
       "  <thead>\n",
       "    <tr style=\"text-align: right;\">\n",
       "      <th></th>\n",
       "      <th>review</th>\n",
       "      <th>score</th>\n",
       "      <th>source</th>\n",
       "    </tr>\n",
       "  </thead>\n",
       "  <tbody>\n",
       "    <tr>\n",
       "      <th>0</th>\n",
       "      <td>A very, very, very slow-moving, aimless movie ...</td>\n",
       "      <td>0</td>\n",
       "      <td>IMDb</td>\n",
       "    </tr>\n",
       "    <tr>\n",
       "      <th>1</th>\n",
       "      <td>Not sure who was more lost - the flat characte...</td>\n",
       "      <td>0</td>\n",
       "      <td>IMDb</td>\n",
       "    </tr>\n",
       "    <tr>\n",
       "      <th>2</th>\n",
       "      <td>Attempting artiness with black &amp; white and cle...</td>\n",
       "      <td>0</td>\n",
       "      <td>IMDb</td>\n",
       "    </tr>\n",
       "    <tr>\n",
       "      <th>3</th>\n",
       "      <td>Very little music or anything to speak of.</td>\n",
       "      <td>0</td>\n",
       "      <td>IMDb</td>\n",
       "    </tr>\n",
       "    <tr>\n",
       "      <th>4</th>\n",
       "      <td>The best scene in the movie was when Gerardo i...</td>\n",
       "      <td>1</td>\n",
       "      <td>IMDb</td>\n",
       "    </tr>\n",
       "    <tr>\n",
       "      <th>...</th>\n",
       "      <td>...</td>\n",
       "      <td>...</td>\n",
       "      <td>...</td>\n",
       "    </tr>\n",
       "    <tr>\n",
       "      <th>995</th>\n",
       "      <td>I just got bored watching Jessice Lange take h...</td>\n",
       "      <td>0</td>\n",
       "      <td>IMDb</td>\n",
       "    </tr>\n",
       "    <tr>\n",
       "      <th>996</th>\n",
       "      <td>Unfortunately, any virtue in this film's produ...</td>\n",
       "      <td>0</td>\n",
       "      <td>IMDb</td>\n",
       "    </tr>\n",
       "    <tr>\n",
       "      <th>997</th>\n",
       "      <td>In a word, it is embarrassing.</td>\n",
       "      <td>0</td>\n",
       "      <td>IMDb</td>\n",
       "    </tr>\n",
       "    <tr>\n",
       "      <th>998</th>\n",
       "      <td>Exceptionally bad!</td>\n",
       "      <td>0</td>\n",
       "      <td>IMDb</td>\n",
       "    </tr>\n",
       "    <tr>\n",
       "      <th>999</th>\n",
       "      <td>All in all its an insult to one's intelligence...</td>\n",
       "      <td>0</td>\n",
       "      <td>IMDb</td>\n",
       "    </tr>\n",
       "  </tbody>\n",
       "</table>\n",
       "<p>1000 rows × 3 columns</p>\n",
       "</div>"
      ],
      "text/plain": [
       "                                                review score source\n",
       "0    A very, very, very slow-moving, aimless movie ...     0   IMDb\n",
       "1    Not sure who was more lost - the flat characte...     0   IMDb\n",
       "2    Attempting artiness with black & white and cle...     0   IMDb\n",
       "3         Very little music or anything to speak of.       0   IMDb\n",
       "4    The best scene in the movie was when Gerardo i...     1   IMDb\n",
       "..                                                 ...   ...    ...\n",
       "995  I just got bored watching Jessice Lange take h...     0   IMDb\n",
       "996  Unfortunately, any virtue in this film's produ...     0   IMDb\n",
       "997                   In a word, it is embarrassing.       0   IMDb\n",
       "998                               Exceptionally bad!       0   IMDb\n",
       "999  All in all its an insult to one's intelligence...     0   IMDb\n",
       "\n",
       "[1000 rows x 3 columns]"
      ]
     },
     "execution_count": 15,
     "metadata": {},
     "output_type": "execute_result"
    }
   ],
   "source": [
    "imdb_clean"
   ]
  },
  {
   "cell_type": "code",
   "execution_count": 16,
   "id": "755748b4",
   "metadata": {},
   "outputs": [
    {
     "data": {
      "text/html": [
       "<div>\n",
       "<style scoped>\n",
       "    .dataframe tbody tr th:only-of-type {\n",
       "        vertical-align: middle;\n",
       "    }\n",
       "\n",
       "    .dataframe tbody tr th {\n",
       "        vertical-align: top;\n",
       "    }\n",
       "\n",
       "    .dataframe thead th {\n",
       "        text-align: right;\n",
       "    }\n",
       "</style>\n",
       "<table border=\"1\" class=\"dataframe\">\n",
       "  <thead>\n",
       "    <tr style=\"text-align: right;\">\n",
       "      <th></th>\n",
       "      <th>review</th>\n",
       "      <th>score</th>\n",
       "      <th>source</th>\n",
       "    </tr>\n",
       "  </thead>\n",
       "  <tbody>\n",
       "    <tr>\n",
       "      <th>0</th>\n",
       "      <td>So there is no way for me to plug it in here i...</td>\n",
       "      <td>0</td>\n",
       "      <td>Amazon</td>\n",
       "    </tr>\n",
       "    <tr>\n",
       "      <th>1</th>\n",
       "      <td>Good case, Excellent value.</td>\n",
       "      <td>1</td>\n",
       "      <td>Amazon</td>\n",
       "    </tr>\n",
       "    <tr>\n",
       "      <th>2</th>\n",
       "      <td>Great for the jawbone.</td>\n",
       "      <td>1</td>\n",
       "      <td>Amazon</td>\n",
       "    </tr>\n",
       "    <tr>\n",
       "      <th>3</th>\n",
       "      <td>Tied to charger for conversations lasting more...</td>\n",
       "      <td>0</td>\n",
       "      <td>Amazon</td>\n",
       "    </tr>\n",
       "    <tr>\n",
       "      <th>4</th>\n",
       "      <td>The mic is great.</td>\n",
       "      <td>1</td>\n",
       "      <td>Amazon</td>\n",
       "    </tr>\n",
       "    <tr>\n",
       "      <th>...</th>\n",
       "      <td>...</td>\n",
       "      <td>...</td>\n",
       "      <td>...</td>\n",
       "    </tr>\n",
       "    <tr>\n",
       "      <th>2995</th>\n",
       "      <td>I think food should have flavor and texture an...</td>\n",
       "      <td>0</td>\n",
       "      <td>Yelp</td>\n",
       "    </tr>\n",
       "    <tr>\n",
       "      <th>2996</th>\n",
       "      <td>Appetite instantly gone.</td>\n",
       "      <td>0</td>\n",
       "      <td>Yelp</td>\n",
       "    </tr>\n",
       "    <tr>\n",
       "      <th>2997</th>\n",
       "      <td>Overall I was not impressed and would not go b...</td>\n",
       "      <td>0</td>\n",
       "      <td>Yelp</td>\n",
       "    </tr>\n",
       "    <tr>\n",
       "      <th>2998</th>\n",
       "      <td>The whole experience was underwhelming, and I ...</td>\n",
       "      <td>0</td>\n",
       "      <td>Yelp</td>\n",
       "    </tr>\n",
       "    <tr>\n",
       "      <th>2999</th>\n",
       "      <td>Then, as if I hadn't wasted enough of my life ...</td>\n",
       "      <td>0</td>\n",
       "      <td>Yelp</td>\n",
       "    </tr>\n",
       "  </tbody>\n",
       "</table>\n",
       "<p>3000 rows × 3 columns</p>\n",
       "</div>"
      ],
      "text/plain": [
       "                                                 review score  source\n",
       "0     So there is no way for me to plug it in here i...     0  Amazon\n",
       "1                           Good case, Excellent value.     1  Amazon\n",
       "2                                Great for the jawbone.     1  Amazon\n",
       "3     Tied to charger for conversations lasting more...     0  Amazon\n",
       "4                                     The mic is great.     1  Amazon\n",
       "...                                                 ...   ...     ...\n",
       "2995  I think food should have flavor and texture an...     0    Yelp\n",
       "2996                           Appetite instantly gone.     0    Yelp\n",
       "2997  Overall I was not impressed and would not go b...     0    Yelp\n",
       "2998  The whole experience was underwhelming, and I ...     0    Yelp\n",
       "2999  Then, as if I hadn't wasted enough of my life ...     0    Yelp\n",
       "\n",
       "[3000 rows x 3 columns]"
      ]
     },
     "execution_count": 16,
     "metadata": {},
     "output_type": "execute_result"
    }
   ],
   "source": [
    "# combine the datasets into one\n",
    "\n",
    "df = pd.concat([amazon_df, imdb_clean, yelp_df], ignore_index=True)\n",
    "df\n"
   ]
  },
  {
   "cell_type": "code",
   "execution_count": 17,
   "id": "669899c1",
   "metadata": {},
   "outputs": [
    {
     "data": {
      "text/plain": [
       "<Axes: >"
      ]
     },
     "execution_count": 17,
     "metadata": {},
     "output_type": "execute_result"
    },
    {
     "data": {
      "image/png": "[encoded data removed]",
      "text/plain": [
       "<Figure size 640x480 with 1 Axes>"
      ]
     },
     "metadata": {},
     "output_type": "display_data"
    }
   ],
   "source": [
    "df['score'].value_counts().plot(kind='bar')"
   ]
  },
  {
   "cell_type": "code",
   "execution_count": 18,
   "id": "43f15991",
   "metadata": {},
   "outputs": [
    {
     "data": {
      "text/plain": [
       "review    object\n",
       "score     object\n",
       "source    object\n",
       "dtype: object"
      ]
     },
     "execution_count": 18,
     "metadata": {},
     "output_type": "execute_result"
    }
   ],
   "source": [
    "df.dtypes"
   ]
  },
  {
   "cell_type": "code",
   "execution_count": 19,
   "id": "ba3f1f10",
   "metadata": {},
   "outputs": [],
   "source": [
    "df['score'] = df['score'].astype(int)"
   ]
  },
  {
   "cell_type": "code",
   "execution_count": 20,
   "id": "260a2629",
   "metadata": {
    "scrolled": true
   },
   "outputs": [
    {
     "data": {
      "text/plain": [
       "<Axes: >"
      ]
     },
     "execution_count": 20,
     "metadata": {},
     "output_type": "execute_result"
    },
    {
     "data": {
      "image/png": "[encoded data removed]",
      "text/plain": [
       "<Figure size 640x480 with 1 Axes>"
      ]
     },
     "metadata": {},
     "output_type": "display_data"
    }
   ],
   "source": [
    "df['score'].value_counts().plot(kind='bar')"
   ]
  },
  {
   "cell_type": "code",
   "execution_count": 21,
   "id": "f72fb596",
   "metadata": {},
   "outputs": [],
   "source": [
    "# the graph above looks correct, we are expecting 50/50 positive and negative sentiments"
   ]
  },
  {
   "cell_type": "code",
   "execution_count": 22,
   "id": "01c1bdd3",
   "metadata": {},
   "outputs": [],
   "source": [
    "# make text lowecase, remove punctuation, remove punctuation, remove numbers\n",
    "import re\n",
    "import string\n",
    "\n",
    "df_clean = df\n",
    "\n",
    "def clean1(df_clean):\n",
    "    df_clean = df_clean.lower() # make lowercase \n",
    "    df_clean = re.sub('\\[.*?\\]', '', df_clean) # remove text within square brackets\n",
    "    df_clean = re.sub('[%s]' % re.escape(string.punctuation), '', df_clean) # removes punctuation\n",
    "    df_clean = re.sub('\\w*\\d\\w*', '', df_clean) # removes number\n",
    "    return df_clean\n",
    "\n",
    "\n",
    "round1 = lambda x: clean1(x)"
   ]
  },
  {
   "cell_type": "code",
   "execution_count": 23,
   "id": "a6671b2c",
   "metadata": {},
   "outputs": [
    {
     "data": {
      "text/html": [
       "<div>\n",
       "<style scoped>\n",
       "    .dataframe tbody tr th:only-of-type {\n",
       "        vertical-align: middle;\n",
       "    }\n",
       "\n",
       "    .dataframe tbody tr th {\n",
       "        vertical-align: top;\n",
       "    }\n",
       "\n",
       "    .dataframe thead th {\n",
       "        text-align: right;\n",
       "    }\n",
       "</style>\n",
       "<table border=\"1\" class=\"dataframe\">\n",
       "  <thead>\n",
       "    <tr style=\"text-align: right;\">\n",
       "      <th></th>\n",
       "      <th>review</th>\n",
       "    </tr>\n",
       "  </thead>\n",
       "  <tbody>\n",
       "    <tr>\n",
       "      <th>0</th>\n",
       "      <td>so there is no way for me to plug it in here i...</td>\n",
       "    </tr>\n",
       "    <tr>\n",
       "      <th>1</th>\n",
       "      <td>good case excellent value</td>\n",
       "    </tr>\n",
       "    <tr>\n",
       "      <th>2</th>\n",
       "      <td>great for the jawbone</td>\n",
       "    </tr>\n",
       "    <tr>\n",
       "      <th>3</th>\n",
       "      <td>tied to charger for conversations lasting more...</td>\n",
       "    </tr>\n",
       "    <tr>\n",
       "      <th>4</th>\n",
       "      <td>the mic is great</td>\n",
       "    </tr>\n",
       "    <tr>\n",
       "      <th>...</th>\n",
       "      <td>...</td>\n",
       "    </tr>\n",
       "    <tr>\n",
       "      <th>2995</th>\n",
       "      <td>i think food should have flavor and texture an...</td>\n",
       "    </tr>\n",
       "    <tr>\n",
       "      <th>2996</th>\n",
       "      <td>appetite instantly gone</td>\n",
       "    </tr>\n",
       "    <tr>\n",
       "      <th>2997</th>\n",
       "      <td>overall i was not impressed and would not go back</td>\n",
       "    </tr>\n",
       "    <tr>\n",
       "      <th>2998</th>\n",
       "      <td>the whole experience was underwhelming and i t...</td>\n",
       "    </tr>\n",
       "    <tr>\n",
       "      <th>2999</th>\n",
       "      <td>then as if i hadnt wasted enough of my life th...</td>\n",
       "    </tr>\n",
       "  </tbody>\n",
       "</table>\n",
       "<p>3000 rows × 1 columns</p>\n",
       "</div>"
      ],
      "text/plain": [
       "                                                 review\n",
       "0     so there is no way for me to plug it in here i...\n",
       "1                             good case excellent value\n",
       "2                                 great for the jawbone\n",
       "3     tied to charger for conversations lasting more...\n",
       "4                                      the mic is great\n",
       "...                                                 ...\n",
       "2995  i think food should have flavor and texture an...\n",
       "2996                            appetite instantly gone\n",
       "2997  overall i was not impressed and would not go back\n",
       "2998  the whole experience was underwhelming and i t...\n",
       "2999  then as if i hadnt wasted enough of my life th...\n",
       "\n",
       "[3000 rows x 1 columns]"
      ]
     },
     "execution_count": 23,
     "metadata": {},
     "output_type": "execute_result"
    }
   ],
   "source": [
    "df_clean = pd.DataFrame(df_clean.review.apply(round1))\n",
    "df_clean"
   ]
  },
  {
   "cell_type": "code",
   "execution_count": 24,
   "id": "c1173ef8",
   "metadata": {},
   "outputs": [],
   "source": [
    "def clean2(df_clean):\n",
    "    df_clean = re.sub('[‘’“”…]', '', df_clean)\n",
    "    df_clean = re.sub('\\n', '', df_clean)\n",
    "    return df_clean\n",
    "\n",
    "round2 = lambda x: clean2(x)"
   ]
  },
  {
   "cell_type": "code",
   "execution_count": 25,
   "id": "db31e3a6",
   "metadata": {},
   "outputs": [
    {
     "data": {
      "text/html": [
       "<div>\n",
       "<style scoped>\n",
       "    .dataframe tbody tr th:only-of-type {\n",
       "        vertical-align: middle;\n",
       "    }\n",
       "\n",
       "    .dataframe tbody tr th {\n",
       "        vertical-align: top;\n",
       "    }\n",
       "\n",
       "    .dataframe thead th {\n",
       "        text-align: right;\n",
       "    }\n",
       "</style>\n",
       "<table border=\"1\" class=\"dataframe\">\n",
       "  <thead>\n",
       "    <tr style=\"text-align: right;\">\n",
       "      <th></th>\n",
       "      <th>review</th>\n",
       "    </tr>\n",
       "  </thead>\n",
       "  <tbody>\n",
       "    <tr>\n",
       "      <th>0</th>\n",
       "      <td>so there is no way for me to plug it in here i...</td>\n",
       "    </tr>\n",
       "    <tr>\n",
       "      <th>1</th>\n",
       "      <td>good case excellent value</td>\n",
       "    </tr>\n",
       "    <tr>\n",
       "      <th>2</th>\n",
       "      <td>great for the jawbone</td>\n",
       "    </tr>\n",
       "    <tr>\n",
       "      <th>3</th>\n",
       "      <td>tied to charger for conversations lasting more...</td>\n",
       "    </tr>\n",
       "    <tr>\n",
       "      <th>4</th>\n",
       "      <td>the mic is great</td>\n",
       "    </tr>\n",
       "    <tr>\n",
       "      <th>...</th>\n",
       "      <td>...</td>\n",
       "    </tr>\n",
       "    <tr>\n",
       "      <th>2995</th>\n",
       "      <td>i think food should have flavor and texture an...</td>\n",
       "    </tr>\n",
       "    <tr>\n",
       "      <th>2996</th>\n",
       "      <td>appetite instantly gone</td>\n",
       "    </tr>\n",
       "    <tr>\n",
       "      <th>2997</th>\n",
       "      <td>overall i was not impressed and would not go back</td>\n",
       "    </tr>\n",
       "    <tr>\n",
       "      <th>2998</th>\n",
       "      <td>the whole experience was underwhelming and i t...</td>\n",
       "    </tr>\n",
       "    <tr>\n",
       "      <th>2999</th>\n",
       "      <td>then as if i hadnt wasted enough of my life th...</td>\n",
       "    </tr>\n",
       "  </tbody>\n",
       "</table>\n",
       "<p>3000 rows × 1 columns</p>\n",
       "</div>"
      ],
      "text/plain": [
       "                                                 review\n",
       "0     so there is no way for me to plug it in here i...\n",
       "1                             good case excellent value\n",
       "2                                 great for the jawbone\n",
       "3     tied to charger for conversations lasting more...\n",
       "4                                      the mic is great\n",
       "...                                                 ...\n",
       "2995  i think food should have flavor and texture an...\n",
       "2996                            appetite instantly gone\n",
       "2997  overall i was not impressed and would not go back\n",
       "2998  the whole experience was underwhelming and i t...\n",
       "2999  then as if i hadnt wasted enough of my life th...\n",
       "\n",
       "[3000 rows x 1 columns]"
      ]
     },
     "execution_count": 25,
     "metadata": {},
     "output_type": "execute_result"
    }
   ],
   "source": [
    "df_clean = pd.DataFrame(df_clean.review.apply(round2))\n",
    "df_clean"
   ]
  },
  {
   "cell_type": "code",
   "execution_count": 26,
   "id": "e1858cc4",
   "metadata": {},
   "outputs": [
    {
     "data": {
      "text/html": [
       "<div>\n",
       "<style scoped>\n",
       "    .dataframe tbody tr th:only-of-type {\n",
       "        vertical-align: middle;\n",
       "    }\n",
       "\n",
       "    .dataframe tbody tr th {\n",
       "        vertical-align: top;\n",
       "    }\n",
       "\n",
       "    .dataframe thead th {\n",
       "        text-align: right;\n",
       "    }\n",
       "</style>\n",
       "<table border=\"1\" class=\"dataframe\">\n",
       "  <thead>\n",
       "    <tr style=\"text-align: right;\">\n",
       "      <th></th>\n",
       "      <th>review</th>\n",
       "      <th>score</th>\n",
       "      <th>source</th>\n",
       "      <th>cleaned_review</th>\n",
       "    </tr>\n",
       "  </thead>\n",
       "  <tbody>\n",
       "    <tr>\n",
       "      <th>0</th>\n",
       "      <td>So there is no way for me to plug it in here i...</td>\n",
       "      <td>0</td>\n",
       "      <td>Amazon</td>\n",
       "      <td>so there is no way for me to plug it in here i...</td>\n",
       "    </tr>\n",
       "    <tr>\n",
       "      <th>1</th>\n",
       "      <td>Good case, Excellent value.</td>\n",
       "      <td>1</td>\n",
       "      <td>Amazon</td>\n",
       "      <td>good case excellent value</td>\n",
       "    </tr>\n",
       "    <tr>\n",
       "      <th>2</th>\n",
       "      <td>Great for the jawbone.</td>\n",
       "      <td>1</td>\n",
       "      <td>Amazon</td>\n",
       "      <td>great for the jawbone</td>\n",
       "    </tr>\n",
       "    <tr>\n",
       "      <th>3</th>\n",
       "      <td>Tied to charger for conversations lasting more...</td>\n",
       "      <td>0</td>\n",
       "      <td>Amazon</td>\n",
       "      <td>tied to charger for conversations lasting more...</td>\n",
       "    </tr>\n",
       "    <tr>\n",
       "      <th>4</th>\n",
       "      <td>The mic is great.</td>\n",
       "      <td>1</td>\n",
       "      <td>Amazon</td>\n",
       "      <td>the mic is great</td>\n",
       "    </tr>\n",
       "    <tr>\n",
       "      <th>...</th>\n",
       "      <td>...</td>\n",
       "      <td>...</td>\n",
       "      <td>...</td>\n",
       "      <td>...</td>\n",
       "    </tr>\n",
       "    <tr>\n",
       "      <th>2995</th>\n",
       "      <td>I think food should have flavor and texture an...</td>\n",
       "      <td>0</td>\n",
       "      <td>Yelp</td>\n",
       "      <td>i think food should have flavor and texture an...</td>\n",
       "    </tr>\n",
       "    <tr>\n",
       "      <th>2996</th>\n",
       "      <td>Appetite instantly gone.</td>\n",
       "      <td>0</td>\n",
       "      <td>Yelp</td>\n",
       "      <td>appetite instantly gone</td>\n",
       "    </tr>\n",
       "    <tr>\n",
       "      <th>2997</th>\n",
       "      <td>Overall I was not impressed and would not go b...</td>\n",
       "      <td>0</td>\n",
       "      <td>Yelp</td>\n",
       "      <td>overall i was not impressed and would not go back</td>\n",
       "    </tr>\n",
       "    <tr>\n",
       "      <th>2998</th>\n",
       "      <td>The whole experience was underwhelming, and I ...</td>\n",
       "      <td>0</td>\n",
       "      <td>Yelp</td>\n",
       "      <td>the whole experience was underwhelming and i t...</td>\n",
       "    </tr>\n",
       "    <tr>\n",
       "      <th>2999</th>\n",
       "      <td>Then, as if I hadn't wasted enough of my life ...</td>\n",
       "      <td>0</td>\n",
       "      <td>Yelp</td>\n",
       "      <td>then as if i hadnt wasted enough of my life th...</td>\n",
       "    </tr>\n",
       "  </tbody>\n",
       "</table>\n",
       "<p>3000 rows × 4 columns</p>\n",
       "</div>"
      ],
      "text/plain": [
       "                                                 review  score  source  \\\n",
       "0     So there is no way for me to plug it in here i...      0  Amazon   \n",
       "1                           Good case, Excellent value.      1  Amazon   \n",
       "2                                Great for the jawbone.      1  Amazon   \n",
       "3     Tied to charger for conversations lasting more...      0  Amazon   \n",
       "4                                     The mic is great.      1  Amazon   \n",
       "...                                                 ...    ...     ...   \n",
       "2995  I think food should have flavor and texture an...      0    Yelp   \n",
       "2996                           Appetite instantly gone.      0    Yelp   \n",
       "2997  Overall I was not impressed and would not go b...      0    Yelp   \n",
       "2998  The whole experience was underwhelming, and I ...      0    Yelp   \n",
       "2999  Then, as if I hadn't wasted enough of my life ...      0    Yelp   \n",
       "\n",
       "                                         cleaned_review  \n",
       "0     so there is no way for me to plug it in here i...  \n",
       "1                             good case excellent value  \n",
       "2                                 great for the jawbone  \n",
       "3     tied to charger for conversations lasting more...  \n",
       "4                                      the mic is great  \n",
       "...                                                 ...  \n",
       "2995  i think food should have flavor and texture an...  \n",
       "2996                            appetite instantly gone  \n",
       "2997  overall i was not impressed and would not go back  \n",
       "2998  the whole experience was underwhelming and i t...  \n",
       "2999  then as if i hadnt wasted enough of my life th...  \n",
       "\n",
       "[3000 rows x 4 columns]"
      ]
     },
     "execution_count": 26,
     "metadata": {},
     "output_type": "execute_result"
    }
   ],
   "source": [
    "df['cleaned_review'] = df_clean['review']\n",
    "df"
   ]
  },
  {
   "cell_type": "code",
   "execution_count": 27,
   "id": "2cd85a45",
   "metadata": {},
   "outputs": [
    {
     "data": {
      "text/plain": [
       "0        82\n",
       "1        27\n",
       "2        22\n",
       "3        79\n",
       "4        17\n",
       "       ... \n",
       "2995     66\n",
       "2996     24\n",
       "2997     50\n",
       "2998     91\n",
       "2999    134\n",
       "Name: review, Length: 3000, dtype: int64"
      ]
     },
     "execution_count": 27,
     "metadata": {},
     "output_type": "execute_result"
    }
   ],
   "source": [
    "review_len = df.review.str.len()\n",
    "review_len"
   ]
  },
  {
   "cell_type": "code",
   "execution_count": 28,
   "id": "2f75068c",
   "metadata": {},
   "outputs": [
    {
     "name": "stdout",
     "output_type": "stream",
     "text": [
      "Total number of words are: 195827\n",
      "Minimum number of words: 7\n",
      "Median number of words: 55.5\n",
      "Average number of words: 65.27566666666667\n",
      "Maximum number of words: 479\n"
     ]
    }
   ],
   "source": [
    "l = [len(i) for i in df.review]\n",
    "l = np.array(l)\n",
    "\n",
    "print('Total number of words are: {}'.format(np.sum(l)))\n",
    "print('Minimum number of words: {}'.format(l.min()))\n",
    "print('Median number of words: {}'.format(np.median(l)))\n",
    "print('Average number of words: {}'.format(l.mean()))\n",
    "print('Maximum number of words: {}'.format(l.max()))"
   ]
  },
  {
   "cell_type": "code",
   "execution_count": 29,
   "id": "ec7737ff",
   "metadata": {},
   "outputs": [
    {
     "data": {
      "text/html": [
       "<div>\n",
       "<style scoped>\n",
       "    .dataframe tbody tr th:only-of-type {\n",
       "        vertical-align: middle;\n",
       "    }\n",
       "\n",
       "    .dataframe tbody tr th {\n",
       "        vertical-align: top;\n",
       "    }\n",
       "\n",
       "    .dataframe thead th {\n",
       "        text-align: right;\n",
       "    }\n",
       "</style>\n",
       "<table border=\"1\" class=\"dataframe\">\n",
       "  <thead>\n",
       "    <tr style=\"text-align: right;\">\n",
       "      <th></th>\n",
       "      <th>review</th>\n",
       "      <th>score</th>\n",
       "      <th>source</th>\n",
       "      <th>cleaned_review</th>\n",
       "      <th>word_count</th>\n",
       "    </tr>\n",
       "  </thead>\n",
       "  <tbody>\n",
       "    <tr>\n",
       "      <th>0</th>\n",
       "      <td>So there is no way for me to plug it in here i...</td>\n",
       "      <td>0</td>\n",
       "      <td>Amazon</td>\n",
       "      <td>so there is no way for me to plug it in here i...</td>\n",
       "      <td>21</td>\n",
       "    </tr>\n",
       "    <tr>\n",
       "      <th>1</th>\n",
       "      <td>Good case, Excellent value.</td>\n",
       "      <td>1</td>\n",
       "      <td>Amazon</td>\n",
       "      <td>good case excellent value</td>\n",
       "      <td>4</td>\n",
       "    </tr>\n",
       "    <tr>\n",
       "      <th>2</th>\n",
       "      <td>Great for the jawbone.</td>\n",
       "      <td>1</td>\n",
       "      <td>Amazon</td>\n",
       "      <td>great for the jawbone</td>\n",
       "      <td>4</td>\n",
       "    </tr>\n",
       "    <tr>\n",
       "      <th>3</th>\n",
       "      <td>Tied to charger for conversations lasting more...</td>\n",
       "      <td>0</td>\n",
       "      <td>Amazon</td>\n",
       "      <td>tied to charger for conversations lasting more...</td>\n",
       "      <td>11</td>\n",
       "    </tr>\n",
       "    <tr>\n",
       "      <th>4</th>\n",
       "      <td>The mic is great.</td>\n",
       "      <td>1</td>\n",
       "      <td>Amazon</td>\n",
       "      <td>the mic is great</td>\n",
       "      <td>4</td>\n",
       "    </tr>\n",
       "    <tr>\n",
       "      <th>...</th>\n",
       "      <td>...</td>\n",
       "      <td>...</td>\n",
       "      <td>...</td>\n",
       "      <td>...</td>\n",
       "      <td>...</td>\n",
       "    </tr>\n",
       "    <tr>\n",
       "      <th>2995</th>\n",
       "      <td>I think food should have flavor and texture an...</td>\n",
       "      <td>0</td>\n",
       "      <td>Yelp</td>\n",
       "      <td>i think food should have flavor and texture an...</td>\n",
       "      <td>12</td>\n",
       "    </tr>\n",
       "    <tr>\n",
       "      <th>2996</th>\n",
       "      <td>Appetite instantly gone.</td>\n",
       "      <td>0</td>\n",
       "      <td>Yelp</td>\n",
       "      <td>appetite instantly gone</td>\n",
       "      <td>3</td>\n",
       "    </tr>\n",
       "    <tr>\n",
       "      <th>2997</th>\n",
       "      <td>Overall I was not impressed and would not go b...</td>\n",
       "      <td>0</td>\n",
       "      <td>Yelp</td>\n",
       "      <td>overall i was not impressed and would not go back</td>\n",
       "      <td>10</td>\n",
       "    </tr>\n",
       "    <tr>\n",
       "      <th>2998</th>\n",
       "      <td>The whole experience was underwhelming, and I ...</td>\n",
       "      <td>0</td>\n",
       "      <td>Yelp</td>\n",
       "      <td>the whole experience was underwhelming and i t...</td>\n",
       "      <td>16</td>\n",
       "    </tr>\n",
       "    <tr>\n",
       "      <th>2999</th>\n",
       "      <td>Then, as if I hadn't wasted enough of my life ...</td>\n",
       "      <td>0</td>\n",
       "      <td>Yelp</td>\n",
       "      <td>then as if i hadnt wasted enough of my life th...</td>\n",
       "      <td>28</td>\n",
       "    </tr>\n",
       "  </tbody>\n",
       "</table>\n",
       "<p>3000 rows × 5 columns</p>\n",
       "</div>"
      ],
      "text/plain": [
       "                                                 review  score  source  \\\n",
       "0     So there is no way for me to plug it in here i...      0  Amazon   \n",
       "1                           Good case, Excellent value.      1  Amazon   \n",
       "2                                Great for the jawbone.      1  Amazon   \n",
       "3     Tied to charger for conversations lasting more...      0  Amazon   \n",
       "4                                     The mic is great.      1  Amazon   \n",
       "...                                                 ...    ...     ...   \n",
       "2995  I think food should have flavor and texture an...      0    Yelp   \n",
       "2996                           Appetite instantly gone.      0    Yelp   \n",
       "2997  Overall I was not impressed and would not go b...      0    Yelp   \n",
       "2998  The whole experience was underwhelming, and I ...      0    Yelp   \n",
       "2999  Then, as if I hadn't wasted enough of my life ...      0    Yelp   \n",
       "\n",
       "                                         cleaned_review  word_count  \n",
       "0     so there is no way for me to plug it in here i...          21  \n",
       "1                             good case excellent value           4  \n",
       "2                                 great for the jawbone           4  \n",
       "3     tied to charger for conversations lasting more...          11  \n",
       "4                                      the mic is great           4  \n",
       "...                                                 ...         ...  \n",
       "2995  i think food should have flavor and texture an...          12  \n",
       "2996                            appetite instantly gone           3  \n",
       "2997  overall i was not impressed and would not go back          10  \n",
       "2998  the whole experience was underwhelming and i t...          16  \n",
       "2999  then as if i hadnt wasted enough of my life th...          28  \n",
       "\n",
       "[3000 rows x 5 columns]"
      ]
     },
     "execution_count": 29,
     "metadata": {},
     "output_type": "execute_result"
    }
   ],
   "source": [
    "def count_words(review):\n",
    "    # Split reviews into words/tokens\n",
    "    words = review.split()\n",
    "    return len(words)\n",
    "\n",
    "\n",
    "df['word_count'] = df['review'].apply(count_words)\n",
    "\n",
    "df"
   ]
  },
  {
   "cell_type": "code",
   "execution_count": 30,
   "id": "4bfa6fec",
   "metadata": {},
   "outputs": [
    {
     "data": {
      "text/html": [
       "<div>\n",
       "<style scoped>\n",
       "    .dataframe tbody tr th:only-of-type {\n",
       "        vertical-align: middle;\n",
       "    }\n",
       "\n",
       "    .dataframe tbody tr th {\n",
       "        vertical-align: top;\n",
       "    }\n",
       "\n",
       "    .dataframe thead th {\n",
       "        text-align: right;\n",
       "    }\n",
       "</style>\n",
       "<table border=\"1\" class=\"dataframe\">\n",
       "  <thead>\n",
       "    <tr style=\"text-align: right;\">\n",
       "      <th></th>\n",
       "      <th>score</th>\n",
       "      <th>word_count</th>\n",
       "      <th>review</th>\n",
       "      <th>cleaned_review</th>\n",
       "    </tr>\n",
       "  </thead>\n",
       "  <tbody>\n",
       "    <tr>\n",
       "      <th>0</th>\n",
       "      <td>0</td>\n",
       "      <td>21</td>\n",
       "      <td>So there is no way for me to plug it in here i...</td>\n",
       "      <td>so there is no way for me to plug it in here i...</td>\n",
       "    </tr>\n",
       "    <tr>\n",
       "      <th>1</th>\n",
       "      <td>1</td>\n",
       "      <td>4</td>\n",
       "      <td>Good case, Excellent value.</td>\n",
       "      <td>good case excellent value</td>\n",
       "    </tr>\n",
       "    <tr>\n",
       "      <th>2</th>\n",
       "      <td>1</td>\n",
       "      <td>4</td>\n",
       "      <td>Great for the jawbone.</td>\n",
       "      <td>great for the jawbone</td>\n",
       "    </tr>\n",
       "    <tr>\n",
       "      <th>3</th>\n",
       "      <td>0</td>\n",
       "      <td>11</td>\n",
       "      <td>Tied to charger for conversations lasting more...</td>\n",
       "      <td>tied to charger for conversations lasting more...</td>\n",
       "    </tr>\n",
       "    <tr>\n",
       "      <th>4</th>\n",
       "      <td>1</td>\n",
       "      <td>4</td>\n",
       "      <td>The mic is great.</td>\n",
       "      <td>the mic is great</td>\n",
       "    </tr>\n",
       "    <tr>\n",
       "      <th>...</th>\n",
       "      <td>...</td>\n",
       "      <td>...</td>\n",
       "      <td>...</td>\n",
       "      <td>...</td>\n",
       "    </tr>\n",
       "    <tr>\n",
       "      <th>2995</th>\n",
       "      <td>0</td>\n",
       "      <td>12</td>\n",
       "      <td>I think food should have flavor and texture an...</td>\n",
       "      <td>i think food should have flavor and texture an...</td>\n",
       "    </tr>\n",
       "    <tr>\n",
       "      <th>2996</th>\n",
       "      <td>0</td>\n",
       "      <td>3</td>\n",
       "      <td>Appetite instantly gone.</td>\n",
       "      <td>appetite instantly gone</td>\n",
       "    </tr>\n",
       "    <tr>\n",
       "      <th>2997</th>\n",
       "      <td>0</td>\n",
       "      <td>10</td>\n",
       "      <td>Overall I was not impressed and would not go b...</td>\n",
       "      <td>overall i was not impressed and would not go back</td>\n",
       "    </tr>\n",
       "    <tr>\n",
       "      <th>2998</th>\n",
       "      <td>0</td>\n",
       "      <td>16</td>\n",
       "      <td>The whole experience was underwhelming, and I ...</td>\n",
       "      <td>the whole experience was underwhelming and i t...</td>\n",
       "    </tr>\n",
       "    <tr>\n",
       "      <th>2999</th>\n",
       "      <td>0</td>\n",
       "      <td>28</td>\n",
       "      <td>Then, as if I hadn't wasted enough of my life ...</td>\n",
       "      <td>then as if i hadnt wasted enough of my life th...</td>\n",
       "    </tr>\n",
       "  </tbody>\n",
       "</table>\n",
       "<p>3000 rows × 4 columns</p>\n",
       "</div>"
      ],
      "text/plain": [
       "      score  word_count                                             review  \\\n",
       "0         0          21  So there is no way for me to plug it in here i...   \n",
       "1         1           4                        Good case, Excellent value.   \n",
       "2         1           4                             Great for the jawbone.   \n",
       "3         0          11  Tied to charger for conversations lasting more...   \n",
       "4         1           4                                  The mic is great.   \n",
       "...     ...         ...                                                ...   \n",
       "2995      0          12  I think food should have flavor and texture an...   \n",
       "2996      0           3                           Appetite instantly gone.   \n",
       "2997      0          10  Overall I was not impressed and would not go b...   \n",
       "2998      0          16  The whole experience was underwhelming, and I ...   \n",
       "2999      0          28  Then, as if I hadn't wasted enough of my life ...   \n",
       "\n",
       "                                         cleaned_review  \n",
       "0     so there is no way for me to plug it in here i...  \n",
       "1                             good case excellent value  \n",
       "2                                 great for the jawbone  \n",
       "3     tied to charger for conversations lasting more...  \n",
       "4                                      the mic is great  \n",
       "...                                                 ...  \n",
       "2995  i think food should have flavor and texture an...  \n",
       "2996                            appetite instantly gone  \n",
       "2997  overall i was not impressed and would not go back  \n",
       "2998  the whole experience was underwhelming and i t...  \n",
       "2999  then as if i hadnt wasted enough of my life th...  \n",
       "\n",
       "[3000 rows x 4 columns]"
      ]
     },
     "metadata": {},
     "output_type": "display_data"
    }
   ],
   "source": [
    "df = df.reindex(\n",
    "    columns=['score', 'word_count', 'review', 'cleaned_review'])\n",
    "display(df)"
   ]
  },
  {
   "cell_type": "code",
   "execution_count": 31,
   "id": "c8f5783c",
   "metadata": {},
   "outputs": [],
   "source": [
    "def clean3(df):\n",
    "    return re.sub('[^a-zA-Z]', ' ', df)\n",
    "\n",
    "\n",
    "df['cleaned_review'] = df['cleaned_review'].apply(clean3)"
   ]
  },
  {
   "cell_type": "code",
   "execution_count": 32,
   "id": "1b7ae8a3",
   "metadata": {},
   "outputs": [
    {
     "data": {
      "text/html": [
       "<div>\n",
       "<style scoped>\n",
       "    .dataframe tbody tr th:only-of-type {\n",
       "        vertical-align: middle;\n",
       "    }\n",
       "\n",
       "    .dataframe tbody tr th {\n",
       "        vertical-align: top;\n",
       "    }\n",
       "\n",
       "    .dataframe thead th {\n",
       "        text-align: right;\n",
       "    }\n",
       "</style>\n",
       "<table border=\"1\" class=\"dataframe\">\n",
       "  <thead>\n",
       "    <tr style=\"text-align: right;\">\n",
       "      <th></th>\n",
       "      <th>score</th>\n",
       "      <th>word_count</th>\n",
       "      <th>review</th>\n",
       "      <th>cleaned_review</th>\n",
       "    </tr>\n",
       "  </thead>\n",
       "  <tbody>\n",
       "    <tr>\n",
       "      <th>0</th>\n",
       "      <td>0</td>\n",
       "      <td>21</td>\n",
       "      <td>So there is no way for me to plug it in here i...</td>\n",
       "      <td>so there is no way for me to plug it in here i...</td>\n",
       "    </tr>\n",
       "    <tr>\n",
       "      <th>1</th>\n",
       "      <td>1</td>\n",
       "      <td>4</td>\n",
       "      <td>Good case, Excellent value.</td>\n",
       "      <td>good case excellent value</td>\n",
       "    </tr>\n",
       "    <tr>\n",
       "      <th>2</th>\n",
       "      <td>1</td>\n",
       "      <td>4</td>\n",
       "      <td>Great for the jawbone.</td>\n",
       "      <td>great for the jawbone</td>\n",
       "    </tr>\n",
       "    <tr>\n",
       "      <th>3</th>\n",
       "      <td>0</td>\n",
       "      <td>11</td>\n",
       "      <td>Tied to charger for conversations lasting more...</td>\n",
       "      <td>tied to charger for conversations lasting more...</td>\n",
       "    </tr>\n",
       "    <tr>\n",
       "      <th>4</th>\n",
       "      <td>1</td>\n",
       "      <td>4</td>\n",
       "      <td>The mic is great.</td>\n",
       "      <td>the mic is great</td>\n",
       "    </tr>\n",
       "    <tr>\n",
       "      <th>...</th>\n",
       "      <td>...</td>\n",
       "      <td>...</td>\n",
       "      <td>...</td>\n",
       "      <td>...</td>\n",
       "    </tr>\n",
       "    <tr>\n",
       "      <th>2995</th>\n",
       "      <td>0</td>\n",
       "      <td>12</td>\n",
       "      <td>I think food should have flavor and texture an...</td>\n",
       "      <td>i think food should have flavor and texture an...</td>\n",
       "    </tr>\n",
       "    <tr>\n",
       "      <th>2996</th>\n",
       "      <td>0</td>\n",
       "      <td>3</td>\n",
       "      <td>Appetite instantly gone.</td>\n",
       "      <td>appetite instantly gone</td>\n",
       "    </tr>\n",
       "    <tr>\n",
       "      <th>2997</th>\n",
       "      <td>0</td>\n",
       "      <td>10</td>\n",
       "      <td>Overall I was not impressed and would not go b...</td>\n",
       "      <td>overall i was not impressed and would not go back</td>\n",
       "    </tr>\n",
       "    <tr>\n",
       "      <th>2998</th>\n",
       "      <td>0</td>\n",
       "      <td>16</td>\n",
       "      <td>The whole experience was underwhelming, and I ...</td>\n",
       "      <td>the whole experience was underwhelming and i t...</td>\n",
       "    </tr>\n",
       "    <tr>\n",
       "      <th>2999</th>\n",
       "      <td>0</td>\n",
       "      <td>28</td>\n",
       "      <td>Then, as if I hadn't wasted enough of my life ...</td>\n",
       "      <td>then as if i hadnt wasted enough of my life th...</td>\n",
       "    </tr>\n",
       "  </tbody>\n",
       "</table>\n",
       "<p>3000 rows × 4 columns</p>\n",
       "</div>"
      ],
      "text/plain": [
       "      score  word_count                                             review  \\\n",
       "0         0          21  So there is no way for me to plug it in here i...   \n",
       "1         1           4                        Good case, Excellent value.   \n",
       "2         1           4                             Great for the jawbone.   \n",
       "3         0          11  Tied to charger for conversations lasting more...   \n",
       "4         1           4                                  The mic is great.   \n",
       "...     ...         ...                                                ...   \n",
       "2995      0          12  I think food should have flavor and texture an...   \n",
       "2996      0           3                           Appetite instantly gone.   \n",
       "2997      0          10  Overall I was not impressed and would not go b...   \n",
       "2998      0          16  The whole experience was underwhelming, and I ...   \n",
       "2999      0          28  Then, as if I hadn't wasted enough of my life ...   \n",
       "\n",
       "                                         cleaned_review  \n",
       "0     so there is no way for me to plug it in here i...  \n",
       "1                             good case excellent value  \n",
       "2                                 great for the jawbone  \n",
       "3     tied to charger for conversations lasting more...  \n",
       "4                                      the mic is great  \n",
       "...                                                 ...  \n",
       "2995  i think food should have flavor and texture an...  \n",
       "2996                            appetite instantly gone  \n",
       "2997  overall i was not impressed and would not go back  \n",
       "2998  the whole experience was underwhelming and i t...  \n",
       "2999  then as if i hadnt wasted enough of my life th...  \n",
       "\n",
       "[3000 rows x 4 columns]"
      ]
     },
     "execution_count": 32,
     "metadata": {},
     "output_type": "execute_result"
    }
   ],
   "source": [
    "df"
   ]
  },
  {
   "cell_type": "code",
   "execution_count": 33,
   "id": "9549319e",
   "metadata": {
    "scrolled": true
   },
   "outputs": [
    {
     "data": {
      "text/html": [
       "<div>\n",
       "<style scoped>\n",
       "    .dataframe tbody tr th:only-of-type {\n",
       "        vertical-align: middle;\n",
       "    }\n",
       "\n",
       "    .dataframe tbody tr th {\n",
       "        vertical-align: top;\n",
       "    }\n",
       "\n",
       "    .dataframe thead th {\n",
       "        text-align: right;\n",
       "    }\n",
       "</style>\n",
       "<table border=\"1\" class=\"dataframe\">\n",
       "  <thead>\n",
       "    <tr style=\"text-align: right;\">\n",
       "      <th></th>\n",
       "      <th>score</th>\n",
       "      <th>word_count</th>\n",
       "      <th>review</th>\n",
       "      <th>cleaned_review</th>\n",
       "    </tr>\n",
       "  </thead>\n",
       "  <tbody>\n",
       "    <tr>\n",
       "      <th>0</th>\n",
       "      <td>0</td>\n",
       "      <td>21</td>\n",
       "      <td>So there is no way for me to plug it in here i...</td>\n",
       "      <td>way plug us unless go converter</td>\n",
       "    </tr>\n",
       "    <tr>\n",
       "      <th>1</th>\n",
       "      <td>1</td>\n",
       "      <td>4</td>\n",
       "      <td>Good case, Excellent value.</td>\n",
       "      <td>good case excellent value</td>\n",
       "    </tr>\n",
       "    <tr>\n",
       "      <th>2</th>\n",
       "      <td>1</td>\n",
       "      <td>4</td>\n",
       "      <td>Great for the jawbone.</td>\n",
       "      <td>great jawbone</td>\n",
       "    </tr>\n",
       "    <tr>\n",
       "      <th>3</th>\n",
       "      <td>0</td>\n",
       "      <td>11</td>\n",
       "      <td>Tied to charger for conversations lasting more...</td>\n",
       "      <td>tied charger conversations lasting minutesmajo...</td>\n",
       "    </tr>\n",
       "    <tr>\n",
       "      <th>4</th>\n",
       "      <td>1</td>\n",
       "      <td>4</td>\n",
       "      <td>The mic is great.</td>\n",
       "      <td>mic great</td>\n",
       "    </tr>\n",
       "    <tr>\n",
       "      <th>...</th>\n",
       "      <td>...</td>\n",
       "      <td>...</td>\n",
       "      <td>...</td>\n",
       "      <td>...</td>\n",
       "    </tr>\n",
       "    <tr>\n",
       "      <th>2995</th>\n",
       "      <td>0</td>\n",
       "      <td>12</td>\n",
       "      <td>I think food should have flavor and texture an...</td>\n",
       "      <td>think food flavor texture lacking</td>\n",
       "    </tr>\n",
       "    <tr>\n",
       "      <th>2996</th>\n",
       "      <td>0</td>\n",
       "      <td>3</td>\n",
       "      <td>Appetite instantly gone.</td>\n",
       "      <td>appetite instantly gone</td>\n",
       "    </tr>\n",
       "    <tr>\n",
       "      <th>2997</th>\n",
       "      <td>0</td>\n",
       "      <td>10</td>\n",
       "      <td>Overall I was not impressed and would not go b...</td>\n",
       "      <td>overall impressed would go back</td>\n",
       "    </tr>\n",
       "    <tr>\n",
       "      <th>2998</th>\n",
       "      <td>0</td>\n",
       "      <td>16</td>\n",
       "      <td>The whole experience was underwhelming, and I ...</td>\n",
       "      <td>whole experience underwhelming think well go n...</td>\n",
       "    </tr>\n",
       "    <tr>\n",
       "      <th>2999</th>\n",
       "      <td>0</td>\n",
       "      <td>28</td>\n",
       "      <td>Then, as if I hadn't wasted enough of my life ...</td>\n",
       "      <td>hadnt wasted enough life poured salt wound dra...</td>\n",
       "    </tr>\n",
       "  </tbody>\n",
       "</table>\n",
       "<p>3000 rows × 4 columns</p>\n",
       "</div>"
      ],
      "text/plain": [
       "      score  word_count                                             review  \\\n",
       "0         0          21  So there is no way for me to plug it in here i...   \n",
       "1         1           4                        Good case, Excellent value.   \n",
       "2         1           4                             Great for the jawbone.   \n",
       "3         0          11  Tied to charger for conversations lasting more...   \n",
       "4         1           4                                  The mic is great.   \n",
       "...     ...         ...                                                ...   \n",
       "2995      0          12  I think food should have flavor and texture an...   \n",
       "2996      0           3                           Appetite instantly gone.   \n",
       "2997      0          10  Overall I was not impressed and would not go b...   \n",
       "2998      0          16  The whole experience was underwhelming, and I ...   \n",
       "2999      0          28  Then, as if I hadn't wasted enough of my life ...   \n",
       "\n",
       "                                         cleaned_review  \n",
       "0                       way plug us unless go converter  \n",
       "1                             good case excellent value  \n",
       "2                                         great jawbone  \n",
       "3     tied charger conversations lasting minutesmajo...  \n",
       "4                                             mic great  \n",
       "...                                                 ...  \n",
       "2995                  think food flavor texture lacking  \n",
       "2996                            appetite instantly gone  \n",
       "2997                    overall impressed would go back  \n",
       "2998  whole experience underwhelming think well go n...  \n",
       "2999  hadnt wasted enough life poured salt wound dra...  \n",
       "\n",
       "[3000 rows x 4 columns]"
      ]
     },
     "metadata": {},
     "output_type": "display_data"
    }
   ],
   "source": [
    "# finally, we will eliminate stop words\n",
    "\n",
    "stop = stopwords.words('english')\n",
    "df['cleaned_review'] = df['cleaned_review'].apply(lambda x: \" \".join(x for x in x.split() if x not in stop))\n",
    "display(df)"
   ]
  },
  {
   "cell_type": "code",
   "execution_count": 34,
   "id": "4607bb8d",
   "metadata": {},
   "outputs": [],
   "source": [
    "# so, we have removed punctuation, capitalization, punctuation, numbers, and stop words.\n",
    "\n",
    "# let's now look at spelling errors\n",
    "\n",
    "from textblob import Blobber, TextBlob"
   ]
  },
  {
   "cell_type": "code",
   "execution_count": 35,
   "id": "2762bb36",
   "metadata": {},
   "outputs": [],
   "source": [
    "#df['cleaned_review'].apply(lambda x: str(tb(x).correct()))"
   ]
  },
  {
   "cell_type": "code",
   "execution_count": 36,
   "id": "42dd2e48",
   "metadata": {},
   "outputs": [
    {
     "data": {
      "text/html": [
       "<div>\n",
       "<style scoped>\n",
       "    .dataframe tbody tr th:only-of-type {\n",
       "        vertical-align: middle;\n",
       "    }\n",
       "\n",
       "    .dataframe tbody tr th {\n",
       "        vertical-align: top;\n",
       "    }\n",
       "\n",
       "    .dataframe thead th {\n",
       "        text-align: right;\n",
       "    }\n",
       "</style>\n",
       "<table border=\"1\" class=\"dataframe\">\n",
       "  <thead>\n",
       "    <tr style=\"text-align: right;\">\n",
       "      <th></th>\n",
       "      <th>score</th>\n",
       "      <th>word_count</th>\n",
       "      <th>review</th>\n",
       "      <th>cleaned_review</th>\n",
       "      <th>polarity</th>\n",
       "      <th>subjectivity</th>\n",
       "    </tr>\n",
       "  </thead>\n",
       "  <tbody>\n",
       "    <tr>\n",
       "      <th>0</th>\n",
       "      <td>0</td>\n",
       "      <td>21</td>\n",
       "      <td>So there is no way for me to plug it in here i...</td>\n",
       "      <td>way plug us unless go converter</td>\n",
       "      <td>0.000000</td>\n",
       "      <td>0.000000</td>\n",
       "    </tr>\n",
       "    <tr>\n",
       "      <th>1</th>\n",
       "      <td>1</td>\n",
       "      <td>4</td>\n",
       "      <td>Good case, Excellent value.</td>\n",
       "      <td>good case excellent value</td>\n",
       "      <td>0.850000</td>\n",
       "      <td>0.800000</td>\n",
       "    </tr>\n",
       "    <tr>\n",
       "      <th>2</th>\n",
       "      <td>1</td>\n",
       "      <td>4</td>\n",
       "      <td>Great for the jawbone.</td>\n",
       "      <td>great jawbone</td>\n",
       "      <td>0.800000</td>\n",
       "      <td>0.750000</td>\n",
       "    </tr>\n",
       "    <tr>\n",
       "      <th>3</th>\n",
       "      <td>0</td>\n",
       "      <td>11</td>\n",
       "      <td>Tied to charger for conversations lasting more...</td>\n",
       "      <td>tied charger conversations lasting minutesmajo...</td>\n",
       "      <td>0.000000</td>\n",
       "      <td>0.000000</td>\n",
       "    </tr>\n",
       "    <tr>\n",
       "      <th>4</th>\n",
       "      <td>1</td>\n",
       "      <td>4</td>\n",
       "      <td>The mic is great.</td>\n",
       "      <td>mic great</td>\n",
       "      <td>0.800000</td>\n",
       "      <td>0.750000</td>\n",
       "    </tr>\n",
       "    <tr>\n",
       "      <th>...</th>\n",
       "      <td>...</td>\n",
       "      <td>...</td>\n",
       "      <td>...</td>\n",
       "      <td>...</td>\n",
       "      <td>...</td>\n",
       "      <td>...</td>\n",
       "    </tr>\n",
       "    <tr>\n",
       "      <th>2995</th>\n",
       "      <td>0</td>\n",
       "      <td>12</td>\n",
       "      <td>I think food should have flavor and texture an...</td>\n",
       "      <td>think food flavor texture lacking</td>\n",
       "      <td>0.000000</td>\n",
       "      <td>0.000000</td>\n",
       "    </tr>\n",
       "    <tr>\n",
       "      <th>2996</th>\n",
       "      <td>0</td>\n",
       "      <td>3</td>\n",
       "      <td>Appetite instantly gone.</td>\n",
       "      <td>appetite instantly gone</td>\n",
       "      <td>0.000000</td>\n",
       "      <td>0.666667</td>\n",
       "    </tr>\n",
       "    <tr>\n",
       "      <th>2997</th>\n",
       "      <td>0</td>\n",
       "      <td>10</td>\n",
       "      <td>Overall I was not impressed and would not go b...</td>\n",
       "      <td>overall impressed would go back</td>\n",
       "      <td>0.333333</td>\n",
       "      <td>0.333333</td>\n",
       "    </tr>\n",
       "    <tr>\n",
       "      <th>2998</th>\n",
       "      <td>0</td>\n",
       "      <td>16</td>\n",
       "      <td>The whole experience was underwhelming, and I ...</td>\n",
       "      <td>whole experience underwhelming think well go n...</td>\n",
       "      <td>0.100000</td>\n",
       "      <td>0.200000</td>\n",
       "    </tr>\n",
       "    <tr>\n",
       "      <th>2999</th>\n",
       "      <td>0</td>\n",
       "      <td>28</td>\n",
       "      <td>Then, as if I hadn't wasted enough of my life ...</td>\n",
       "      <td>hadnt wasted enough life poured salt wound dra...</td>\n",
       "      <td>-0.100000</td>\n",
       "      <td>0.250000</td>\n",
       "    </tr>\n",
       "  </tbody>\n",
       "</table>\n",
       "<p>3000 rows × 6 columns</p>\n",
       "</div>"
      ],
      "text/plain": [
       "      score  word_count                                             review  \\\n",
       "0         0          21  So there is no way for me to plug it in here i...   \n",
       "1         1           4                        Good case, Excellent value.   \n",
       "2         1           4                             Great for the jawbone.   \n",
       "3         0          11  Tied to charger for conversations lasting more...   \n",
       "4         1           4                                  The mic is great.   \n",
       "...     ...         ...                                                ...   \n",
       "2995      0          12  I think food should have flavor and texture an...   \n",
       "2996      0           3                           Appetite instantly gone.   \n",
       "2997      0          10  Overall I was not impressed and would not go b...   \n",
       "2998      0          16  The whole experience was underwhelming, and I ...   \n",
       "2999      0          28  Then, as if I hadn't wasted enough of my life ...   \n",
       "\n",
       "                                         cleaned_review  polarity  \\\n",
       "0                       way plug us unless go converter  0.000000   \n",
       "1                             good case excellent value  0.850000   \n",
       "2                                         great jawbone  0.800000   \n",
       "3     tied charger conversations lasting minutesmajo...  0.000000   \n",
       "4                                             mic great  0.800000   \n",
       "...                                                 ...       ...   \n",
       "2995                  think food flavor texture lacking  0.000000   \n",
       "2996                            appetite instantly gone  0.000000   \n",
       "2997                    overall impressed would go back  0.333333   \n",
       "2998  whole experience underwhelming think well go n...  0.100000   \n",
       "2999  hadnt wasted enough life poured salt wound dra... -0.100000   \n",
       "\n",
       "      subjectivity  \n",
       "0         0.000000  \n",
       "1         0.800000  \n",
       "2         0.750000  \n",
       "3         0.000000  \n",
       "4         0.750000  \n",
       "...            ...  \n",
       "2995      0.000000  \n",
       "2996      0.666667  \n",
       "2997      0.333333  \n",
       "2998      0.200000  \n",
       "2999      0.250000  \n",
       "\n",
       "[3000 rows x 6 columns]"
      ]
     },
     "execution_count": 36,
     "metadata": {},
     "output_type": "execute_result"
    }
   ],
   "source": [
    "polarity = lambda x: TextBlob(x).sentiment.polarity\n",
    "subjectivity = lambda x: TextBlob(x).sentiment.subjectivity\n",
    "\n",
    "df['polarity'] = df['cleaned_review'].apply(polarity)\n",
    "df['subjectivity'] = df['cleaned_review'].apply(subjectivity)\n",
    "\n",
    "df"
   ]
  },
  {
   "cell_type": "code",
   "execution_count": 37,
   "id": "5b2ca2f3",
   "metadata": {},
   "outputs": [],
   "source": [
    "positve = df[df.score == 1]['cleaned_review']\n",
    "negative = df[df.score == 0]['cleaned_review']\n",
    "split_df = [positve, negative]"
   ]
  },
  {
   "cell_type": "code",
   "execution_count": 38,
   "id": "955b93db",
   "metadata": {},
   "outputs": [
    {
     "data": {
      "image/png": "[encoded data removed]",
      "text/plain": [
       "<Figure size 1600x800 with 1 Axes>"
      ]
     },
     "metadata": {},
     "output_type": "display_data"
    },
    {
     "data": {
      "image/png": "[encoded data removed]",
      "text/plain": [
       "<Figure size 1600x800 with 1 Axes>"
      ]
     },
     "metadata": {},
     "output_type": "display_data"
    }
   ],
   "source": [
    "for item in range(2):\n",
    "    plt.figure(figsize=(16, 8))\n",
    "    pd.Series(' '.join([\n",
    "        i for i in split_df[item]\n",
    "    ]).split()).value_counts().head(10).plot(kind='bar')"
   ]
  },
  {
   "cell_type": "code",
   "execution_count": 39,
   "id": "cdd0f34e",
   "metadata": {},
   "outputs": [],
   "source": [
    "unique = set(df['review'].str.replace('[^a-zA-Z]', '').str.lower().str.split(' ').sum())"
   ]
  },
  {
   "cell_type": "code",
   "execution_count": 40,
   "id": "9e47bae8",
   "metadata": {},
   "outputs": [
    {
     "name": "stdout",
     "output_type": "stream",
     "text": [
      "There are 2969 unique words in the merged DataFrame.\n"
     ]
    }
   ],
   "source": [
    "print('There are ' + str(len(unique)) + ' unique words in the merged DataFrame.')"
   ]
  },
  {
   "cell_type": "code",
   "execution_count": 41,
   "id": "1e0f062d",
   "metadata": {},
   "outputs": [
    {
     "name": "stdout",
     "output_type": "stream",
     "text": [
      "Training size: 2400\n",
      "Testing size: 600\n"
     ]
    }
   ],
   "source": [
    "# split data into test and train 80/20\n",
    "from sklearn.model_selection import train_test_split\n",
    "\n",
    "X = df['cleaned_review']\n",
    "y = df['score']\n",
    "X_train, X_test, y_train, y_test = train_test_split(X, y, test_size = 0.20, random_state = 24)\n",
    "\n",
    "# View data splits size\n",
    "print('Training size:', X_train.shape[0])\n",
    "print('Testing size:', X_test.shape[0])"
   ]
  },
  {
   "cell_type": "code",
   "execution_count": 42,
   "id": "aff6c848",
   "metadata": {},
   "outputs": [],
   "source": [
    "# tokenization\n",
    "\n",
    "tokenizer = Tokenizer(oov_token = '<OOV>')\n",
    "split = round(len(df) * 0.8)\n",
    "\n",
    "training_reviews = df['cleaned_review'][:split]\n",
    "training_score = df['score'][:split]\n",
    "\n",
    "test_reviews = df['cleaned_review'][split:]\n",
    "test_score = df['score'][split:]"
   ]
  },
  {
   "cell_type": "code",
   "execution_count": 43,
   "id": "d443af18",
   "metadata": {},
   "outputs": [],
   "source": [
    "training_sentences = []\n",
    "training_labels = []\n",
    "test_sentences = []\n",
    "test_labels = []"
   ]
  },
  {
   "cell_type": "code",
   "execution_count": 44,
   "id": "2eb7187f",
   "metadata": {},
   "outputs": [],
   "source": [
    "for row in training_reviews:\n",
    " training_sentences.append(str(row))\n",
    "\n",
    "for row in training_score:\n",
    " training_labels.append(row)\n",
    "\n",
    "for row in test_reviews:\n",
    " test_sentences.append(str(row))\n",
    "\n",
    "for row in test_score:\n",
    " test_labels.append(row)"
   ]
  },
  {
   "cell_type": "code",
   "execution_count": 45,
   "id": "4a023d37",
   "metadata": {},
   "outputs": [
    {
     "name": "stdout",
     "output_type": "stream",
     "text": [
      "Max sequence length: 73\n"
     ]
    }
   ],
   "source": [
    "word_amount = []\n",
    "\n",
    "for sentence in df.review:\n",
    "    word_amount.append(len(sentence.split(' ')))\n",
    "    \n",
    "max_sequence_len = np.max(word_amount)\n",
    "print(f\"Max sequence length: {max_sequence_len}\")"
   ]
  },
  {
   "cell_type": "code",
   "execution_count": 46,
   "id": "8019c023",
   "metadata": {},
   "outputs": [
    {
     "name": "stdout",
     "output_type": "stream",
     "text": [
      "The vocab has 4611 words.\n"
     ]
    }
   ],
   "source": [
    "vocab_size = 4611\n",
    "embedding_dim = 8\n",
    "max_length = 73\n",
    "trunc_type = 'post'\n",
    "oov_tok = '<OOV>'\n",
    "padding_type = 'post'\n",
    "\n",
    "# Tokenizer\n",
    "tokenizer = Tokenizer(num_words=vocab_size, oov_token=oov_tok)\n",
    "\n",
    "# Fit the tokenizer - train set\n",
    "tokenizer.fit_on_texts(training_sentences)\n",
    "\n",
    "# Word index\n",
    "word_index = tokenizer.word_index\n",
    "\n",
    "print('The vocab has',str(len(word_index)),'words.')"
   ]
  },
  {
   "cell_type": "code",
   "execution_count": 47,
   "id": "5caa0186",
   "metadata": {},
   "outputs": [
    {
     "name": "stdout",
     "output_type": "stream",
     "text": [
      "Padding word length: 8\n"
     ]
    }
   ],
   "source": [
    "embedding_len = round(vocab_size**.25)\n",
    "print(f\"Padding word length: {embedding_len}\")"
   ]
  },
  {
   "cell_type": "code",
   "execution_count": 48,
   "id": "6941986e",
   "metadata": {},
   "outputs": [
    {
     "name": "stdout",
     "output_type": "stream",
     "text": [
      "The vocab has 4611 words.\n"
     ]
    }
   ],
   "source": [
    "# Tokenizer\n",
    "tokenizer = Tokenizer(num_words=vocab_size, oov_token=oov_tok)\n",
    "\n",
    "# Fit the tokenizer - train set\n",
    "tokenizer.fit_on_texts(training_sentences)\n",
    "\n",
    "# Word index\n",
    "word_index = tokenizer.word_index\n",
    "\n",
    "print('The vocab has',str(len(word_index)),'words.')"
   ]
  },
  {
   "cell_type": "code",
   "execution_count": 49,
   "id": "6016db43",
   "metadata": {},
   "outputs": [],
   "source": [
    "# lets set sequences and padding\n",
    "sequences = tokenizer.texts_to_sequences(training_sentences)\n",
    "\n",
    "# Setting padding\n",
    "padded = pad_sequences(sequences, maxlen=max_length, truncating=trunc_type)\n",
    "test_sentences = tokenizer.texts_to_sequences(test_sentences)\n",
    "test_padded = pad_sequences(test_sentences, maxlen=max_length)"
   ]
  },
  {
   "cell_type": "code",
   "execution_count": 50,
   "id": "121745db",
   "metadata": {},
   "outputs": [
    {
     "name": "stdout",
     "output_type": "stream",
     "text": [
      "\n",
      "Training sequences:\n",
      " ['way plug us unless go converter', 'good case excellent value', 'great jawbone', 'tied charger conversations lasting minutesmajor problems', 'mic great', 'jiggle plug get line right get decent volume', 'several dozen several hundred contacts imagine fun sending one one', 'razr owneryou must', 'needless say wasted money', 'waste money time', 'sound quality great', 'impressed going original battery extended battery', 'two seperated mere ft started notice excessive static garbled sound headset', 'good quality though', 'design odd ear clip comfortable', 'highly recommend one blue tooth phone', 'advise everyone fooled', 'far good', 'works great', 'clicks place way makes wonder long mechanism would last', 'went motorolas website followed directions could get pair', 'bought use kindle fire absolutely loved', 'commercials misleading', 'yet run new battery two bars thats three days without charging', 'bought mother problem battery', 'great pocket pc phone combination', 'ive owned phone months say best mobile phone ive', 'didnt think instructions provided helpful', 'people couldnt hear talk pull earphone talk phone', 'doesnt hold charge', 'simple little phone use breakage unacceptible', 'product ideal people like whose ears sensitive', 'unusable moving car freeway speed', 'two years left contract hate phone', 'car charger well ac charger included make sure never run juicehighy recommended', 'need least mins get phone book time first turn phonebattery life short', 'kept well', 'poor talk time performance', 'case great works fine', 'worthless product', 'great camera thats pics nice clear great picture quality', 'impressed product', 'nice headset priced right', 'hear garbage audio', 'excellent bluetooth headset', 'features want', 'right mind gonna buy battery', 'arguing verizon regarding dropped calls returned phones two days', 'case seems well made', 'disappointed battery', 'loud enough doesnt turn like', 'good protection make phone bulky', 'usable keyboard actually turns pda realworld useful machine instead neat gadget', 'phone pretty sturdy ive never large problems', 'love thing', 'everything fine reasonable price ie', 'disappointed', 'even dropped phone stream submerged seconds still works great', 'happy complaints one regarding sound quality end', 'buttons bad', 'essentially forget microsofts tech support', 'really recommend faceplates since looks nice elegant cool', 'headphones great find think perhaps best purchase ive made last several years seriously', 'buy different phone', 'hold phone particular angle party hear clearly', 'one big drawback player buttons phones front cover let pause skip songs lock seconds', 'week later activated suddenly died', 'feels comfortable headsets wear glasses gets way sometimes', 'great ipods', 'device great several', 'mic doesnt work', 'even bmw series fairly quiet trouble hearing person saying', 'great choice', 'nice docking station home work', 'beautiful phone', 'love product', 'buy advertised', 'great little item', 'love phone handy lot features', 'purchased within days longer working', 'wear everyday holds well', 'good bargain', 'well packaged arrived time works intended', 'battery runs quickly', 'item worked great broke months use', 'headsets easy use everyone loves', 'phone works great', 'construction headsets poor', 'product excellent works better verizon one boy cheaper', 'phone loads super', 'product costs much one expect work far better greater ease thing', 'made sturdy', 'worked great', 'ear buds play music one ear', 'dont waste money', 'order', 'plan use car forget', 'found product waaay big', 'best ive found far ive tried bluetooths one best quality listener well ease using', 'im disappointed decision', 'integrated seamlessly motorola razr phone', 'buyer beware could flush money right toilet', 'definitely bargain', 'price good free shipping good purchase', 'received supposedly new motorola apparently match phone charger', 'prosgood camera nice pictures also cool styles like black white', 'thats huge design flaw unless im using correctly dont think case', 'love headset bluetooth headset great reception good ear piece comfortable fit', 'camera although rated impressive megapixels renders images fall well expectations relatively high resolution', 'purcashed car charger work', 'sound quality end excellent use headset call wife ask wife use headset call', 'phone slim light display beautiful', 'little geeky think thats sex toast rocks oozes sex right battery embedded sleek stylish leather case', 'great product fast shipping', 'absolutely great', 'keyboard nice compromise full qwerty basic cell phone number keypad', 'got phone around end may im completely unhappy', 'comfortable ear', 'winner us', 'setup couldnt simpler', 'ive tried several different earpieces cell phone jabra one first one ive found fits ear comfortably', 'could get strong enough signal', 'iam pleased purchase', 'bad quality', 'gets job done', 'great audio', 'basically service bad', 'work cell phone plug set charger', 'ive bluetooth weeks really like', 'bt headset disapoinment', 'small dont even realize getting used', 'accompanied software almost brilliant', 'headset works great packaged nicely avoid damage', 'definitly recommend', 'buyerbe careful', 'majority logitech earbud headsets failed', 'good stuff price', 'headset works peachykeen', 'house getting dropped coverage upstairs coverage basement', 'voice recognition tremendous', 'waste', 'several different minute calls experienced drops area bars', 'happy item', 'disappointed', 'phone takes forever charge like hours literally', 'got phone reccomendation relative im glad', 'waste time', 'reception poor', 'items stated included description included', 'months screen went black sudden', 'hoping', 'audio quality poor poor', 'absolutely problem headset linking blackberry curve', 'know sounds funny seemed like sketchy technology wouldnt work wellwell one works great', 'ive bought wired headphones sound better', 'phone fast sending kind messages web browsing significantly faster previous phones used', 'nice quality build unlike cheap', 'item fantastic works perfectly', 'love colors', 'superb', 'whine internet goesthe use thing less like', 'great charger', 'essentially communications tool communicate', 'works like charm work one got phone', 'still maintain monkeys shouldnt make headphones obviously dont share enough dna copy design humans', 'great value', 'doesnt work bougth working', 'look sharp screen nice clear great graphics', 'doesnt last long', 'one thing hate mode set button side', 'excellent service', 'thank wasting money', 'bethe audio quality poor', 'igo chargers tips really great', 'file browser offers options one needshandsfree great', 'superb phone great network', 'connected wifes bluetoothmotorola phone worked like charm whether phone pocket case', 'put latest os likes slow crawl lock every', 'recognizes phone storage device', 'like loud buzzing override conversations phone', 'dont buy product', 'ive bluetoooth headset time still comfortable way fits ear', 'sound quality good functionality awesome', 'phone thorn side really abhor', 'recently problems could stay connected minutes disconnected', 'incredible', 'design flaw', 'great phone', 'waste bucks', 'check voice mail night keypad backlight turns seconds first message im lost', 'replacement died weeks', 'ring toneoverall good phone buy', 'lately extremely nice helpful phone', 'problems wit hit dropping signal', 'impressed', 'light weight hardly notice', 'youll love thin', 'bad choice', 'pleather case doesnt fit', 'useless phone simply deaf', 'color even prettier thought would graphics incredibly sharp', 'think good investment', 'makes strange ticking noises ends call', 'best electronics available fm transmitters', 'battery lasts hours', 'great headset impressed', 'mega pixel camera part phone reasonably', 'ive nearly years worked great', 'good transmit audio', 'sending back', 'bother contacting company dollar product learned lesson bought form online anyway', 'hate earbugs avoid phone means', 'great price also', 'range decent ive able roam around house phone living room receptionsound quality issues', 'fast service', 'would highly recommend', 'would recommend', 'also didnt like button felt like would crack use', 'worst phone ever', 'im still infatuated phone', 'freezes', 'kind embarrassing use looks mostly embarrassing childlike company', 'simple lightweight great fit', 'id expected better consumer experience motorola', 'theres horrible tick sound background calls never experienced', 'certainly comfortable functionality decent', 'usually dont like headbands one lightweight doesnt mess hair', 'im bit disappointed', 'phone year tell great', 'ordered sony ericsson think worked thats first used', 'battery completely useless', 'big waste time', 'dont waste one', 'great sound service', 'really pleased product far', 'one favorite purchases ever', 'best bluetooth market', 'authentic leather nice shine comfort recommend case', 'excited get headset thought really cute', 'make mistake', 'big disappointment calendar sync', 'phone unusable new', 'worst customer service ever', 'additional ear gels provided instructions whatsoever', 'defeats purpose bluetooth headset', 'worth every penny', 'excellent wallet type phone case', 'nice headphones price work great', 'internet excrutiatingly slow', 'comfortable wear well probably important aspect using case', 'fits like glove strong secure durable', 'gosh best phone ever', 'attractive appears good quality', 'love features form factor', 'product strong rubberpetroleum smell unbearable caused return', 'poor quality service', 'cable looks thin flimsy scary', 'great earpiece', 'excellent hands free tool', 'great using home stereo', 'good product incredible value', 'month worked flawlessly far', 'works great', 'absolutel junk', 'one didnt work either', 'battery life real good', 'returned hours later', 'great item', 'dont waste money', 'love headset', 'drain player may also potentially fry', 'worked perfectly', 'unreliable im giving', 'gave stars sound quality', 'avoid one', 'reversible plug works great', 'wasted little money earpiece', 'good phone', 'best rotating feature helpful', 'comfort whole family', 'good product good seller', 'love bluetooth', 'first doesnt wear well', 'impressed headset plantronics', 'got small adorable', 'great phone', 'wouldnt recommend buying product', 'piece junk', 'poorly contstruct hinge', 'item great installed let charged overnite working good every since problems', 'great phone', 'dont buy', 'excellent phone', 'purchase phone', 'voice recognition thru handset excellent', 'hands best phone ive ever', 'works great cat attacked phone scratched protective strip instead destroying screen', 'one works priced right', 'customer service terrible', 'battery life still long enough motorola razor', 'sending back', 'know made wise decision', 'someone shouldve invented sooner', 'good price', 'everything worked first trythe device certainly engineered clever way construction feels good', 'received quickly works great', 'working great', 'many people complained found headsets microphone weak', 'old nokia tracfone holds charge lot better', 'care consumer one bit', 'good battery got really fast', 'instruction manual lacking', 'also slim enough fit alarm clock docking station without removing case', 'phone holds charge like new', 'battery unreliable well service use antena', 'uncomfortable sound quality quite poor compared phone razr previous wired headset plugged lg', 'gotten lot compliments', 'definitely must state allow cell phone usage driving', 'want money back', 'love device', 'also happy price', 'ordered product first unhappy immediately', 'ngage still lacking earbuds', 'able voice dialing car problem', 'bars cell phone home cant hear anything', 'good item low price', 'howeverthe riingtones best neither games', 'plug work well', 'amazon sucks', 'rip charge shipping', 'comfortable', 'battery working well replacement original came phone years ago', 'reception excellent', 'fits comfortably either ear sound clear loud charge lasts couple days', 'clear quality sound dont mess sound ipod since sound buttons headset', 'long lasting battery dont recharge frequentyly flip', 'obviously problem adhesive', 'disappointing', 'inexpensive piece would still expected better quality', 'practically useless add kind boost reception bought', 'excellent sound quality', 'happy', 'piece junk broke phone days', 'new battery works great phone', 'worst customer service', 'ive dropped phone times say even concrete phone still great knock wood', 'reception terrible full static', 'good audio quality', 'little device transformed organizational capability made life whole lot easier', 'sitting vehicle cradle belt headset lost signal', 'jerks phone', 'works like charm works advertised', 'comfortable nice range good battery life', 'network coverage los angeles horrible', 'excellent starter wireless headset', 'loudspeaker option great bumpers lights appealing', 'thing think could improve sound leaks headset', 'first reception sucks never bars ever', 'phone gets extremely hot', 'microphone also works well according people called applifies everything', 'nice design quality', 'also phone dropped case going save specially dropped face', 'light easy use clear reception transmission', 'bad fit way big', 'definitely good', 'awesome device', 'waste money', 'ordered motorola data cable got well finished working product', 'love phone', 'looking headset long time ive got couldnt happier', 'ill drivng along headset starts ringing reason', 'display excellent camera good year', 'battery life also great', 'worst phone ive ever months', 'good item worked started problems auto reverse tape player', 'embarassing also ears hurt try push ear plug ear', 'protects phone sides', 'average phone bad battery life operates weak network', 'clear skype calls long battery life long range', 'soyo technology sucks', 'great hands free device', 'even take self portraits outside exterior display cool', 'problem others mentioned', 'trying many many handsfree gadgets one finally works well', 'magical help', 'worst piece crap ever along verizon customer service', 'poor sound quality', 'best phone market', 'worked well', 'company shipped product promptly works well', 'exactly wanted', 'picture resolution far comparablypriced phones offering today', 'great deal', 'excellent product satisfied purchase', 'highly recommend encourage people give try', 'better youd expect', 'using earpieces left right thing stay ear', 'great product price', 'sounds good reasonably priced effective simple', 'still waiting im sure item would work well ever recieve', 'disappointment', 'prompt service', 'excellent product price', 'pleased headset', 'dont waste money time', 'especially love long battery life', 'stupid keep buying new chargers car chargers cradles headphones car kits every time new phone comes', 'works great', 'plantronics bluetooth excelent buy', 'came verizon cingulair nicer cell phones first thing noticed really bad service', 'ill looking new earpiece', 'highly recommend device everyone', 'jawbone era awesome', 'received white colored battery goes dead couple hoursthe original used last week still lasts longer thereplacement', 'year battery went completely dead headset', 'used several phone two years one best', 'awesome new look fall', 'first phone ive cheaply made', 'att clear sound distorted yell talk', 'plastic breaks really easy clip', 'price good', 'dont make mistake', 'oh forgot also mention weird color effect phone', 'im using iriver spinn case fits fine', 'also area unit broke im fond magnetic strap', 'overall psyched phone appointments contacts gets great reception', 'every thing phone work perfectly like', 'another note phones appearance really looks rather bland especially black model', 'really easy', 'sanyo survived dozens drops blacktop without ill effect', 'fantastic earphones', 'finds cell phone right away enter car', 'low quality', 'highly recommend modest priced cellular phone', 'get better reception clarity phone ive', 'warning stay away', 'wish could return unit get back money', 'awsome device works great', 'used talk hours battery would literally drained dying', 'dont find bad unit comes one earpad onlyi would recommend anyone', 'displeased', 'might gotten defect would risk buying built quality alone', 'made case small difficult install', 'restored phone like new performance', 'would recommend purchasing jabra series works flawlessly moto q go figure', 'searched internet found one best value', 'fit', 'happy product', 'screen size big key pad lit well enough camera quality excellent camera phone', 'theres really nothing bad say headset', 'im glad found product amazon hard find wasnt high priced', 'portable works', 'colleague get great receptiona little expensive performance great', 'even fully charged went bed turned blue tooth wifi noticed left morning', 'ive also problems phone reading memory card always turn', 'good wearing hat sunglasses', 'timely shipment quality product', 'nice solid keyboard', 'well made fits surefire perfectly', 'horrible phone', 'battery junk', 'would recommend others', 'cant get software work computer', 'disappointed', 'poor voice clarity', 'battery works great', 'buyers remorse one', 'disappointed accessoryone', 'find inexcusable probably returning phone perhaps changing carriers', 'looks great strong', 'tmobile service years pretty happy', 'update procedure difficult cumbersome', 'disappointment hate anything goes ear', 'great software motorolas', 'delivery time', 'easy use', 'uncomfortable ear dont use lg env', 'volume switch rocketed unit destination unknown', 'holds charge long time reasonably comfortable longwearing conditions quality sound tremendous', 'id like return', 'keyboard really worthwhile usefulness sturdy enough dont expect problems', 'verizons bills however difficult understand even though pricing plans simple', 'charging overnight batteries work great', 'wont regret', 'love phone', 'disappointment', 'user friendly', 'unfortunately ability actually know receiving call rather important feature phone pitiful respect', 'exchanged phone even problem', 'results phone either stuck max volume mute', 'pda rocks', 'super charged use small hybrid palmtopcameracellphone excels roles', 'would definitely recommend jabra looking comfort clarity great price', 'verizon years ago really liked service', 'pretty piece junk', 'plug wrong size', 'works described', 'save money ive item months', 'bad purchase', 'well im satisfied', 'bose noise cancelling amazing important nyc commuter', 'battery excellent bargain', 'defective crap', 'would given star able', 'wear glasses fits fine', 'sound quality device unacceptableunless really quiet area almost hear nothing', 'would recommend item anyone', 'holster arrived match photo ad', 'greatno problems', 'earlier review noted plug charger nothing happens', 'frog phone charm adorable eye catching', 'never know pushed hard enough right number times function want', 'sound clear people talk amazed quality', 'got aluminum case new palm vx worked really wellit protected handheld perfectly far', 'good product well made', 'mobile phone tools must', 'impressed job motorola sturdiness phone', 'received orders well within shipping timeframe everything good working order overall excited source', 'phone sturdy waterproof', 'impressed would recommend item anyone', 'complaint standard sound volume little low even turned', 'thanks amazon things need good price', 'ended sliding edge pants back pockets instead', 'go store bought new nokia phone working great', 'works great', 'really ugly', 'horrible switch times', 'noise shield incrediable', 'real improvement', 'razr battery good buy', 'keep good work amazon', 'refuse refund replace', 'unfortunately easy accidentally activate gentletouch buttons accidentally touch phone face listening', 'basically threw money window nothing', 'great case price', 'took one drop inches kitchen counter crackedi impressed laughing', 'bluetooth range good days ago left phone trunk got call carried conversation without hitch', 'small sleek impressive looking practical setup ample storage place', 'eargels channel sound directly ear seem increase sound volume clarity', 'none new ones ever quite worked properly', 'glad purchased', 'ive missed numerous calls reason', 'perhaps phone defective people cannot hear use', 'dont buy product', 'sucked stuff work phone', 'shifting bubbling peeling even scratch nothingi couldnt happier new one droid', 'worst software ever used could give zero stars would', 'trying make call exercise frustration', 'case flimsy piece plastic front side protection whatsoever', 'jabra earset happy sound quality especially outgoing better', 'love camera really pretty good quality', 'thank great service', 'total package', 'seller understanding patient would definitely buy', 'give wirefly stari contact cingularatt inform practice', 'aggravating', 'great product price', 'purchased family friends enjoy clarity ease use', 'virgin wireless rocks cheap little phone', 'none works dont buy', 'muddy low quality sound casing around wires insert poorly super glued slid', 'please dont waste money', 'im quite satisfied purchase', 'looking good quality motorola headset keep looking isnt', 'yet plantronincs continues use flawed charger design', 'disapointing results', 'cumbersome design', 'great new packaged nice works good problems came less time expected', 'great product', 'piece crap', 'experience terrible fourth bluetooth headset much comfortable last jabra hated', 'fixes problems', 'worst ever', 'happy', 'ive trouble accessing internet downloading ringtones performing functions', 'barely ever hear constantly saying', 'battery life highly unacceptable', 'company joke', 'everything description said would', 'due happening every call forced stop using headset', 'works great car charger especially cannot plug two adapters time', 'verizon tech support walked procedures none worked ended hard reset wiping data', 'voice quality signal strength dropped calls', 'plays louder speaker size price low would think quality lacking however', 'better expected', 'feels poorly constructed menus difficult navigate buttons recessed difficult push', 'battery holding well', 'also difficult put onid recommend avoiding product', 'used two days wasnt always easy hear', 'got car charger even week charger brokeni went plug started smoking', 'sprint terrible customer service', 'linked phone without effort', 'cool', 'easy use', 'better new', 'possesed get junk idea', 'piece trash', 'pretty good product', 'great phone', 'price amazon excellent product would highly recommend', 'research development division obviously knows theyre', 'real killer volume course breaking', 'phones working fine', 'happy product', 'poor construction', 'infuriating', 'overall would recommend phone new walkman', 'sprint charges service', 'cheap feel look cheap', 'fits ear well comfortable', 'doesnt work europe asia', 'clipping belt deffinitely make feel like cents upandcoming', 'like design look jabra behing ear headsets pretty comfortible wear hours day without pain ear', 'amazed quick arrival two original lg cell phone batteries fraction price', 'worst phone samsungcrap crappy samsung worst ever seeen', 'charger worked week completely stopped charging phone', 'poor product', 'however needed better instructions', 'need two hands operate screenthis software interface decade old cannot compete new software designs', 'worked well paired treo skype headset pc using usb bluetooth transceiver', 'steer clear product go genuine palm replacementr pens come threepack', 'buy buyit sucks', 'great product sure beats using fingers', 'plus seriously believe worth steep price point', 'cases ive tried normally fall apart months one seems long haul', 'dissapointing performance', 'dont make mistake please dont buy phone', 'phone might well worst ive ever brand', 'case less extra originally put later discarded scratched ear', 'recommend igo anyone different brand cell players family', 'dont bother go store', 'posted detailed comments grey black phone fire red great color', 'problem item would order needed', 'get pay guess', 'software great job could also make ringtones form existing cds without internet connection', 'im surprised good quality car charger theres much reviews', 'fabulous', 'however bt headsets currently good real time games like firstperson shooters since audio delay messes', 'used bitpim free program find internetto transfer data phonethe price cable excellent', 'disappointing accessory good manufacturer', 'performed awful muffled tinny incoming sound severe echo end call', 'windresistant', 'obviously terrible customer service get pay', 'last forever overly expensive replaceeasy operate sound much better others tried', 'contacted company told although unit still warranty couldnt produce receipt luck', 'linksys way exchange bad phone refurb unit something', 'phone sturdy nokia bar phones', 'great phone', 'placed treo case snug lot extra room sides', 'im pleased', 'battery terrible', 'found product easy set use', 'earpiece large heavyit keeps falling ear', 'utter crap sound quality terrible', 'charger arrived within promised timeframe work', 'ear loop needed tiny sound great', 'finally three four times spring latch broke could use longer visor', 'handsfree part works fine car tries download address book treo rebootsoverall still rate device high', 'talk useless customer service', 'felt light tinny', 'fit palm tungsten broke first time tried plug', 'im happy purchase good quality low price', 'love look feel samsung flipphones', 'welldesigned sharp blue nice color', 'everything', 'could recommend', 'nice sound', 'looks good picture case huge disappointment', 'much less jawbone going replace', 'setup went smoothly', 'extremely slow takes forever anything', 'must study anyone interested worst sins industrial design', 'first thing happened tracking', 'well made easy access phone handy detachable belt clip', 'continue pairing periodically since somehow kept dropping', 'cant upload ringtones third party', 'bluetooth work phone locks screens flash makes calls randomly pocket locked', 'truly awful', 'works fine motorola cellphone lot better wornout battery', 'volume ringer real good choices loud', 'none tones acceptable', 'camera color balance awful', 'product clearly ready prime time dont care cool looks cant tell call coming worthless', 'love ringtones upbeat', 'chinese forgeries abound', 'easy pair samsung cell', 'instructions didnt explain microphone jack could used', 'would advise purchase item never worked well', 'bad pay month service', 'works well', 'nokia usb cable work phone', 'clear crisp sound', 'use smallest earpieces provided stays pretty well', 'biggest complaint battery drains superfast', 'design might ergonomic theory could stand ear', 'buy want use holster', 'phone also take great pictures even video clips', 'doesnt make look cool', 'ears occupied background distracting', 'comfortable fit need headset comfortable least hour time entire day', 'also phone doesnt seem accept anything except cbr preferably ripped windows media player', 'cant beat price', 'comes strong light use light camera shots even flash sos signals seriously', 'lightweight works well', 'beware', 'love cable allows connect miniusb device pc', 'anyone near hear part conversation', 'cool cases open allowing screen get scratched', 'bought phone replacement startac regretted since', 'appears actually outperform original battery china came', 'cant store anything phone numbers sim', 'lasts less minutes actually try use phonemy wife phone problem', 'poor quality', 'jabra ear gels r best', 'worth', 'phone crashed completely get replaced', 'quit working id used months purchased another one best headset ive ever owned', 'unfortunately recharge iphone despite connecting multiple power sources imac external battery wall outlet etc', 'great phone', 'simply want small flip phone look elsewhere extra bells whistles mediocre', 'good value works fine power via usb car wall outlet', 'phone doesnt slide around car grip prevents phone slipping hand', 'simply best bluetooth headset sound quality', 'think plan onethis sure last moto phone', 'span hour two people exclaim whoa new phone tv', 'always used corded headsets freedom wireless helpful', 'case passed one year mark shows signs wear functional', 'leather nice soft fit tight cut face good shape', 'everything need couldnt ask', 'receiving using product days broke', 'product great makes working lot easier go copier waiting hold something', 'none three sizes sent headset would stay ears', 'tmobile best customer service anywhere', 'arrived quickly much less expensive others sold', 'tried units failed within months pros', 'provides good protection looks classy', 'krussel always good', 'tracfonewebsite user friendly makes easy toactivate etc', 'design', 'great reception time', 'would highly recommend product', 'couldnt use unit sunglasses good texas', 'dit work time nokia', 'bought mainly charger broke soon purchasing', 'like loud buzzing override conversations phone', 'fantastic buy get whatever next phone', 'stay away store careful', 'blueant supertooth handsfree phone speaker awesome', 'fit', 'item arrived quickly works great metro pcs samsung slider phone sony premium sound ear plugs', 'light plenty battery capacity confortable wear somewhat extended periods time', 'disappointing', 'blue ant easy use', 'cheap hey works pleasantly suprised given low cost item', 'camera phone may used dustpan indoors id rather using disposable', 'days later puff smoke came phone use', 'convenient simple use gets job done makes car ride much smoother', 'nano stated itmy son dissapointed', 'sound quality excellent well', 'best headset used', 'would reccommend', 'around years carries highest quality antiglare screen protector found date', 'wanted', 'particular model would work motorola q smartphone', 'wont work right atleast', 'addition feels amp looks phone lightweight cheap plastic', 'warranty problems reoccurebottom line put money somewhere else cingular support', 'really wanted plantronics right one many issues methe good', 'great product', 'crisp clear', 'first charge kept going dead minutes', 'cheap plastic creaks like old wooden floor', 'get absolutely horrible reception apartment phones problem', 'reception generally good', 'excellent sound battery life inconspicuous boot', 'great bluetooth', 'highly recommend case', 'worthwhile', 'great deal', 'phone got year old slowly breaking despite much care part', 'sorry made purchase', 'bought hoping could make bluetooth headset fit better things made impossible wear', 'treo tmobile refused replace forced buy another phone without kind upgrade discount', 'horrible', 'dont think would hold securly belt', 'allows possibility double booking date time first', 'work weeks break', 'simple use like', 'great tool entertainment communication data managementoh sure use activesync optimal data synchronization results', 'cant use case smell disgusting', 'wanted', 'cases would order another', 'great phone', 'bought battery coupon amazon im happy purchase', 'internet access fine rare instance worked', 'perfect', 'five star plus plus', 'good quality bargain bought bought cheapy big lots sounded awful people end couldnt hear', 'drain', 'tried talking real loud shouting telephone gets old still told wasnt great', 'good works fine', 'price great deal', 'great price', 'wind completely useless', 'yes shiny front side love', 'work', 'first thought grtting good deal plugged phone razr', 'reception headset excellent', 'thumbs seller', 'verizon lg phone work well together good reception range exceeds feet line sight', 'improper description return', 'works comfortable', 'battery chargelife quite long', 'jabra eargels fit ears well', 'battery life', 'checked everywhere feature really disappointing', 'product exactly described', 'gets signal verizon phones wont', 'doesnt job', 'would recommend', 'plan ordering', 'said phone camera nice many cool effects play video decent well', 'satisfied cell phone day one', 'keep getting better better third one ive numerous palms', 'awkward use unreliable', 'shipping time also quick', 'good hoped', 'good case', 'doesnt work', 'really good product', 'unfortunately work', 'three broke within two months use', 'dont buy', 'father battery dying', 'however ear pads come easily one week lost one', 'calls drop phone comes screen goes black worst stops ringing intermittently', 'horrible horrible protector', 'dont like nokia either', 'reaching bottom row uncomfortable send end keys expect', 'bought nokia cell phone weeks ago nightmare', 'would take long describe bad customer service experience amazon', 'disappointing thing speakerphone', 'terrible car accept cassette', 'product useless since enough charging current charge cellphones planning use', 'says', 'stay away q', 'used dirty', 'unreliable service tmobile', 'good enough price', 'bought two neither charge', 'looks nice', 'excellent tool especially paired phones autoanswer', 'read others reviews havent problem', 'products cover important light sensor ear outlet', 'comfortable hand', 'work', 'poor reliability', 'works', 'take picture battery drops bar starts beeping letting know dieing', 'terrible product waste money', 'last time buying', 'waste money', 'far worked like charm', 'weeks far good', 'case best part download pictures laptop using ir even send pictures laptop phone', 'would recommend item', 'choice headset yearsgreat sound good volume good noise cancellation', 'nice case feels good hands', 'item received counterfeit', 'really good far probably best bt headset ever', 'works fine', 'received headset good time happy', 'pleased see could replace well travled swivel holster blackberry flip', 'sister one also loves', 'good quality', 'far worst purchase ive made amazon', 'excellent dualpurpose headset', 'excellent', 'work listening music cingular', 'seems completely secure holding belt keeping iphone inside', 'bottowm lineanother worthless cheap gimmick sprint', 'trouble volume', 'good thing fits comfortably small ears', 'warning buy', 'pairing iphone could happier far', 'opens battery connection broken device turned', 'didnt want clip going top ear causing discomfort', 'best headset ever', 'dont trust website dont expect helpful support', 'loudglad say plantronics maintains flawless connection cell static normal use', 'speaker low quality making ring tones sound cheap', 'fits comfortably came three sizes earbud tips', 'excellent product price', 'bad reception', 'product high quality chinese crap', 'quite comfortable ear', 'great phone', 'dont buy product fails', 'everything product wrongfirst', 'pairing two devices easy barely took couple minutes started making calls voice dialing feature', 'utterly confusing first caused lose couple important contacts', 'terrible phone holder', 'cutouts buttons placed perfectly', 'love able use one headset landline cell', 'problem ear loops made weak material break easily', 'nearly good looking amazon picture makes look', 'despite flaws case exceptional quality well worth additional costs owning official oem product', 'stupid', 'hear im driving car usually dont even put loudest setting', 'seller shipped quickly much cheaper competitors', 'good show samsung', 'bought saved alot money', 'always cuts makes beep beep beep sound says signal failed', 'couldnt figure', 'phone sounded ok great ok wifes phone almost totally unintelligible couldnt understand word said', 'take battery phone put back together restart', 'managed bend leaf spring back place metal enough stress break next drop', 'leopard print wonderfully wild', 'works', 'saggy floppy piece junk', 'much better hard plastic cases', 'also new problem', 'happy far', 'cool phone', 'works good', 'motorola finally got voice quality bluetooth headset right', 'looses connection phone even within couple feet two', 'great would really recommend', 'makes easier keep bluetooth im wearing', 'said abovepretty useless', 'never got', 'pair headphones worst ever soundwise', 'drain weak snap', 'charge cingular att phone', 'get extra minutes carry call get cut', 'however year fliptop started get loose wobbly eventually screen went black couldnt receive place calls', 'kept catching cable seat pull phone turn', 'headset fulfills requirements happy purchase', 'logitech bluetooth headset', 'like fact rests lightly ear rather inside', 'lot websites rating good phone', 'tried cables computer ipod works fine', 'mic joke volume quite low', 'im returning', 'maintain connection computer lap', 'easy turn car volume controls quite accessable', 'mine year christmas bought rest family', 'otherwise easy install use clear sound', 'nice leather', 'purchase different case', 'joy use', 'much disappointed company', 'satisifed', 'didnt charge', 'phone get bought say wow', 'buttons small', 'reading specs alone makes say wow', 'love great armband', 'really like product motorola allot clearer ear piece mic', 'however keypads tinny sometimes reach wrong buttons', 'exchanged sony ericson im pretty happy decision', 'impressed price cases', 'also makes easier hold', 'use product motor control center lot high voltage humming equipment works great', 'pretty easy', 'cannot make calls certain places', 'however girl complain time phone doesnt wake like normal phone', 'beautiful styling though', 'company charge restocking fee still given refund back', 'im trying return refund', 'plugged find darn thing worked', 'excellent product', 'earbud piece breaks easily', 'lousy product', 'phone tries hard everything fails ability phone', 'best charger seen market yet', 'sweetest phone', 'oh charger seems work fine', 'fits securely ear hook even need used sound better directed ear canal', 'enough volume', 'echo problemvery unsatisfactory', 'could take videos time quality poor', 'dont waste money', 'going first negatively review product', 'adapter provide enough charging current', 'much hype phone assumed best mistake', 'also cannot take pictures case lense covered', 'phone falls easily', 'didnt work people hear talk', 'text messaging feature really tricky use', 'im really disappointed charger doesnt work', 'painful ear', 'lasted one day blew', 'disappointed', 'kind flops around', 'screen get smudged easily touches ear face', 'piece junk lose calls phone', 'item match picture', 'thing disappoint infra red port irda', 'answer calls unit never worked', 'slowmoving aimless movie distressed drifting young man', 'sure lost flat characters audience nearly half walked', 'attempting artiness black white clever camera angles movie disappointed became even ridiculous acting poor plot lines almost nonexistent', 'little music anything speak', 'best scene movie gerardo trying find song keeps running head', 'rest movie lacks art charm meaning emptiness works guess empty', 'wasted two hours', 'saw movie today thought good effort good messages kids', 'bit predictable', 'loved casting jimmy buffet science teacher', 'baby owls adorable', 'movie showed lot florida best made look appealing', 'songs best muppets hilarious', 'cool', 'right case movie delivers everything almost right face', 'average acting main person low budget clearly see', 'review long overdue since consider tale two sisters single greatest film ever made', 'ill put gem movie terms screenplay cinematography acting postproduction editing directing aspect filmmaking', 'practically perfect true masterpiece sea faux masterpieces', 'structure film easily tightly constructed history cinema', 'think film something vitally important occurs every minute', 'words content level film enough easily fill dozen films', 'anyone right mind ask anything movie', 'quite simply highest superlative form cinema imaginable', 'yes film require rather significant amount puzzlesolving pieces fit together create beautiful picture', 'short film certainly pulls punches', 'graphics far best part game', 'number one best th game series', 'deserves strong love', 'insane game', 'massive levels massive unlockable characters massive game', 'waste money game', 'kind money wasted properly', 'actually graphics good time', 'today graphics crap', 'say canada fun game aye', 'game rocks', 'buy play enjoy love', 'pure brilliance', 'flick doomed conception', 'idea lame take minor character mediocre film make complete nonsequel changing tone pgrated family movie', 'wasnt least bit interested', 'confirm film would unfunny generic also managed give away entire movie im exaggerating every moment every plot point every joke told trailer', 'funny', 'even talented carrell cant save', 'costars dont fare much better people like morgan freeman jonah hill ed helms wasted', 'story predictable lazy', 'real effects work presence animals integration scenes worst obvious bluegreenscreen work ive ever seen', 'whatever cost much didnt translate quality thats sure', 'film succeeds despite perhaps obviously meagre budget', 'im glad film didnt go obvious choice lesser film certainly would', 'addition one lovely songs ever written french cancan also boasts one cutest leading ladies ever grace screen', 'hard fall headoverheels love girl', 'negative insipid enough cause regret another hours life wasted front screen', 'long whiny pointless', 'recommend waiting future efforts let one go', 'excellent cast story line performances', 'totally believable', 'anne heche utterly convincing', 'sam shepards portrayal gung ho marine sobering', 'sat riveted tv screen', 'give one resounding', 'think tom hanks good actor', 'enjoyed reading book children little', 'disappointed movie', 'one character totally annoying voice gives feeling fingernails chalkboard', 'totally unnecessary trainroller coaster scene', 'absolutely warmth charm scenes characters', 'movie totally grates nerves', 'performances improved improvisation actors twice much worry whether theyre delivering line well whether line good', 'quite honestly often good', 'often dialogue doesnt really follow one line another fit surroundings', 'crackles unpredictable youthful energy honestly found hard follow concentrate meanders badly', 'generally great things', 'wouldnt say theyre worth hours time though', 'suspense builders good cross line g pg', 'especially liked noncliche choices parents movies could predict dialog verbatim writing movie made better selections', 'want movie thats gross gives chills great choice', 'alexander nevsky great film', 'amazing film artist one important whoever lived', 'im glad pretentious piece didnt planned dodge stratus big shots gonna help movie makers arent restrained movie business qu bec', 'first movie ive given years', 'ever movie needed wordofmouth promote', 'overall film interesting thoughtprovoking', 'plus wellpaced suited relatively short run time', 'give one look', 'gave', 'wind lion well written superbly acted', 'true classic', 'actually turned pretty decent far blist horrorsuspense films go', 'definitely worth checking', 'problem script', 'horrendous', 'nothing believable', 'suspense feeling frustration retarded girls', 'manna heaven terrific film predictable unpredictable time', 'scenes often funny occasionally touching characters evaluate lives going', 'cast veteran actors nostalgia trip', 'ursula burtons portrayal nun touching funny time making fun nuns church', 'looking movie terrific cast good musicincluding shirley jones rendition way look tonight uplifting ending give one try', 'dont think disappointed', 'frankly cotton club unfaithful kind embarrassing watch lane gere film bad', 'acting bad dialogs extremely shallow insincere', 'predictable even chick flick', 'politically correct', 'disappointing', 'thing really worth watching scenery house beautiful', 'love lane ive never seen movie lousy', 'hour half wish could bring back', 'terms writing fresh bold', 'acting helps writing along well maybe idiotsavant sister could played better real joy watch', 'directing cinematography arent quite good', 'movie boring sometimes found occupied peaking paper instead watching never happened columbo movie', 'sometimes embarrassing look away', 'directing seems pretentious', 'scenes ohsomature neighbourgirl misplace', 'generally lines plot weaker average episode', 'scene debated whether sack trumpeter falsely accused murder pure horror really stupid', 'applause given prelude however', 'really liked', 'great film great director', 'movie edge seat made somewhat afraid go car end night', 'music film really nice', 'id advise anyone go see', 'brilliant', '', 'liked movie way much', 'problem thought actor playing villain low rent michael ironside', 'rocked world certainly must see anyone social physical outlets', 'however didnt make fact overall tremendously boring movie', 'chemistry ben affleck sandra bullock film couldnt understand would consider even leaving wifetobe chick supposedly knocked', 'several moments movie didnt need excruciatingly slow moving', 'poor remake best friends wedding', 'great disappointment', 'cannot believe actors agreed film', 'could stand even watch long fear losing iq', 'guess nobody network aired dribble watched putting', 'imdb ratings go low awful time get negative numbers cases', 'saw mirrormask last night unsatisfactory experience', 'unfortunately inexperience direction meant scene scene passed little way dramatic tension conflict', 'central themes film handled ineptly stereotypically depth imagination', 'pretty pictures world cannot make piece work flawed core', 'hour half waste time following bunch pretty high schoolers whine cry life', 'cant relate hell barely understand', 'definitely cult classic well worth viewing sharing others', 'movie pure disaster story stupid editing worst seen confuses incredibly', 'fish badly made underwater shots repeated thousand times film', 'truly truly bad film', 'acting terrible writing worse', 'possible way movie could redeemed would fodder', 'paid much', 'also real treat see anthony quinn playing crazy horse', 'boring', 'plot whatsoever', 'plot', 'horrible', 'worst hour half lifeoh gosh', 'walk theatre minutes get relief', 'hate movies like', 'yeah movie pretty much sucked', 'plot storyline', 'go see movie bring pillow girlfriendboyfriend keep occupied', 'awful', 'dont think ive ever gone movie disliked much', 'good thing tickets cost five dollars would mad id paid see crap', 'nobody identifies characters theyre cardboard cutouts stereotypes predictably reversestereotypes', 'bad film bad writing good actorsan ugly cartoon crafted paul haggis people cant handle anything bold strokes storytellinga picture painted crayons', 'crash depressing little nothing provokes emotion teaches nothing already know racism prejudice bad things', 'still like movie empowerment women theres enough movies like one', 'brain attempt shutdown part primal impulse selfpreservation', 'left shattered experience watching film took good two hours fully recover', 'movie joins revenge boogeyman zombiez part hellish trinity horror films', 'certainly mean distinction good way', 'mean terrible way', 'film redeeming features', 'everything appalling', 'artless camerawork endlessly presents us ugliest setting imaginable ie', 'story beyond stupid', 'script script', 'kids annoying', 'lead man charismafree', 'utterly without merit level akin torture', 'ill even say torture', 'maybe would reasonable explanation atrocity', 'pleasant voyage selfdiscovery', 'highly unrecommended', 'premise sound stupid thats', 'yes bad', 'nothing recommend', 'excellent performance ms', 'garbo showed right bat talents could carry silent era wanted see silent work netflix doesnt seem stocking', 'also great see renowned silent screenwriter frances marion hasnt missed step going silent sound', 'movie suffered writing needed suspense', 'many close ups', 'movie seemed drag heroes didnt really work freedom', 'movie definitely average rent', 'youll love', 'movie bad', 'bad', 'film way long', 'definitely one bad ones', 'movie received great quality film age', 'john wayne incredible job young movie industry', 'screen presence shined thought even though senior actors screen', 'think must see older john wayne film', 'really dont see anyone could enjoy movie', 'dont think ive ever seen movie half boring selfindulgent piece junk', 'probably would better director hadnt spent movie showcasing art work really isnt noteworthy', 'another thing didnt really like character got punched face gallon blood would spew forth soon', 'jamie foxx absolutely ray charles', 'performance simply genius', 'owns film spacek owned coal miners daughter quaid owned great balls fire', 'fact hard remember part ray charles acted played man', 'ray charles legendary', 'ray charles life provided excellent biographical material film goes well beyond another movie musician', 'hitchcock great director', 'ironically mostly find films total waste time watch', 'secondly hitchcock pretty much perfected thriller chase movie', 'pandering audience sabotages films', 'hence whole story lacks certain energy', 'plot simply rumbles like machine desperately depending addition new scenes', 'usual hitchcock logic flaws', 'mishima extremely uninteresting', 'chilly unremarkable movie author livingworking chilly abstruse culture', 'flat reenactments dont hold attention emotionally adrift stagy', 'rest sits awful soldiers singing songs masculinity pledge hairsplitting purity admiration swords etc', 'bore pieces kill momentum movie quicker anyone else', 'schrader made resume full lousy amateurish films', 'first watched movie loved', 'totally fascinated music dancing everything', 'however recently watched whole thing dvd completely struck extremely stupid storyline contained holes inconsistencies frankly whole lot crap horrid dancing', 'mean realistic world would never gotten ballet repertory whole thing quite pathetic', 'character developments also lacked depth', 'woa talk awful', 'waste time', 'horrible', 'worst sappiest dialogue could go', 'really made unwatchable direction', 'poor actors', 'cant even tell talent pathetic lines speak director gave action', 'check directors filmography site see film didnt chance', 'would even good made tv flick', 'good intentions made film great film might one greatest films ever made', 'film great actors master director significant themeat least wouldbe significant theme undertone fifties existential worldweariness aerial scenes ought thrilled senses imagination characters one might deeply care', 'regrettably film fails', 'movie lacks visual interest drama expression feeling celebration patriotism underlines narrative', 'actress worse used june allison movie', 'yet enjoy watching', 'unfortunately bad movie plain bad', 'bad script bad direction horrible acting make one plain bad', 'dialogue sucked', 'cinematographyif called thatsucked', 'soundtrack sucked', 'acting sucked', 'concert sequences sucked', 'nice', 'funny', 'funny', 'overall movie cheap trash', 'movie funny considering ridiculousness', 'came feeling angry', 'spoilers whatever else cant said surface superbly crafted', 'cinematography simply stunning say least fx nothing stateoftheart', 'conceptually show offers little bit everything everybody parents kids fantasy andor fx fans', 'wasnt single sour note struck actingwise either surprisingly solid casting', 'things considered job well done', 'thanks good movie like done released', 'one best mexican movies ever one less understood even mexican matter identified felt', 'ranks highly great noircrimedrama incredible performances belmondo lino ventura', 'attention given every character complex psychological portrayals detailing loyalty treachery love hope tremendous', 'excellent drama excellent thriller excellent film', 'best melville', 'everything film simply incredible', 'truly take journey eyes soul child', 'black water thriller manages completely transcend limitations indie flick continually subverting expectations emerge intense experience', 'performances real gripping crocdodile extremely well done indeed black water website believed thats used real crocs swamp location fabulous', 'thoroughly enjoyed christopher eccleston took control tardis continuation series', 'im sure trying film', 'turn good day feeling night disturbing memories guess succeeded', 'lot beautiful places', 'forced like everything movie', 'lame', 'heres movie really pied', 'dont even get started jerky camerawork', 'saw theater thought going sick', 'summary witticisms werent witty', 'plot well said id let one go', 'acting bad', 'really bad', 'even billy bob couldnt rise script worse', 'camerawork bad', 'rating', 'amazing finale possibly best trilogy time', 'kieslowski never ceases amaze', 'one favourite directors one talented directors history cinema', 'use colours french flag three films nothing short incredible every shot every scene like work art', 'three visually appealing movies ive ever seen', 'subtle connections three films awesome', 'mention huge spoiler loved ending characters three films remaining survivors ferry disaster valentine young judge together old man watching tv solidifying happiness suffering dealt many years', 'couldnt think better way end film smile face great way wrap amazing film trilogy', 'recommend everyone loves film movies anythinga work art', 'movie trilogy', 'literally vomited watching film', 'think one people found another one roths pearls', 'performance awarded stunning', 'story told eloquently francis ford coppola years earlier really unfolds gradually leaves room characters develop', 'wonderful location lies story contrast', 'beautiful directed film nicolas roeg wih sublime cast', 'im translating movies living first movie working experience found offensive intelligence', 'someone strives greatness poetry delivers muddled often ridiculous story bunch disparate scenes pretentious dialogue get worst kind movie reviewer accurately defined pretentious crap', 'find movie intelligent even masterful say intelligence imagination obviously used try make sense pitiful attempt human nature try make sense things', 'one thing tolerate political incorrectness well im artistic freedom suspension disbelief slavic female character much', 'fun funny movie', 'highly entertaining angles', 'features outlandish array memorable psychotic lovable nuts', 'enjoyment get see run around play games dangerous', 'even sweet moments', 'telephone repair man really funny reactions nuts bitchy boss truly genuine', 'characters film tremendously well played', 'really find funny', 'actually smart movie', 'brilliant twist ending', 'love', 'ending perfect youll shed tear', 'thrilled seeing movie like', 'never forget', 'cult cult classic', 'depth character man underneath', 'malta settings dry barren dialogue', 'movie terrible', 'hockey scenes terrible defensemen playing like theyre years old goalies diving shots feet wide net etc', 'havent seen dont waste time', 'call movie drama ridiculous', 'started watching didnt believe characters', 'particular relationship bakery assistant waitress didnt work', 'superficial movie gave feeling watching play rather film', 'characters stagey storyline lot like stage farce', 'time pyromaniac waylaid assistant bored didnt care happened next switched', 'glad didnt pay see', 'didnt laugh even smile', 'wasnt anything one big yawn', 'really good show watch', 'educational children years old', 'barney definitely super de duper', 'pretty funny', 'babie bop cute', 'kids cool', 'storm trooper even bad enough make list wonderfully terrible movies', 'lame', 'guy said hes better dialogue potted plants right', 'everything movie stupid', 'even love bad movies watch movie', 'shameful', 'would give television series plus could', 'writers smack think best actors actresses bonus showthese characters real', 'must say taped episodes find watching', 'know gave', 'dont know exactly movie latched endearing movie become special part familys memories', 'totally absolutely recommend movie anyone likes good wholesome family movies exactly', 'things four kids get absolutely hilarious watch', 'one best movies shows strong sibling bond', 'much interesting action suspense less unneeded controversy', 'everything acting cinematography solid', 'definitely worth checking', 'damian talented versatile many ways writing portraying different characters screen', 'movie cutting edge', 'pleased know modern day genius letting passion art drive taking us audience', 'new characters werent memorable found forgetting', 'felt though going ireland absolutely nothing whatsoever', 'didnt make scared horrified make sympathetic towards characters simply annoying', 'jerky camera movements also annoying', 'plot pretty much every cheap horror', 'pathetic attempts give characters depth didnt really work rest plot', 'guess supposed clever twist shed light situation stupid', 'see probably leave shelf', 'elias koteasjack palance play good roles angelina hot gets nakedbilly drago appears cool usual cameo sven ole thorsen helps make enjoyable movie good acting decent budget', 'awesome movie bought ebay', 'really loved story line poler bear kinda cutebut anyone question fort steele ask away', 'totally unfunny movie top pathetic unrealistic throughout whole minutes utter torture probably looked watch times', 'lucy bell much higher crap sink low quite depressing', 'movie make sick watching slackers make excuses stupid actions minutes', 'god never get minutes back', 'think wonderful parts literally full wonder excerpts works', 'sets especially designed work camera amazingstylized beautiful effective', 'could used exemplars set designer', 'stories powerful explorations nature man art', 'watching film wanted learn works artist', 'highly recommend movie anyone interested art poetry theater politics japanese history', 'wind lion see wonderful rendering americas imperial age', 'makes story different terrific production values faultless photography composition editing terrific casting underappreciated brian keith playing bully teddy vivid history', 'though wind lion told largely eyes son every member family identify one characters whether sean connerys noble brigand candace bergens feisty heroine john hustons wily john hay steve kanalys spiffy radiant ruthless cando lieutenant roosevelts big stick', 'high adventure best', 'think robert ryans best film portrayed someone like father schizophrenic real lifemy father although never murdered anyone affected second world war made worse', 'humour get get day apt', 'mother brother thiswhen saw robert ryan portraying type man good imitation type individual impressed', 'almost songs cover girl oldfashioned tuneful', 'annoying thing cover girl way rita hayworth put pedestal', 'unfortunately cover girl example hollywood used exploit women financial gain', 'nonlinear narration thus many flashbacks every part articulated quite well', 'good cinematography also makes monica bellucci look beautiful', 'good commentary todays love undoubtedly film worth seeing', 'people first timers film making think excellent job', 'popular cinema good house good reactions plenty laughs', 'feelgood film thats felt came cinema', 'northern humour positive community represents', 'rather enjoyed', 'liked', 'couldnt take seriously', 'really created unique feeling though', 'vivian schilling excellent job script', 'world better garbage theatres today', 'role played well', 'screamy masculine right', 'camera really likes movie', 'would casted role ready script', 'european movie nice throwback time student experiences living abroad interacting nationalities although circumstances slightly different', 'fan movie sucked really bad', 'even worse ticker', 'movie bad', 'like buildings used couple locations maybe poor hummh', 'blew', 'movie excellentangel beautiful scamp adorablehis little yelps hes scaredand funniest parts whenscamp caught curtain angel scamp singing ive never feeling beforei totally recommend movieits coming special edition june cover scamp garbage angel underneath lid', 'cant explain movie romanticcharminghilariousand adorablethe junkyard scenes funnyall junkyard dogs something specialtoo funny laughedkids love itbuy comes outit new features', 'chosen tortured disgusting piece blatant american propaganda', 'show made americans stupid full hatred clich admitted elsewhere', 'almost everyone involved must return school acting utterly predictable bad script pile garbage round', 'wish could enter negative values admins', 'sets bad wouldnt look place thunderbirds episode', 'use slowmotion needlessly repeats throughout movie well backed bad acting bad kind word continuity scenes thrown reason whatsoever vehicles looked like made corn flakes box directorial style bordered stupidity', 'oh yeah storyline pathetic', 'hate writing bad reviews films especially really like star film bad dont believe one second anyone could proud', 'filmmaker director would hide head sand id spent whatever amount money time movie', 'short monumental waste time energy would recommend anyone ever see film', 'came free dvd player bought still turned thing halfway embarrassed howell', 'setting', 'interesting premise billy drago always good dangerous nutbag side note id love see drago stephen mchattie lance hendrikson flick together talk raging cheekbones', 'soundtrack wasnt terrible either', 'actingeven professionals drago debbie rochonwas terrible directing worse perhaps contributory former dialog chimplike camera work barely tolerable', 'still sets got big oyvey scale', 'yes simplifying things sake brevity really core problems film much going without real fulfilling explanation', 'good jobs quite amusing', 'convoluted plot didnt convince much film watched weird questioning glance', 'let girlfriend talk seeing bad idea hated', 'last minutes movie also bad well', 'bela lugosi totally extraneous intoning odd lines', 'acting decidely wooden though worse period universal b movie', 'like armand assante cable companys summary sounded interesting watched twice already probably', 'believe screenwriter good job tying loose ends', 'score mostly plot', 'wont say dont like spoilers dont want one believe film worth time', 'wow bad film', 'frightening least barely comprehensible', 'plot doesnt hang together acting absolutely appalling', 'even good camp value', 'wasnt expecting oscar material', 'youd iq particularly stupid mollusk see one coming', 'film use word loosely insult moviegoing public', 'someone involved knew string together narrative', 'gets simply theres nothing lower', 'one watched recently fox movie channel disappointed', 'know contract player little control scripts acting bad script', 'victor mclaglen even bad brian donlevy almost unrecognizable', 'considering relations screen taylor stanwyck surprising little chemistry screen two', 'premise film ridiculous president us', 'death row scenes entirely unmoving', 'thing worse taylors acting stanwycks singing', 'whatever producer going missed entirely', 'deeply impressed character played', 'knew saw film great things come gifted actor', 'cheap cheerless heist movie poor characterisation lots underbite style stoic emoting think chow yun fat better tomorrow cheesy clich thrown abandoned factory ready poorly executed flying judo rolls la john woo', 'even squibs look awful', 'point proceedings look remotely like america', 'plot derivative predictable ending like mercy killing', 'awful dialogue hopeless overacting everyone gets shot top real waste space time', 'uneasy bad movie scared', 'dialogue composed things make little sense', 'minutes footage wasted show mediocre elderly actors awkwardly babbling overwrought pseudosatanic gibberish corny enough make teen goth blush almost always olde english sometimes latin may may made words', 'directing sloppy best', 'hackneyed writing certainly made even worse bad directing', 'course acting blah', 'acting whole cast could put scale balanced perfectly overacting underacting', 'finally get ending wouldve great handled competent people jerry falwell', 'loved movie great portrayal family share ups end knew special love', 'seen many movies starring jaclyn smith god one best though came years ago', 'movie contained allstar cast loved opened eyes see actors havent seen', 'movie kind long length enjoyed every minute', 'overall rate movie scale', 'lifetime air enough anyone knows store sells let know musthave', 'particularly remember senses assaulted strident cords music would blare little warning even less meaning', 'sort pap screened afternoon punish unemployed jobs', 'totally different loads understatement black comedy film get see remember', 'movie creates universe fascinating every way', 'movie really got', 'see', 'really hope team behind movie makes movies continue kinda weird style', 'forgot casting superb trond fausa aurv g perfect role bothersome man doesnt understand', 'movie good humorous comment life', 'found move beautiful enjoyable uplifting', 'initially local sites film filmed buffalo intrigued', 'later found lost power film', 'entire audience applauded conclusion film', 'left theater lilt step joy heart hope human race', 'duris wholesome appearance gives fine performance', 'rest cast also play well', 'cinematography noteworthy including fine views barcelona famed gaudi towers', 'ten minutes film started second thoughts', 'half way film started dislike', 'time film ended disliked despised', 'film lacks convincing script', 'script looks rough draft written shooting began finished script completed', 'things happen characters personalities change plot twists occur real reason script calls', 'cast good', 'worth checking', 'probably irritating show ever seen entire life', 'indescribably annoying idiotic show ever seen', 'everything bad', 'could understand kind idiot would produce mess first place mention several season', 'script bad bad contains cheesiness unethical joke normally see rated r movie', 'casting also horrible cause see really really bad actors period', 'final word show real torture', 'zillion times away reality', 'watching washing machine twirling around wouldnt hurt eyes much show', 'rating grade z note show bad even mother cast pull daughter show', 'century foxs road house quite silly noir implausible unmitigated bore movie', 'full unconvincing cardboard characters blandly written edward chodorov also produced surprisingly directed jean negulesco one would expect great deal', 'widmark character turns unintentionally comical', 'losing marbles early proceedings totally implausible unconvincing', 'isnt enough mess movie picture also marred constant use studio sets indoor exteriors', 'whatever prompted documentary beyond', 'serious spoilers movie huge disappointment', 'many problems dont know start', 'cast great', 'steve martin delivers really funny performance middleaged upper class uptight white guy', 'add betty white jean smart great cast everyone played parts really well', 'movie makes lot serious mistakes', 'first enough racial stereotypes racial jokes offend everyone', 'movie littered overt racial slurs towards black cast members return whites depicted morons boobs', 'putting race card aside lets look major flaw film destroy latifas character', 'real plot', 'wouldnt see movie free', 'steamboat willie amazingly important film cinema history', 'second appearance mickey mouse following silent plane crazy earlier year probably famous filmmostly groundbreaking', 'dont yet hear mickey speak tons sound effects music throughout filmsomething take granted huge crowd pleaser', 'however seeing short years amazed timeless film actually', 'adorable seeing mickey playing turkey straw highly imaginative occasionally cruel way', 'clever real crowdpleaserthis film still ranks among mickeys best films even wonderful years', 'bipolarity ruthless thug one minute ruthless killer next minute luvs diaper commercial completely unconvincing', 'im terribly disappointed film would receive many awards accolades especially far deserving works film', 'original body soul masterpiece', 'john garfield ann revere lilli plmer william conrad canada leeand filmed one greatest cinematographers ever grace screenjames wong howe', 'dont think redeeming qualities remake', 'may bad film ever made', 'badwellits bad', 'movie solid example bad plot bad idea way', 'shame see good actors like thomerson james make living mess like', 'thought bad', 'films terrible credit version watchable', 'lets start problems acting especially lead professor bad', 'script big flawed mess', 'best example dumb writing established turn zombiestudents back humans removing necklace containing piece meteorite', 'director paul matthews also wrotedirected weak monster movie grim clearly doesnt know pace films', 'movie terribly boring places', 'lighting awful', 'film looks cheap bland', 'one disappointing aspects lack notable gore', 'convention never worked well past certainly doesnt work', 'visual effects awful', 'cg opening sequence space looked like could created microsoft slideshow gods sake', 'explosion gas tanks end awful', 'okay like consider fair critic ill give credit credits duethe creature effects actually pretty cool', 'gotta love closeups slimy drooling teeth', 'sum film breeders terrible cheaply made horror movie avoided like ebola virus', 'recommended', 'almost unbearable watch screen little charisma terrible comedic timing', 'aside terrible lead film loads debits', 'understand supposed cheap popcorn comedy doesnt mean completely insult intelligence writing incredibly hackneyed borders offensive', 'lewis blacks considerable talent wasted incendiary unrestrained rating certainly wont allow', 'films sole bright spot jonah hill look almost unrecognizable fans recent superbad due amount weight lost interim', 'originality freshness first movie spent remake little else offer', 'budget evidently limited', 'reflected cast also belowpar script borrowed much earlier classic', 'however decent acting action location work balance things', 'filmiing less expansive', 'failed convey broad sweep landscapes great part original', 'generally lacked imagination', 'recommended', 'possible movie get worse', 'plot keep going first place', 'even women finally show sign improvement expected things happen time film might far asleep', 'beware trashy cult movie trash period', 'cant believe theres even sequel', 'precisely giving bad review', 'child truly enjoyed show proudly say enjoyed big time even classical wb cartoons', 'tiny toons kept vibe delivered one popular funny underrated cartoons ever created', 'memories murky say enjoyed every single episode product related show', 'easily none cartoon made laugh tender way getting dark sitcoms oriented teenagers', 'characters funny peculiarity true lead character', 'every single character hilarious deserved called lead', 'every element story top excessively phony contrived painful sit', 'lines seem written fifteen year old though trying oh hard sound like fifteen year old would really um know well talk', 'perabo nice energy level obviously comfortable front camera', 'simply excuse something poorly done', 'saw movie thought stupid movie', 'even stupid thought idea volcano los angeles', 'honest unbelievable nonsense foolish', 'conclusion bother movie volcano los angeles nothing nonsense', 'story line awful', 'painful', 'accents absolutely abysmal', 'theres also enough hypocrisy film make vomit', 'dont waste time watching rubbish nonresearched film', 'believe pitch black done well', 'characters interesting want find longer movie goes think people surprised doesnt make', 'go watch', 'omit watching', 'funny', 'rating', 'characters interesting really care', 'instant classic great soundtrack catchy song ending credits', 'dont miss', 'masterful piece filmmaking many themes simmering occasionally boiling warts study poets bohemian selfindulgent wartime years span aerial bombardments london outward tranquillity welsh coastal retreat borderlines friendship lust love dedication art experience versus practical concerns jealousy rivalry cowardice egotism versus heroism selfsacrifice', 'mature subtle script suggests occasionally brings dramatic focus underlying tensions well served perfect performances apart odd inappropriate smiling keira knightley prone though perhaps direction time characters often mention', 'exquisite visual composition moment inventive elegant use closeup camera angle lighting including pointillistic faux home movie footage wonder joy behold', 'continuously beautiful look bertolucci relationships convincing narrative engaging masters work', 'basic premise wasted since sidelined inexplicable focus documentary crew', 'regardless film fails levels', 'avoid costs', 'saw film christmas great film', 'thought errol flynn brilliant custer since become favourite actor', 'acting alongside olivia de havilland brilliant ending fantastic', 'always known errol flynn brilliant actor dads favourite actor grew watching films child', 'wasnt watched film realised great actually', 'ill give film', 'know jim oconnor energetic nobody could much george well dull', 'really didnt seem want hosting voiceovers monotonous didnt get involved guests', 'lovely little thriller hitchcock lots nice shenanigans surrounding murdered spy kidnapped child nasty church foreign plot random taxidermists', 'jimmy stewart ever great hero hitchcock story rips along cool climax embassy function lacks brooding menace hitchcocks black white lowbudget original', 'nevertheless yet another wonderful film great masters stable', 'say film excellently produced tops ratings typical sci fi film', 'excellently produced one scifis best producers scot vandiver', 'entertaining nonetheless', 'campy sort film thats joy watch', 'theres barely boring moment film plenty humorous parts', 'cast always entertaining usual', 'overall delight', 'movie mindbendingly awful couldnt even created', 'film lacks real scares tension medical terminology used throughout bit iffy say least say insulin dependant diabetic', 'least said acting better', 'movie excellent job revealing complexity task incredible challenges facing south africa', 'believe every one see movie think people outside south africa understand past attempted truth reconciliation process', 'nothing short magnificent photographycinematography film', 'acting fantastic stories seamlessly woven together dogs splendid must rent view see', 'dont afraid subtitles worth little aversion therapy', 'excellent performance', 'still good actors around', 'also great directing photography', 'true shakespear must shakespear fans', 'macbeth jason connery moved tears final monolog brief candle outhe gave sphere moral decay dark forces human face makes interesting', 'helen baxendale credible lady macbeth cheerfull times sometimes looks like naughty girl deadly taste blood evil', 'love death decay shakespears lyrics one', 'witty delightful adaptation dr seuss book brilliantly animated upas finest thoroughly deserving academy award', 'special mention made superb music score sound effects integral element helping make memorable enjoyable cartoon', 'however paul schrader indeed made film mishima superb complex', 'also notable john baileys fine crisp beautifully colored cinematography great production design costumes eiko ishioka went memorable costumes coppolas dracula received well deserved oscar', 'even allowing poor production values time format kind miniseries baaaaaad', 'unless youre visually collect extant films austens work skip one', 'watch however small consolations actresses playing annes sisters wonderful job roles', 'good', 'speaking music unbearably predictably kitchy', 'film dropped ball', 'stunning movie', 'raw sublimely moving', 'felt like gripping intelligent stage play without overly theatrical feeling one actually gets watching people stage plays everyones terror white lie escalating monstrous consequences', 'main players mesmerising', 'tom wilkinson broke heart end everyone elses judging amount fumbling hankies hands going faces among males females alike', 'julian fellowes triumphed', 'hes national treasure', 'go see', 'excellent film', 'aerial scenes welldone', 'also right balance war love', 'film gives meaning phrase never history human conflict much owed many', 'kris kristoffersen good movie really makes difference', 'good film great director', 'definitely one better documentaries seen looking family relationships marriage', 'many continuity errors one user commented different cars garage joes glassesthe one got fact joes facial hair configuration seemed change scene scene', 'great movie', 'stars', 'cant see movie inspiration anyone come overcome fear rejection', 'bad actually worth seeing reason', 'punishment park brilliant piece cinema', 'shot southern california desert using patent faux documentary style watkins creates film like', 'one peter watkins accessible films', 'advise look', 'wont regret', 'highly recommended', 'well keep thinking bad', 'mediocre miserable hollow laughable predictable piece garbage', 'case bad laughable', 'bad performance plays angela bennett computer expert home time', 'film nothing pretext show ridiculous action scenes', 'awful', 'still bad actress repeating robotic face moves pictures', 'results well shame', 'delete film mind', 'one worst shows time', 'show would begin smart ass ed comments would totally wall uncalled', 'fat computer geek unbelievable bible thumper badass girl actors', 'never heard except cole totally unbelievable part', 'every time opened mouth expect hear see kids pulling plug mercy killing horrible show', 'stories unbelievable actors', 'lame would best way describe', 'stanwyck morgan perfectly cast many ways modern equivalent dickens christmas carol sensibility', 'success film depends casting sydney greenstreet alexander yardley character', 'attractive set used throughout film eyepleasing gem', 'im big fan rpg games movie disgrace selfrespecting rpger', 'lines cuts audio everything wrong', 'find better movies youtube', 'top line dont waste time money one bad comes', 'lassie movie put sleep forever', 'thats id describe painfully dreary timewaster film', 'mediocre every aspect becomes dull uninteresting mess one forgettable movies ive seen', 'isnt even achievement sobaditsgood sobaditsmemorable movie', 'empty hollow shell movie', 'seriously worth wasting kids time', 'avoid avoid avoid', 'drive barking mad', 'transfers good', 'nice relaxing late night viewing', 'movie full wonderful dancing hence title', 'great music terrific scenery', 'handles tough issues dignity grace course shocking spoiler', 'happy wonderful feel good ending', 'point journey journey touches every member family', 'one movies need see whenever comes tvnever mind fact already memorized', 'nothing new', 'done second movie', 'movie almost action scenes little comedy', 'plot holes pair fishnet stockings direction editing astonishingly ham fisted', 'earth irons film', 'saw film recommend', 'good plot holds complete attention acting superb tom wilkinson fantastic emily watson also good', 'good film indeed great unconditional love', 'tom wilkinsons character man prepared ordeal begin takes matter hand story progresses great actor gives performance makes feel characters anguish suffering', 'emily watsons character strong give quick glance understand everything', 'despite pans reviewers liked movie', 'fact liked better interview vampire liked lestat stuart townsend better cruises attempt', 'aailiyah pretty good akasha places compelling first entrance mini dance scene', 'im big fan series mostly due anne rices style sensitivities treatments', 'guess liked details dysfunctionhe believable', 'football scenes end perplexing', 'thought acting skilled', 'meredith better right', 'charming film wonderful sentiment heart', 'rare filmmaker takes time tell worthy moral tale care love doesnt fall trap overly syrupy indulgent', 'nine ten truly lovely film', 'early film future goremeister lucio fulci good addition giallo subgenre', 'one best italian thrillers early', 'standout scene', 'scene strong unpleasant', 'technically film well made impressive camerawork solid acting effective music riz ortolani particularly good recurring unaccompanied female vocal sounds like coming distant hill', 'still wild stuff though highly recommended fans giallo cinema', 'movie interesting beginning end', 'liked way dustin hoffmans character ready everything stay son', 'movie also revealing', 'personally think shows people learn find compromise self without involving people issue', 'boring', 'tired clich lazy writing come thick fast', 'ps scene movie cool central character finds room blown', 'fresh subtle rather sublime effect', 'italian reviewer called small great film thats right', 'actors give wonderful performance especially jennifer rubin jamie harris changes nervous starlet beginning strange events part cool star', 'learn lot real inside emotions people movie lot movie business', 'movie movie situations beginning game played acting coach fascinating', 'also music mark snow possibly best score ive ever heard', 'wont forget movie', 'film made', 'film ultracheap look', 'result film dont look right', 'none engaging exciting', 'plot nonsense doesnt interest slightest way uniqueness', 'foreigner worth one second time', 'saw child tv back stranger loved', 'duet astronaut doctor beginning movie perfect exchange one considers movie made well cold war astronauts biggest fear crashed ussr', 'movie awesome', 'loved really scary', 'love scream movies horror movies one ranks way', 'want real scare rent one', '', 'extraordinary film', 'courtroom drama compelling indictment american justice system frightening', 'film highlights fundamental flaws legal process discovering guilt innocence rather presents better court', 'film well paced understated one best courtroom documentaries ive seen', 'mostly routine factbased tv drama gets boost fine performance cole', 'predictable bad watch', 'clear range ability pull part', 'carries movie well', 'constantine gives everything right intensity seems good understanding underlying psychological motivations', 'wonderful inspiring watch hope gets released video dvd', 'piece trash ever released beyond acting story characters supposedly special effects etcits wrong', 'fact stinker smells like directtovideo release', 'avoid costs', 'star trek v final frontier worst series', 'acting involved includes like shatner nimoy bad washed making seem old look real life special effects tacky like spock rescue kirk jet pack falls mountain', 'attempts humor pitiful story awful dosent bear thinking basically involves vulcan stealing enterprise find god seriously didnt care film oh mention uhura belly dance distract male guards', 'place good film garbage', 'worst one series', 'editing editing film phenomenal opinion', 'song could explain emotions subjects better jay adams unfortunate life subject talk song old man neil young played evokes many emotions', 'cinematography film shot interesting way', 'course footage grainy enhanced film', 'film offers many delights surprises', 'achille philippa beautifully sing duet giovanni perfectly describes situation movie appreciate subtle layers excellent film', 'story unfolds century jutland use period music played period instruments one fine touch', 'share general loewenhielms exquisite joy partaking cailles en sarcophage even though watching movie wish small sample savor', 'understated film leaves lasting impression', 'warmth generates contrast austere backdrop', 'leave theater wanting go dance stars', 'acting youd expect cast top notch', 'characters fleshed surprisingly well particularly grimes blake actors deliver sharply scripted lines right amount deadpan tongue cheek make dialogue hilarious realistic', 'angus scrimm also turns good performance somewhat brief memorable role gently menacing violinplaying anatomist doctor quinn', 'conclusion loved', 'long time since entertained movie', 'struggle find anything bad say', 'mark words one cult films like evil dead phantasm people still discovering falling love years line', 'pretty surprising wonderful film made hollywood generally collective heads sand concerning black white issues time', 'film deserves strong kudos taking stand exceptional acting mostly lesserknown cast superintelligent script doesnt insult audience take easy way comes white racism', 'plus movies rather modest budget fast running time amazing job', 'juano hernandez exceptional actor played supporting roles many films era proud black man accused murdering white man south', 'trumbull love lucy', 'see kids chanceit open amazing dialog far race relations come last years', 'see films', 'year however reminded us huston still top game evinced faithful adaptation james joyces acclaimed novella dead', 'feelings thoughtsgabriels discomfort danceall intangibles leap life come within viewers grasp hustons portrayal', 'disappointed wondered could oscar shortlist', 'slow', 'lot holes plot theres nothing became emperor nothing spend years childhood mature age', 'dont waste time', 'end days one worst bigbudget action movies ive ever seen', 'surely doesnt know make coherent action movie screenwriter air force one obliged write script big sum money', 'one worst films ever seen', 'im still trying get bad', 'movie possibly one creative works horror ever', 'everything could want suspense drama comedy confusing subplots native americans brain eating youre looking beall endall brainsucking movies look', 'great sound effects impressive special effects cant recommend movie enough', 'call nut think one best movies ever', 'great character actors telly savalas peter boyle', 'hour minutes sheer tedium melodrama horrible acting mess script sinking feeling good lord thinking', 'lots holes script', 'like bad two hour tv movie', 'imagine every single one decisions made wrong', 'dialogue atrocious', 'acting beyond abysmal', 'everything stinks', 'trouble writing directing make impossible establish things make movie watchable like character story theme', 'worse theres incredibly weak subplot thrown follows little band latterday mansonites go reporter whos working story anniversary killings', 'dumb pointless complete waste time', 'short dont bother movie', 'wont spoil ending pretty amazing', 'best scene movie end wont spoil', 'ever indication writer directors ability meld two highly volatile temperaments seamless union creativity', 'result powerhouse achievement made timely perhaps cultures disturbing fascination celebrity distorted interpretations fame', 'film easily forgotten', 'kevin spacey excellent verbal tsunami buddy ackerman totally believable great actor', 'scripting subtle comedy unmatched movie recent years', 'characters interesting even bit predictable', 'highly recommended ages although younger set probably appreciate subtle references certainly appreciate one galley scene particular', 'great movie', 'also story acting weak', 'around pm bought around started watch around fast forwarded remaining film see anything left watchable human brain wasnt', 'either way sucks', 'script horrendously stupid', 'story starts fast absolutely suspense buildup slightest', 'everything captain howdy says either laughable plain stupid', 'hell kind crap', 'theres plot holes', 'could drive semi truck holes', 'linda cardellini thing good film', 'shes poised amazing', 'dee snider plain sucks', 'cant act one least scary villains ever seen cant write write damn movie sleep', 'bored throughout whole damn thing', 'acting sucks music sucks script sucks pacing sucks special fx suck directing sucks basically movie sucks', 'film tries serious sophisticated thrillerhorror flick fails miserably', 'probably one least effective utterly unoriginal films ever seen entire life', 'piece cinematic garbage captured celluloid', 'avoid costs', 'rate film stinks funny fulci stayed giallo supernatural zombie movies', 'avoid film costs', 'dont know happened season five mess', 'consistent thread holding series together amazing performances leni parker anita laselva two taelons quiet idealogical conflict', 'movie really dislike', 'one boring horror movies mainly starts slow centers boring atmosphere', 'puppets look really cheesy good way like puppet master flicks', 'story lame interesting never really explains sinister origins puppets', 'arent death scenes like previous movies fx terrible', 'felt asleep first time watched recommend insomniacs', 'fact film wonderful heartwarming tale two people chasing dreams', 'best part nurse betty unpredictability', 'director neil labute uses brutal violence seperate dreams reality along touching drama hilarious comedy never tell going happen next', 'otherwise dont even waste time', 'one fails create real suspense', 'killer dont expect anything original even remotely frightening', 'however pretty good acting least type film', 'im sorry really cant recommend anyone', 'one boringpointless movies ever seen', 'secondary plot line incomprehensible relation primary plot line mystifying', 'hated', 'one worst sandra bullock movie since speed quite bad', 'dont understand garbage got shelves movie store even real movie', 'highly doubt anyone could ever like trash', 'moviemaking', 'acting like watching wooden puppets moving around reading book thats bad', 'warn youdo rent movie dumbest thing never seen', 'saw short film hbo day absolutely loved', 'didnt realize wonderful short really last two scenes', 'excellent short film', 'hopefully director james cox turn short feature length film cast win us whole new film', 'agree jessica movie pretty bad', 'characters onedimensional even good guys especially bad guys', 'story line totally predictable', 'much dialogue much music whole film shot elaborately aesthetically like sculpture', 'ive seen soap operas intelligent movie', 'bad characters bad story bad acting', 'really awful', 'easy watch', 'funny clever hip like prays previous film hype', 'long time didnt see charismatic actor screen', 'paolo sorrentino written wonderful story loneliness tony built one unforgettable characters seen movies recent years', 'movie completely perfect titta di girolamo stay long time vision movie', 'rate movie', 'know emilio estevezs directorial debut pacing interplay development characters well clever camera work surrounding character estevez plays suggest natural eye', 'interplay martin emilio contains wonderful chemistry saw wall street martin charlie', 'kathy bates wonderful characters subtle desperation escapism variation character play fields lord', 'readers already seen one miyazakis films still top form made another worthwhile experience', 'never condescends characters good genuine hearts believable problems', 'two main characters may two believable children ever saw put screen', 'easy love even easy identify', 'movie greatespecially enjoy visual arts', 'scenery two daughters paint photograph beautiful', 'story also funny poignant times', 'people like european films art movies like movie', 'truly art movieit actually lot art', 'go rent', 'however finally watching film realized closed mind brilliance depicts also found watching', 'one movie never ceases interest simply keeps alert try attempt decipher meanings', 'brilliance indeed', 'liked movies like matrix better yet sequels think youll appreciate thought provoking mindblowing experience film give', 'think film like dream', 'simply beautiful', 'rickman stowe play roles hilt tale childrens book writer maybe written subversive tract', 'gloriously fun fast paced fairly accurate portrayal night raver', 'presents idyllic yet serious portrayal ups downs characters lives', 'whatever avoid groove antithesis good human traffic', 'bad everyone else involved didnt share crowes level dedication quality wed far better film hands subpar mess', 'movie seemed little slow first', 'picked speed got right point', 'showed exactly government scientist argued humanity reasons gadget', 'enjoyed', 'recommended friends', 'particularly pleased acting ability dwight schultz', 'actors truly understand become particular character delivering convincing sincere performance', 'onscreen chemistry critical entire film genuine', 'films dialogue natural real life', 'writer gorman bechard undoubtedly homework references industry characterage appropriate', 'incredible soundtrack truly captures essence film', 'track commands sentiment actually contributing scenes characters', 'definitely worth seeing sort thought provoking film forces question threshold loneliness', 'hayao miyazakis latest eighth film studio ghibili gake ue ponyo ponyo cliff sea wonderfully fun imaginative look childhood', 'time seems film animation dominated disneypixars cgi masterpieces refreshing comforting know miyazaki still relying traditional handdrawn animation tell charming enchanting stories', 'enough said remarkable animation film', 'art style appearance crayonpencil drawings wonderfully colorful fanciful', 'act film glad youre gonna drift away earth far possible', 'one wants surf small wave space movies deep impact armageddon one fails everywhere', 'havent choked vomit end cheap drama worthless dialogue youve must bored death waste time', 'still makes super ending depicts great sea vessel taken mighty frost', 'consider excellent story solid acting look film added bonuses', 'instead got bore fest whiny spoiled brat babysitting', 'watched two sundays ago march began really enjoy time taped entire thing', 'well acted done tv movie', 'judith light one favorite actresses think superb job film', 'keep watching', 'sad movie good', 'seen movie definitely recommend', 'lovely usual cutie', 'still quite interesting entertaining follow', 'recommend confidence', 'movie wellbalanced comedy drama thoroughly enjoyed', 'riot see hugo weaving play sexobsessed gay real estate salesman uses clients houses trysts flaming darren tom hollander', 'anyway plot flowed smoothly malebonding scenes hoot', 'opening sequence gem classic cat n mouse games follow delight watch', 'fans genre heaven', 'lange become great actress', 'looked like wonderful story', 'never walked movie faster', 'got bored watching jessice lange take clothes', 'unfortunately virtue films production work lost regrettable script', 'word embarrassing', 'exceptionally bad', 'insult ones intelligence huge waste money', 'wow loved place', 'crust good', 'tasty texture nasty', 'stopped late may bank holiday rick steve recommendation loved', 'selection menu great prices', 'getting angry want damn pho', 'honeslty didnt taste fresh', 'potatoes like rubber could tell made ahead time kept warmer', 'fries great', 'great touch', 'service prompt', 'would go back', 'cashier care ever say still ended wayyy overpriced', 'tried cape cod ravoli chickenwith cranberrymmmm', 'disgusted pretty sure human hair', 'shocked signs indicate cash', 'highly recommended', 'waitress little slow service', 'place worth time let alone vegas', 'like', 'burrittos blah', 'food amazing', 'service also cute', 'could care less interior beautiful', 'performed', 'thats rightthe red velvet cakeohhh stuff good', 'never brought salad asked', 'hole wall great mexican street tacos friendly staff', 'took hour get food tables restaurant food luke warm sever running around like totally overwhelmed', 'worst salmon sashimi', 'also combos like burger fries beer decent deal', 'like final blow', 'found place accident could happier', 'seems like good quick place grab bite familiar pub food favor look elsewhere', 'overall like place lot', 'redeeming quality restaurant inexpensive', 'ample portions good prices', 'poor service waiter made feel like stupid every time came table', 'first visit hiro delight', 'service sucks', 'shrimp tender moist', 'deal good enough would drag establishment', 'hard judge whether sides good grossed melted styrofoam didnt want eat fear getting sick', 'positive note server attentive provided great service', 'frozen pucks disgust worst people behind register', 'thing like prime rib dessert section', 'bad food damn generic', 'burger good beef cooked right', 'want sandwich go firehouse', 'side greek salad greek dressing tasty pita hummus refreshing', 'ordered duck rare pink tender inside nice char outside', 'came running us realized husband left sunglasses table', 'chow mein good', 'horrible attitudes towards customers talk one customers dont enjoy food', 'portion huge', 'loved itfriendly servers great food wonderful imaginative menu', 'heart attack grill downtown vegas absolutely flatlined excuse restaurant', 'much seafood like strings pasta bottom', 'salad right amount sauce power scallop perfectly cooked', 'ripped banana ripped petrified tasteless', 'least think refill water struggle wave minutes', 'place receives stars appetizers', 'cocktails handmade delicious', 'wed definitely go back', 'glad found place', 'great food service huge portions give military discount', 'always great time dos gringos', 'updatewent back second time still amazing', 'got food apparently never heard salt batter fish chewy', 'great way finish great', 'deal included tastings drinks jeff went beyond expected', 'really really good rice time', 'service meh', 'took min get milkshake nothing chocolate milk', 'guess known place would suck inside excalibur didnt use common sense', 'scallop dish quite appalling value well', 'times bad customer service', 'sweet potato fries good seasoned well', 'today second time ive lunch buffet pretty good', 'much good food vegas feel cheated wasting eating opportunity going rice company', 'coming like experiencing underwhelming relationship parties cant wait person ask break', 'walked place smelled like old grease trap others eating', 'turkey roast beef bland', 'place', 'pan cakes everyone raving taste like sugary disaster tailored palate six year old', 'love pho spring rolls oh yummy try', 'poor batter meat ratio made chicken tenders unsatisfying', 'say food amazing', 'omelets die', 'everything fresh delicious', 'summary largely disappointing dining experience', 'like really sexy party mouth youre outrageously flirting hottest person party', 'never hard rock casino never ever step forward', 'best breakfast buffet', 'say bye bye tip lady', 'well never go', 'back', 'food arrived quickly', 'good', 'side cafe serves really good food', 'server fantastic found wife loves roasted garlic bone marrow added extra meal another marrow go', 'good thing waiter helpful kept bloddy marys coming', 'best buffet town price cannot beat', 'loved mussels cooked wine reduction duck tender potato dishes delicious', 'one better buffets', 'went tigerlilly fantastic afternoon', 'food delicious bartender attentive personable got great deal', 'ambience wonderful music playing', 'go back next trip', 'sooooo good', 'real sushi lovers lets honest yama good', 'least passed us ordering food arriving wasnt busy', 'really fantastic thai restaurant definitely worth visit', 'nice spicy tender', 'good prices', 'check', 'pretty gross', 'ive better atmosphere', 'kind hard mess steak', 'although much liked look sound place actual experience bit disappointing', 'dont know place managed served blandest food ever eaten preparing indian cuisine', 'worst service boot least worries', 'service fine waitress friendly', 'guys steaks steak loving son steak best worst places said best steak hes ever eaten', 'thought youd venture away get good sushi place really hit spot night', 'host staff lack better word bitches', 'bland liking place number reasons dont want waste time bad reviewing ill leave', 'phenomenal food service ambiance', 'wouldnt return', 'definitely worth venturing strip pork belly return next time im vegas', 'place way overpriced mediocre food', 'penne vodka excellent', 'good selection food including massive meatloaf sandwich crispy chicken wrap delish tuna melt tasty burgers', 'management rude', 'delicious nyc bagels good selections cream cheese real lox capers even', 'great subway fact good come every subway meet expectations', 'seriously solid breakfast', 'one best bars food vegas', 'extremely rude really many restaurants would love dine weekend vegas', 'drink never empty made really great menu suggestions', 'dont', 'waiter wasnt helpful friendly rarely checked us', 'husband ate lunch disappointed food service', 'red curry much bamboo shoots wasnt tasty', 'nice blanket moz top feel like done cover subpar food', 'bathrooms clean place well decorated', 'menu always changing food quality going service extremely slow', 'service little slow considering served people servers food coming slow pace', 'give thumbs', 'watched waiter pay lot attention tables ignore us', 'fianc came middle day greeted seated right away', 'great restaurant mandalay bay', 'waited forty five minutes vain', 'crostini came salad stale', 'highlights great quality nigiri', 'staff friendly joint always clean', 'different cut piece day still wonderful tender well well flavored', 'ordered voodoo pasta first time id really excellent pasta since going gluten free several years ago', 'place good', 'unfortunately must hit bakery leftover day everything ordered stale', 'came back today since relocated still impressed', 'seated immediately', 'menu diverse reasonably priced', 'avoid cost', 'restaurant always full never wait', 'delicious', 'place handsdown one best places eat phoenix metro area', 'dont go looking good food', 'ive never treated bad', 'bacon hella salty', 'also ordered spinach avocado salad ingredients sad dressing literally zero taste', 'really vegas fine dining used right menus handed ladies prices listed', 'waitresses friendly', 'lordy khao soi dish missed curry lovers', 'everything menu terrific also thrilled made amazing accommodations vegetarian daughter', 'perhaps caught night judging reviews im inspired go back', 'service leaves lot desired', 'atmosphere modern hip maintaining touch coziness', 'weekly haunt definitely place come back every', 'literally sat minutes one asking take order', 'burger absolutely flavor meat totally bland burger overcooked charcoal flavor', 'also decided send back waitress looked like verge heart attack', 'dressed treated rudely', 'probably dirt', 'love place hits spot want something healthy lacking quantity flavor', 'ordered lemon raspberry ice cocktail also incredible', 'food sucked expected sucked could imagined', 'interesting decor', 'really like crepe station', 'also served hot bread butter home made potato chips bacon bits topvery original good', 'watch preparing delicious food', 'egg rolls fantastic', 'order arrived one gyros missing', 'salad wings ice cream dessert left feeling quite satisfied', 'im really sure joeys voted best hot dog valley readers phoenix magazine', 'best place go tasty bowl pho', 'live music fridays totally blows', 'ive never insulted felt disrespected', 'friendly staff', 'worth drive', 'heard good things place exceeding every hope could dreamed', 'food great serivce', 'warm beer didnt help', 'great brunch spot', 'service friendly inviting', 'good lunch spot', 'ive lived since first last time ive stepped foot place', 'worst experience ever', 'must night place', 'sides delish mixed mushrooms yukon gold puree white corn beateous', 'bug never showed would given sure side wall bug climbing kitchen', 'minutes waiting salad realized wasnt coming time soon', 'friend loved salmon tartar', 'wont go back', 'extremely tasty', 'waitress good though', 'soggy good', 'jamaican mojitos delicious', 'small worth price', 'food rich order accordingly', 'shower area outside rinse take full shower unless dont mind nude everyone see', 'service bit lacking', 'lobster bisque bussell sprouts risotto filet needed salt pepperand course none tables', 'hopefully bodes going business someone cook come', 'either cold enough flavor bad', 'loved bacon wrapped dates', 'unbelievable bargain', 'folks otto always make us feel welcome special', 'mains also uninspired', 'place first pho amazing', 'wonderful experience made place muststop whenever town', 'food isnt bad enough enjoy dealing worlds worstannoying drunk people', 'fun chef', 'ordered double cheeseburger got single patty falling apart picture uploaded yeah still sucks', 'great place couple drinks watch sporting events walls covered tvs', 'possible give zero stars theyd', 'descriptions said yum yum sauce another said eel sauce yet another said spicy mayowell none rolls sauces', 'id say would hardest decision honestly ms dishes taste supposed taste amazing', 'rolled eyes may stayed sure go back try', 'everyone attentive providing excellent customer service', 'horrible dont waste time money', 'dish quite flavourful', 'time side restaurant almost empty excuse', 'wasnt busy either also building freezing cold', 'like reviewer said couldnt pay eat place', 'drinks took close minutes come one point', 'seriously flavorful delights folks', 'much better ayce sushi place went vegas', 'lighting dark enough set mood', 'based subpar service received effort show gratitude business wont going back', 'owners really great people', 'nothing privileged workingeating', 'greek dressing creamy flavorful', 'overall dont think would take parents place made similar complaints silently felt', 'pizza good peanut sauce tasty', 'table service pretty fast', 'fantastic service', 'well wouldve given godfathers zero stars possible', 'know make', 'tough short flavor', 'hope place sticks around', 'bars vegas ever recall charged tap water', 'restaurant atmosphere exquisite', 'good service clean inexpensive boot', 'seafood fresh generous portion', 'plus bucks', 'service par either', 'thus far visited twice food absolutely delicious time', 'good year ago', 'self proclaimed coffee cafe wildly disappointed', 'veggitarian platter world', 'cant go wrong food', 'cant beat', 'stopped place madison ironman friendly kind staff', 'chefs friendly good job', 'ive better dedicated boba tea spots even jenni pho', 'liked patio service outstanding', 'goat taco didnt skimp meat wow flavor', 'think', 'mac salad pretty bland getting', 'went bachi burger friends recommendation disappointed', 'service stinks', 'waited waited', 'place quality sushi quality restaurant', 'would definitely recommend wings well pizza', 'great pizza salads', 'things went wrong burned saganaki', 'waited hour breakfast could done times better home', 'place amazing', 'hate disagree fellow yelpers husband disappointed place', 'waited hours never got either pizzas many around us came later', 'dont know slow', 'staff great food delish incredible beer selection', 'live neighborhood disappointed wont back convenient location', 'didnt know pulled pork could soooo delicious', 'get incredibly fresh fish prepared care', 'go gave star rating please know third time eating bachi burger writing review', 'love fact everything menu worth', 'never dining place', 'food excellent service good', 'good beer drink selection good food selection', 'please stay away shrimp stir fried noodles', 'potato chip order sad could probably count many chips box probably around', 'food really boring', 'good servicecheck', 'greedy corporation never see another dime', 'never ever go back', 'much id like go back cant get passed atrocious service never return', 'summer dine charming outdoor patio delightful', 'expect good', 'fantastic food', 'ordered toasted english muffin came untoasted', 'food good', 'never going back', 'great food price high quality house made', 'bus boy hand rude', 'point friends basically figured place joke didnt mind making publicly loudly known', 'back good bbq lighter fare reasonable pricing tell public back old ways', 'considering two us left full happy cant go wrong', 'bread made inhouse', 'downside service', 'also fries without doubt worst fries ive ever', 'service exceptional food good reviews', 'couple months later returned amazing meal', 'favorite place town shawarrrrrrma', 'black eyed peas sweet potatoes unreal', 'wont disappointed', 'could serve vinaigrette may make better overall dish still good', 'go far many places ive never seen restaurant serves egg breakfast especially', 'mom got home immediately got sick bites salad', 'servers pleasant deal dont always honor pizza hut coupons', 'truly unbelievably good glad went back', 'fantastic service pleased atmosphere', 'everything gross', 'love place', 'great service food', 'first bathrooms location dirty seat covers replenished plain yucky', 'burger got gold standard burger kind disappointed', 'omg food delicioso', 'nothing authentic place', 'spaghetti nothing special whatsoever', 'dishes salmon best great', 'vegetables fresh sauce feels like authentic thai', 'worth driving tucson', 'selection probably worst ive seen vegasthere none', 'pretty good beer selection', 'place like chipotle better', 'classywarm atmosphere fun fresh appetizers succulent steaks baseball steak', 'stars brick oven bread app', 'eaten multiple times time food delicious', 'sat another ten minutes finally gave left', 'terrible', 'everyone treated equally special', 'shouldnt take min pancakes eggs', 'delicious', 'good side staff genuinely pleasant enthusiastic real treat', 'sadly gordon ramseys steak place shall sharply avoid next trip vegas', 'always evening wonderful food delicious', 'best fish ive ever life', 'bathroom next door nice', 'buffet small food offered bland', 'outstanding little restaurant best food ever tasted', 'pretty cool would say', 'definitely turn doubt ill back unless someone else buying', 'server great job handling large rowdy table', 'find wasting food despicable wasnt food', 'wife lobster bisque soup lukewarm', 'would come back sushi craving vegas', 'staff great ambiance great', 'deserves stars', 'left stomach ache felt sick rest day', 'dropped ball', 'dining space tiny elegantly decorated comfortable', 'customize order way youd like usual eggplant green bean stir fry love', 'beans rice mediocre best', 'best tacos town far', 'took back money got outta', 'interesting part town place amazing', 'rude inconsiderate management', 'staff friendly wait times served horrible one even says hi first minutes', 'wont back', 'great dinners', 'service outshining definitely recommend halibut', 'food terrible', 'never ever go back told many people happened', 'dont recommend unless car breaks front starving', 'come back every time im vegas', 'place deserves one star food', 'disgrace', 'def coming back bowl next time', 'want healthy authentic ethic food try place', 'continue come ladies night andddd date night highly recommend place anyone area', 'several times past experience always great', 'walked away stuffed happy first vegas buffet experience', 'service excellent prices pretty reasonable considering vegas located inside crystals shopping mall aria', 'summarize food incredible nay transcendant nothing brings joy quite like memory pneumatic condiment dispenser', 'im probably one people ever go ians like', 'kids pizza always hit lots great side dish options kiddos', 'service perfect family atmosphere nice see', 'cooked perfection service impeccable']\n"
     ]
    }
   ],
   "source": [
    "# lets Pad the sentences\n",
    "print(\"\\nTraining sequences:\\n\", training_sentences)"
   ]
  },
  {
   "cell_type": "code",
   "execution_count": 51,
   "id": "725c034b",
   "metadata": {},
   "outputs": [],
   "source": [
    "df.to_csv(\"df_prepared_sa.csv\", index=False)"
   ]
  },
  {
   "cell_type": "code",
   "execution_count": 52,
   "id": "01f2b652",
   "metadata": {},
   "outputs": [
    {
     "data": {
      "text/plain": [
       "array([   0,    0,    0,    0,    0,    0,    0,    0,    0,    0,    0,\n",
       "          0,    0,    0,    0,    0,    0,    0,    0,    0,    0,    0,\n",
       "          0,    0,    0,    0,    0,    0,    0,    0,    0,    0,    0,\n",
       "          0,    0,    0,    0,    0,    0,    0,    0,    0,    0,    0,\n",
       "          0,    0,    0,    0,    0,    0,    0,    0,    0,    0,    0,\n",
       "          0,    0,    0,    0,    0,    0,    0,    0,    0,    0,    0,\n",
       "          0,   13,   81,  150,   15,    1, 4492])"
      ]
     },
     "execution_count": 52,
     "metadata": {},
     "output_type": "execute_result"
    }
   ],
   "source": [
    "np.set_printoptions(threshold=np.inf)\n",
    "\n",
    "test_pad = np.array(test_padded[10])\n",
    "\n",
    "test_pad"
   ]
  },
  {
   "cell_type": "code",
   "execution_count": 53,
   "id": "6ca27232",
   "metadata": {},
   "outputs": [],
   "source": [
    "# lets create model with tensofFlow\n",
    "model = tf.keras.Sequential([\n",
    "    tf.keras.layers.Embedding(vocab_size, embedding_dim, input_length=max_length), \n",
    "    tf.keras.layers.GlobalAveragePooling1D(), \n",
    "    tf.keras.layers.Dense(10, activation='relu'), \n",
    "    tf.keras.layers.Dense(6, activation='relu'), \n",
    "    tf.keras.layers.Dense(1, activation='sigmoid')  \n",
    "])"
   ]
  },
  {
   "cell_type": "code",
   "execution_count": 54,
   "id": "12e08182",
   "metadata": {},
   "outputs": [
    {
     "name": "stdout",
     "output_type": "stream",
     "text": [
      "Model: \"sequential\"\n",
      "_________________________________________________________________\n",
      " Layer (type)                Output Shape              Param #   \n",
      "=================================================================\n",
      " embedding (Embedding)       (None, 73, 8)             36888     \n",
      "                                                                 \n",
      " global_average_pooling1d (  (None, 8)                 0         \n",
      " GlobalAveragePooling1D)                                         \n",
      "                                                                 \n",
      " dense (Dense)               (None, 10)                90        \n",
      "                                                                 \n",
      " dense_1 (Dense)             (None, 6)                 66        \n",
      "                                                                 \n",
      " dense_2 (Dense)             (None, 1)                 7         \n",
      "                                                                 \n",
      "=================================================================\n",
      "Total params: 37051 (144.73 KB)\n",
      "Trainable params: 37051 (144.73 KB)\n",
      "Non-trainable params: 0 (0.00 Byte)\n",
      "_________________________________________________________________\n",
      "None\n"
     ]
    }
   ],
   "source": [
    "model.compile(loss = 'binary_crossentropy', optimizer = 'adam', metrics = ['accuracy'])\n",
    "print(model.summary())"
   ]
  },
  {
   "cell_type": "code",
   "execution_count": 55,
   "id": "2e299778",
   "metadata": {},
   "outputs": [],
   "source": [
    "train_labels_final = np.array(training_labels)\n",
    "test_labels_final = np.array(test_labels)"
   ]
  },
  {
   "cell_type": "code",
   "execution_count": 56,
   "id": "a123230e",
   "metadata": {},
   "outputs": [
    {
     "name": "stdout",
     "output_type": "stream",
     "text": [
      "Training Data Shape: (2400, 73)\n",
      "Training Labels Shape: (2400,)\n",
      "Test Data Shape: (600, 73)\n",
      "Test Labels Shape: (600,)\n"
     ]
    }
   ],
   "source": [
    "print(\"Training Data Shape:\", padded.shape)\n",
    "print(\"Training Labels Shape:\", train_labels_final.shape)\n",
    "\n",
    "print(\"Test Data Shape:\", test_padded.shape)\n",
    "print(\"Test Labels Shape:\", test_labels_final.shape)"
   ]
  },
  {
   "cell_type": "code",
   "execution_count": 57,
   "id": "75297988",
   "metadata": {},
   "outputs": [
    {
     "name": "stdout",
     "output_type": "stream",
     "text": [
      "Epoch 1/20\n",
      "75/75 [==============================] - 1s 5ms/step - loss: 0.6931 - accuracy: 0.5096 - val_loss: 0.6942 - val_accuracy: 0.4617\n",
      "Epoch 2/20\n",
      "75/75 [==============================] - 0s 2ms/step - loss: 0.6924 - accuracy: 0.5104 - val_loss: 0.6962 - val_accuracy: 0.4617\n",
      "Epoch 3/20\n",
      "75/75 [==============================] - 0s 2ms/step - loss: 0.6896 - accuracy: 0.5529 - val_loss: 0.6920 - val_accuracy: 0.4617\n",
      "Epoch 4/20\n",
      "75/75 [==============================] - 0s 2ms/step - loss: 0.6827 - accuracy: 0.7342 - val_loss: 0.6912 - val_accuracy: 0.4617\n",
      "Epoch 5/20\n",
      "75/75 [==============================] - 0s 2ms/step - loss: 0.6660 - accuracy: 0.6388 - val_loss: 0.6730 - val_accuracy: 0.6267\n",
      "Epoch 6/20\n",
      "75/75 [==============================] - 0s 3ms/step - loss: 0.6218 - accuracy: 0.8546 - val_loss: 0.6372 - val_accuracy: 0.7500\n",
      "Epoch 7/20\n",
      "75/75 [==============================] - 0s 2ms/step - loss: 0.5371 - accuracy: 0.8988 - val_loss: 0.5821 - val_accuracy: 0.7717\n",
      "Epoch 8/20\n",
      "75/75 [==============================] - 0s 3ms/step - loss: 0.4342 - accuracy: 0.8992 - val_loss: 0.5612 - val_accuracy: 0.7117\n",
      "Epoch 9/20\n",
      "75/75 [==============================] - 0s 2ms/step - loss: 0.3401 - accuracy: 0.9271 - val_loss: 0.5037 - val_accuracy: 0.7883\n",
      "Epoch 10/20\n",
      "75/75 [==============================] - 0s 2ms/step - loss: 0.2713 - accuracy: 0.9329 - val_loss: 0.5127 - val_accuracy: 0.7417\n",
      "Epoch 11/20\n",
      "75/75 [==============================] - 0s 2ms/step - loss: 0.2242 - accuracy: 0.9442 - val_loss: 0.4955 - val_accuracy: 0.7717\n",
      "Epoch 12/20\n",
      "75/75 [==============================] - 0s 2ms/step - loss: 0.1916 - accuracy: 0.9488 - val_loss: 0.5518 - val_accuracy: 0.7150\n",
      "Epoch 13/20\n",
      "75/75 [==============================] - 0s 2ms/step - loss: 0.1687 - accuracy: 0.9517 - val_loss: 0.4871 - val_accuracy: 0.7883\n",
      "Epoch 14/20\n",
      "75/75 [==============================] - 0s 2ms/step - loss: 0.1518 - accuracy: 0.9500 - val_loss: 0.6076 - val_accuracy: 0.7117\n",
      "Epoch 15/20\n",
      "75/75 [==============================] - 0s 2ms/step - loss: 0.1329 - accuracy: 0.9642 - val_loss: 0.6002 - val_accuracy: 0.7200\n",
      "Epoch 16/20\n",
      "75/75 [==============================] - 0s 2ms/step - loss: 0.1195 - accuracy: 0.9671 - val_loss: 0.6799 - val_accuracy: 0.7133\n",
      "Epoch 17/20\n",
      "75/75 [==============================] - 0s 2ms/step - loss: 0.1117 - accuracy: 0.9679 - val_loss: 0.6922 - val_accuracy: 0.7117\n",
      "Epoch 18/20\n",
      "75/75 [==============================] - 0s 2ms/step - loss: 0.1030 - accuracy: 0.9708 - val_loss: 0.6218 - val_accuracy: 0.7333\n"
     ]
    }
   ],
   "source": [
    "# lets fit the model for 20 epochs\n",
    "epochs_num = 20\n",
    "\n",
    "early_stop = callbacks.EarlyStopping(monitor =\"val_loss\", \n",
    "                                        mode =\"min\", patience = 5, \n",
    "                                        restore_best_weights = True)\n",
    "\n",
    "history = model.fit(padded, train_labels_final, epochs= epochs_num,\n",
    "                   validation_data=(test_padded, test_labels_final),callbacks = [early_stop])"
   ]
  },
  {
   "cell_type": "code",
   "execution_count": 63,
   "id": "5edb1818",
   "metadata": {
    "scrolled": true
   },
   "outputs": [
    {
     "data": {
      "text/plain": [
       "<matplotlib.legend.Legend at 0x21f58eb91d0>"
      ]
     },
     "execution_count": 63,
     "metadata": {},
     "output_type": "execute_result"
    },
    {
     "data": {
      "image/png": "[encoded data removed]",
      "text/plain": [
       "<Figure size 640x480 with 1 Axes>"
      ]
     },
     "metadata": {},
     "output_type": "display_data"
    }
   ],
   "source": [
    "plt.plot(history.history['loss'], label='Loss training')\n",
    "plt.title('Loss value vs Number of epoch')\n",
    "plt.ylabel('Loss value')\n",
    "plt.xlabel('Number of epoch')\n",
    "plt.legend(loc=\"upper left\")"
   ]
  },
  {
   "cell_type": "markdown",
   "id": "497afc0a",
   "metadata": {},
   "source": [
    "### Part III: Network Architecture\n",
    "\n",
    "**C. Describe the type of network used by doing the following:**\n",
    "\n",
    "**1. Provide the output of the model summary of the function from TensorFlow.**"
   ]
  },
  {
   "cell_type": "code",
   "execution_count": 59,
   "id": "2c49797f",
   "metadata": {},
   "outputs": [
    {
     "name": "stdout",
     "output_type": "stream",
     "text": [
      "Model: \"sequential\"\n",
      "_________________________________________________________________\n",
      " Layer (type)                Output Shape              Param #   \n",
      "=================================================================\n",
      " embedding (Embedding)       (None, 73, 8)             36888     \n",
      "                                                                 \n",
      " global_average_pooling1d (  (None, 8)                 0         \n",
      " GlobalAveragePooling1D)                                         \n",
      "                                                                 \n",
      " dense (Dense)               (None, 10)                90        \n",
      "                                                                 \n",
      " dense_1 (Dense)             (None, 6)                 66        \n",
      "                                                                 \n",
      " dense_2 (Dense)             (None, 1)                 7         \n",
      "                                                                 \n",
      "=================================================================\n",
      "Total params: 37051 (144.73 KB)\n",
      "Trainable params: 37051 (144.73 KB)\n",
      "Non-trainable params: 0 (0.00 Byte)\n",
      "_________________________________________________________________\n"
     ]
    }
   ],
   "source": [
    "model.summary()"
   ]
  },
  {
   "cell_type": "code",
   "execution_count": 60,
   "id": "6dcf35c4",
   "metadata": {
    "scrolled": true
   },
   "outputs": [
    {
     "data": {
      "image/png": "[encoded data removed]",
      "text/plain": [
       "<Figure size 640x480 with 1 Axes>"
      ]
     },
     "metadata": {},
     "output_type": "display_data"
    }
   ],
   "source": [
    "plt.plot(history.history['loss'], label=' training data')\n",
    "plt.plot(history.history['val_loss'], label='validation data')\n",
    "plt.title('Loss for Text Classification on train and validate')\n",
    "plt.ylabel('Loss value')\n",
    "plt.xlabel('No. epoch')\n",
    "plt.legend(loc=\"upper left\")\n",
    "plt.show()"
   ]
  },
  {
   "cell_type": "code",
   "execution_count": 61,
   "id": "bd176b43",
   "metadata": {
    "scrolled": true
   },
   "outputs": [
    {
     "data": {
      "text/plain": [
       "<Figure size 640x480 with 0 Axes>"
      ]
     },
     "execution_count": 61,
     "metadata": {},
     "output_type": "execute_result"
    },
    {
     "data": {
      "image/png": "[encoded data removed]",
      "text/plain": [
       "<Figure size 640x480 with 1 Axes>"
      ]
     },
     "metadata": {},
     "output_type": "display_data"
    },
    {
     "data": {
      "image/png": "[encoded data removed]",
      "text/plain": [
       "<Figure size 640x480 with 1 Axes>"
      ]
     },
     "metadata": {},
     "output_type": "display_data"
    },
    {
     "data": {
      "text/plain": [
       "<Figure size 640x480 with 0 Axes>"
      ]
     },
     "metadata": {},
     "output_type": "display_data"
    }
   ],
   "source": [
    "acc = history.history['accuracy']\n",
    "val_acc = history.history['val_accuracy']\n",
    "loss = history.history['loss']\n",
    "val_loss = history.history['val_loss']\n",
    "\n",
    "epochs=range(len(acc))\n",
    "\n",
    "plt.plot(epochs, acc, 'r', 'Training Accuracy')\n",
    "plt.plot(epochs, val_acc, 'b', 'Validation Accuracy')\n",
    "plt.title('Training and Validation Accuracy')\n",
    "plt.figure()\n",
    "plt.plot(epochs, loss, 'r', 'Training Loss')\n",
    "plt.plot(epochs, val_loss, 'b', 'Validation Loss')\n",
    "plt.title('Training and validation loss')\n",
    "plt.figure()"
   ]
  },
  {
   "cell_type": "code",
   "execution_count": 65,
   "id": "3449f531",
   "metadata": {},
   "outputs": [],
   "source": [
    "model.save('Model_D212_T2.h5')"
   ]
  }
 ],
 "metadata": {
  "kernelspec": {
   "display_name": "Python 3 (ipykernel)",
   "language": "python",
   "name": "python3"
  },
  "language_info": {
   "codemirror_mode": {
    "name": "ipython",
    "version": 3
   },
   "file_extension": ".py",
   "mimetype": "text/x-python",
   "name": "python",
   "nbconvert_exporter": "python",
   "pygments_lexer": "ipython3",
   "version": "3.11.4"
  }
 },
 "nbformat": 4,
 "nbformat_minor": 5
}
