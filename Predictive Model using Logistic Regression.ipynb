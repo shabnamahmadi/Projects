{
 "cells": [
  {
   "cell_type": "markdown",
   "metadata": {},
   "source": [
    "### Part I: Research Question\n",
    "\n",
    "**A.  Describe the purpose of this data analysis by doing the following:**\n",
    "\n",
    "**1.  Summarize one research question that is relevant to a real-world organizational situation captured in the data set you have selected and that you will answer using logistic regression.**\n",
    "\n",
    "We will explore the following research questions using the medical data set: **Can we predict whether a patient was readmitted using explanatory variables?**\n",
    "\n",
    "We will use logistical regression to predict what other factors impact a patient's readmission to the hospital.\n",
    "\n",
    "**2.  Define the objectives or goals of the data analysis. Ensure that your objectives or goals are reasonable within the scope of the data dictionary and are represented in the available data.**\n",
    "\n",
    "The goal for this analysis is to explore whether readmission can be predicted with the explanatory variables from the medical dataset. Using logistical regression is reasonable since the ReAdmis (later to be renamed to DummyReAdmis in the analysis) is a binary variable.\n",
    "\n",
    "This analysis can be beneficial for the hospital to be able to predict whether a patient will be readmitted. Hospitals are penalized for patient's readmissions, therefore there is a financial incentive for hospitals to be able to predict whether a patient will be readmitted."
   ]
  },
  {
   "cell_type": "markdown",
   "metadata": {},
   "source": [
    "### Part II: Method Justification\n",
    "\n",
    "**B.  Describe logistic regression methods by doing the following:**\n",
    "\n",
    "**1.  Summarize the assumptions of a logistic regression model.**\n",
    "\n",
    "**These are the assumptions of a logistic regression model** (Leung, 2022):\n",
    "\n",
    "* **Binary Response Variable**: The target variable (ReAdmis) is binary. Additionally, the outcome of the regression model is also binary. \n",
    "* **Linearity of independent variables and log-odds**: The relationship between the logit (log-odds) of the outcome and each continuous independent variable is linear.\n",
    "* **No strongly influential outliers**: Logistic regression assumes that there are no highly influential outlier data points, as they distort the outcome and accuracy of the model.\n",
    "* **No Multicollinearity**: The independent variables are not highly correlated with one another. The independent variables should be independent of each other. This implies that the model should have little or no multicollinearity.\n",
    "* **Independence of observations**: The observations must be independent of each other, meaning that they should not come from repeated or paired data. This means that each observation is not influenced by or related to the rest of the observations.\n",
    "* **Sufficiently large sample size**: There should be an adequate number of observations for each independent variable in the dataset to avoid creating an overfit model.\n",
    "\n",
    "\n",
    "**2.  Describe the benefits of using the tool(s) you have chosen (i.e., Python, R, or both) in support of various phases of the analysis.**\n",
    "\n",
    "I will be using Python for this analysis. The benefit to using Python for the Logistic Regression is that Python has an easy-to-read code and multiple libraries that serve the purpose of the analysis. The libraries that will be used in this analysis are the following: \n",
    "\n",
    "* Pandas - We will using pandas we will upload the data into our workspace\n",
    "* Seaborn - We will be using Seaborn for the data visualizations (scatterplot and heatmap)\n",
    "* MatPlotLib - We will be using MatPlotLib to show our data visualization graphs\n",
    "* StatsModel - We will be using StatsModel for the logistic (logit) regression model \n",
    "* SkLearn - We will be using SkLearn to perform our logistic regression, confusion matrix, and classification report\n",
    "\n",
    "Each of these libraries have their own unique uses that will help us conduct the logistic regression analysis on our dataset.\n",
    "\n",
    "**3.  Explain why logistic regression is an appropriate technique to analyze the research question summarized in Part I.**\n",
    "\n",
    "Logisitic regression is appropriate technique to analyze this research question since our target variable (ReAdmis) is binary. Additionally, there are multiple explanatory variables (our research question will explore multiple variables to predict the target variable) and there is a large sample size of 10,000."
   ]
  },
  {
   "cell_type": "markdown",
   "metadata": {},
   "source": [
    "### Part III: Data Preparation\n",
    "\n",
    "**C. Summarize the data preparation process for logistic regression by doing the following:**\n",
    "\n",
    "**1. Describe your data preparation goals and the data manipulations that will be used to achieve the goals.**\n",
    "\n",
    "The data preparation goals and data manipulations for the logistical regression will include the following:\n",
    "\n",
    "* Read the data using the Pandas \"get_csv\" function and name the dataset \"df\".\n",
    "* Evaluate the column names and rename the columns that are unclear, long, or misspellings.\n",
    "* Run isnull() to determine if there are any missing values in the dataset\n",
    "* Use data visualizations to determine if there are outliers.\n",
    "* Remedy any outliers, if any.\n",
    "* Drop any variables that are not relevant to the research question.\n",
    "* Change the categorical variables to Dummy variables to binary numbers (1 being Yes and 0 being No).\n",
    "\n",
    "\n",
    "**2. Discuss the summary statistics, including the target variable and all predictor variables that you will need to gather from the data set to answer the research question.**\n",
    "\n",
    "After cleaning and reducing the number of variables, we have 36 columns (variables) including the target variable. There remained 10,000 data points as there were no null values and no outliers. \n",
    "\n",
    "The target variable, 'ReAdmis', has 10,000 records. The mean ReAdmis is 0.3669 which can be interpreted as 36.7% of patients of the 10,000 have been readmitted. Since ReAdmis is a binary variable, the max value is 1 (or yes) and the minimum value is 0 (or No).\n",
    "\n",
    "\n",
    "After the dataset was cleaned, the following variables had the following summary statistics:\n",
    "\n",
    "* The variable Income has a mean of: 40490.495159999846, minimum value of 154.08, and maximum value of 207249.1.\n",
    "* The variable VitD_levels has a mean of: 17.964261654862938, minimum value of 9.806483, and maximum value of 26.39444871.\n",
    "* The variable Initial_days has a mean of: 34.45529926595239, minimum value of 1.001980919, and maximum value of 71.98149000000002.\n",
    "* The variable TotalCharge has a mean of: 5312.172768750177, minimum value of 1938.312067, and maximum value of 9180.728.\n",
    "* The variable Additional_charges has a mean of: 12934.528587318178, minimum value of 3125.703, and maximum value of 30566.07.\n",
    "* The variable Children has a mean of: 2.0972, minimum value of 0, and maximum value of 10.\n",
    "* The variable Age has a mean of: 53.5117, minimum value of 18, and maximum value of 89.\n",
    "* The variable Doc_visits has a mean of: 5.0122, minimum value of 1, and maximum value of 9.\n",
    "* The variable Full_meals_eaten has a mean of: 1.0014, minimum value of 0, and maximum value of 7.\n",
    "* The variable vitD_supp has a mean of: 0.3989, minimum value of 0, and maximum value of 5.\n",
    "* The variable TimelyAdmission has a mean of: 3.5188, minimum value of 1, and maximum value of 8.\n",
    "* The variable TimelyTreatment has a mean of: 3.5067, minimum value of 1, and maximum value of 7.\n",
    "* The variable TimelyVisits has a mean of: 3.5111, minimum value of 1, and maximum value of 8.\n",
    "* The variable Reliability has a mean of: 3.5151, minimum value of 1, and maximum value of 7.\n",
    "* The variable Options has a mean of: 3.4969, minimum value of 1, and maximum value of 7.\n",
    "* The variable TreatmentTime has a mean of: 3.5225, minimum value of 1, and maximum value of 7.\n",
    "* The variable Courteous has a mean of: 3.494, minimum value of 1, and maximum value of 7.\n",
    "* The variable ActiveListening has a mean of: 3.5097, minimum value of 1, and maximum value of 7.\n",
    "* The variable DummyGender has a mean of: 0.4768, minimum value of 0, and maximum value of 1.\n",
    "* The variable DummyReAdmis has a mean of: 0.3669, minimum value of 0, and maximum value of 1.\n",
    "* The variable DummySoft_drink has a mean of: 0.2575, minimum value of 0, and maximum value of 1.\n",
    "* The variable DummyHighBlood has a mean of: 0.409, minimum value of 0, and maximum value of 1.\n",
    "* The variable DummyStroke has a mean of: 0.1993, minimum value of 0, and maximum value of 1.\n",
    "* The variable DummyOverweight has a mean of: 0.7094, minimum value of 0, and maximum value of 1.\n",
    "* The variable DummyArthritis has a mean of: 0.3574, minimum value of 0, and maximum value of 1.\n",
    "* The variable DummyDiabetes has a mean of: 0.2738, minimum value of 0, and maximum value of 1.\n",
    "* The variable DummyHyperlipidemia has a mean of: 0.3372, minimum value of 0, and maximum value of 1.\n",
    "* The variable DummyBackPain has a mean of: 0.4114, minimum value of 0, and maximum value of 1.\n",
    "* The variable DummyAnxiety has a mean of: 0.3215, minimum value of 0, and maximum value of 1.\n",
    "* The variable DummyAllergic_rhinitis has a mean of: 0.3941, minimum value of 0, and maximum value of 1.\n",
    "* The variable DummyReflux_esophagitis has a mean of: 0.4135, minimum value of 0, and maximum value of 1.\n",
    "* The variable DummyAsthma has a mean of: 0.2893, minimum value of 0, and maximum value of 1.\n",
    "* The variable DummyEmergency_Admin has a mean of: 0.506, minimum value of 0, and maximum value of 1.\n",
    "* The variable DummyHighComplication_risk has a mean of: 0.3358, minimum value of 0, and maximum value of 1.\n",
    "* The variable DummyXRAYServices has a mean of: 0.1225, minimum value of 0, and maximum value of 1.\n",
    "\n",
    "**3. Explain the steps used to prepare the data for the analysis, including the annotated code.**\n",
    "\n",
    "The following steps will be taken for this analysis:\n",
    "1. Import libraries for the logistic regression\n",
    "2. Load the data into the notebook using pd.read_csv, save the data as df\n",
    "3. Clean data if needed, rename faulty columns, look for null values in the data set\n",
    "4. Drop variables that are not needed to answer the research question\n",
    "5. Change the categorical variables to binary variable with 1 as true/yes and 0 as false/no\n",
    "\n",
    "Please see the annotated code below.\n",
    "\n",
    "**4. Generate univariate and bivariate visualizations of the distributions of variables in the cleaned data set. Include the target variable in your bivariate visualizations.**\n",
    "\n",
    "Please see the below for the univariate and bivariate visualizations.\n",
    "\n",
    "**5. Provide a copy of the prepared data set.**\n",
    "\n",
    "Attached."
   ]
  },
  {
   "cell_type": "code",
   "execution_count": 1,
   "metadata": {},
   "outputs": [],
   "source": [
    "# We will first import all our libraries needed to perform the multiple regression\n",
    "\n",
    "import pandas as pd\n",
    "import seaborn as sns\n",
    "import matplotlib.pyplot as plt\n",
    "from IPython.display import display\n",
    "\n",
    "import statsmodels.api as sm\n",
    "from statsmodels.stats import diagnostic as diag\n",
    "from statsmodels.stats.outliers_influence import variance_inflation_factor\n",
    "\n",
    "from sklearn.linear_model import LogisticRegression\n",
    "from sklearn.model_selection import train_test_split\n",
    "from sklearn.metrics import confusion_matrix\n",
    "from sklearn.metrics import classification_report\n",
    "from sklearn.metrics import mean_squared_error, r2_score, mean_absolute_error\n",
    "\n",
    "\n",
    "%matplotlib inline"
   ]
  },
  {
   "cell_type": "code",
   "execution_count": 2,
   "metadata": {},
   "outputs": [],
   "source": [
    "# Uploading the data into pandas\n",
    "df = pd.read_csv(r\"C:\\Users\\shabn\\Documents\\WGU - MSDA\\D207\\Medical Data - 207\\medical_clean.csv\")"
   ]
  },
  {
   "cell_type": "code",
   "execution_count": 3,
   "metadata": {},
   "outputs": [
    {
     "data": {
      "text/html": [
       "<div>\n",
       "<style scoped>\n",
       "    .dataframe tbody tr th:only-of-type {\n",
       "        vertical-align: middle;\n",
       "    }\n",
       "\n",
       "    .dataframe tbody tr th {\n",
       "        vertical-align: top;\n",
       "    }\n",
       "\n",
       "    .dataframe thead th {\n",
       "        text-align: right;\n",
       "    }\n",
       "</style>\n",
       "<table border=\"1\" class=\"dataframe\">\n",
       "  <thead>\n",
       "    <tr style=\"text-align: right;\">\n",
       "      <th></th>\n",
       "      <th>CaseOrder</th>\n",
       "      <th>Zip</th>\n",
       "      <th>Lat</th>\n",
       "      <th>Lng</th>\n",
       "      <th>Population</th>\n",
       "      <th>Children</th>\n",
       "      <th>Age</th>\n",
       "      <th>Income</th>\n",
       "      <th>VitD_levels</th>\n",
       "      <th>Doc_visits</th>\n",
       "      <th>...</th>\n",
       "      <th>TotalCharge</th>\n",
       "      <th>Additional_charges</th>\n",
       "      <th>Item1</th>\n",
       "      <th>Item2</th>\n",
       "      <th>Item3</th>\n",
       "      <th>Item4</th>\n",
       "      <th>Item5</th>\n",
       "      <th>Item6</th>\n",
       "      <th>Item7</th>\n",
       "      <th>Item8</th>\n",
       "    </tr>\n",
       "  </thead>\n",
       "  <tbody>\n",
       "    <tr>\n",
       "      <th>count</th>\n",
       "      <td>10000.00000</td>\n",
       "      <td>10000.000000</td>\n",
       "      <td>10000.000000</td>\n",
       "      <td>10000.000000</td>\n",
       "      <td>10000.000000</td>\n",
       "      <td>10000.000000</td>\n",
       "      <td>10000.000000</td>\n",
       "      <td>10000.000000</td>\n",
       "      <td>10000.000000</td>\n",
       "      <td>10000.000000</td>\n",
       "      <td>...</td>\n",
       "      <td>10000.000000</td>\n",
       "      <td>10000.000000</td>\n",
       "      <td>10000.000000</td>\n",
       "      <td>10000.000000</td>\n",
       "      <td>10000.000000</td>\n",
       "      <td>10000.000000</td>\n",
       "      <td>10000.000000</td>\n",
       "      <td>10000.000000</td>\n",
       "      <td>10000.000000</td>\n",
       "      <td>10000.000000</td>\n",
       "    </tr>\n",
       "    <tr>\n",
       "      <th>mean</th>\n",
       "      <td>5000.50000</td>\n",
       "      <td>50159.323900</td>\n",
       "      <td>38.751099</td>\n",
       "      <td>-91.243080</td>\n",
       "      <td>9965.253800</td>\n",
       "      <td>2.097200</td>\n",
       "      <td>53.511700</td>\n",
       "      <td>40490.495160</td>\n",
       "      <td>17.964262</td>\n",
       "      <td>5.012200</td>\n",
       "      <td>...</td>\n",
       "      <td>5312.172769</td>\n",
       "      <td>12934.528587</td>\n",
       "      <td>3.518800</td>\n",
       "      <td>3.506700</td>\n",
       "      <td>3.511100</td>\n",
       "      <td>3.515100</td>\n",
       "      <td>3.496900</td>\n",
       "      <td>3.522500</td>\n",
       "      <td>3.494000</td>\n",
       "      <td>3.509700</td>\n",
       "    </tr>\n",
       "    <tr>\n",
       "      <th>std</th>\n",
       "      <td>2886.89568</td>\n",
       "      <td>27469.588208</td>\n",
       "      <td>5.403085</td>\n",
       "      <td>15.205998</td>\n",
       "      <td>14824.758614</td>\n",
       "      <td>2.163659</td>\n",
       "      <td>20.638538</td>\n",
       "      <td>28521.153293</td>\n",
       "      <td>2.017231</td>\n",
       "      <td>1.045734</td>\n",
       "      <td>...</td>\n",
       "      <td>2180.393838</td>\n",
       "      <td>6542.601544</td>\n",
       "      <td>1.031966</td>\n",
       "      <td>1.034825</td>\n",
       "      <td>1.032755</td>\n",
       "      <td>1.036282</td>\n",
       "      <td>1.030192</td>\n",
       "      <td>1.032376</td>\n",
       "      <td>1.021405</td>\n",
       "      <td>1.042312</td>\n",
       "    </tr>\n",
       "    <tr>\n",
       "      <th>min</th>\n",
       "      <td>1.00000</td>\n",
       "      <td>610.000000</td>\n",
       "      <td>17.967190</td>\n",
       "      <td>-174.209700</td>\n",
       "      <td>0.000000</td>\n",
       "      <td>0.000000</td>\n",
       "      <td>18.000000</td>\n",
       "      <td>154.080000</td>\n",
       "      <td>9.806483</td>\n",
       "      <td>1.000000</td>\n",
       "      <td>...</td>\n",
       "      <td>1938.312067</td>\n",
       "      <td>3125.703000</td>\n",
       "      <td>1.000000</td>\n",
       "      <td>1.000000</td>\n",
       "      <td>1.000000</td>\n",
       "      <td>1.000000</td>\n",
       "      <td>1.000000</td>\n",
       "      <td>1.000000</td>\n",
       "      <td>1.000000</td>\n",
       "      <td>1.000000</td>\n",
       "    </tr>\n",
       "    <tr>\n",
       "      <th>25%</th>\n",
       "      <td>2500.75000</td>\n",
       "      <td>27592.000000</td>\n",
       "      <td>35.255120</td>\n",
       "      <td>-97.352982</td>\n",
       "      <td>694.750000</td>\n",
       "      <td>0.000000</td>\n",
       "      <td>36.000000</td>\n",
       "      <td>19598.775000</td>\n",
       "      <td>16.626439</td>\n",
       "      <td>4.000000</td>\n",
       "      <td>...</td>\n",
       "      <td>3179.374015</td>\n",
       "      <td>7986.487755</td>\n",
       "      <td>3.000000</td>\n",
       "      <td>3.000000</td>\n",
       "      <td>3.000000</td>\n",
       "      <td>3.000000</td>\n",
       "      <td>3.000000</td>\n",
       "      <td>3.000000</td>\n",
       "      <td>3.000000</td>\n",
       "      <td>3.000000</td>\n",
       "    </tr>\n",
       "    <tr>\n",
       "      <th>50%</th>\n",
       "      <td>5000.50000</td>\n",
       "      <td>50207.000000</td>\n",
       "      <td>39.419355</td>\n",
       "      <td>-88.397230</td>\n",
       "      <td>2769.000000</td>\n",
       "      <td>1.000000</td>\n",
       "      <td>53.000000</td>\n",
       "      <td>33768.420000</td>\n",
       "      <td>17.951122</td>\n",
       "      <td>5.000000</td>\n",
       "      <td>...</td>\n",
       "      <td>5213.952000</td>\n",
       "      <td>11573.977735</td>\n",
       "      <td>4.000000</td>\n",
       "      <td>3.000000</td>\n",
       "      <td>4.000000</td>\n",
       "      <td>4.000000</td>\n",
       "      <td>3.000000</td>\n",
       "      <td>4.000000</td>\n",
       "      <td>3.000000</td>\n",
       "      <td>3.000000</td>\n",
       "    </tr>\n",
       "    <tr>\n",
       "      <th>75%</th>\n",
       "      <td>7500.25000</td>\n",
       "      <td>72411.750000</td>\n",
       "      <td>42.044175</td>\n",
       "      <td>-80.438050</td>\n",
       "      <td>13945.000000</td>\n",
       "      <td>3.000000</td>\n",
       "      <td>71.000000</td>\n",
       "      <td>54296.402500</td>\n",
       "      <td>19.347963</td>\n",
       "      <td>6.000000</td>\n",
       "      <td>...</td>\n",
       "      <td>7459.699750</td>\n",
       "      <td>15626.490000</td>\n",
       "      <td>4.000000</td>\n",
       "      <td>4.000000</td>\n",
       "      <td>4.000000</td>\n",
       "      <td>4.000000</td>\n",
       "      <td>4.000000</td>\n",
       "      <td>4.000000</td>\n",
       "      <td>4.000000</td>\n",
       "      <td>4.000000</td>\n",
       "    </tr>\n",
       "    <tr>\n",
       "      <th>max</th>\n",
       "      <td>10000.00000</td>\n",
       "      <td>99929.000000</td>\n",
       "      <td>70.560990</td>\n",
       "      <td>-65.290170</td>\n",
       "      <td>122814.000000</td>\n",
       "      <td>10.000000</td>\n",
       "      <td>89.000000</td>\n",
       "      <td>207249.100000</td>\n",
       "      <td>26.394449</td>\n",
       "      <td>9.000000</td>\n",
       "      <td>...</td>\n",
       "      <td>9180.728000</td>\n",
       "      <td>30566.070000</td>\n",
       "      <td>8.000000</td>\n",
       "      <td>7.000000</td>\n",
       "      <td>8.000000</td>\n",
       "      <td>7.000000</td>\n",
       "      <td>7.000000</td>\n",
       "      <td>7.000000</td>\n",
       "      <td>7.000000</td>\n",
       "      <td>7.000000</td>\n",
       "    </tr>\n",
       "  </tbody>\n",
       "</table>\n",
       "<p>8 rows × 23 columns</p>\n",
       "</div>"
      ],
      "text/plain": [
       "         CaseOrder           Zip           Lat           Lng     Population  \\\n",
       "count  10000.00000  10000.000000  10000.000000  10000.000000   10000.000000   \n",
       "mean    5000.50000  50159.323900     38.751099    -91.243080    9965.253800   \n",
       "std     2886.89568  27469.588208      5.403085     15.205998   14824.758614   \n",
       "min        1.00000    610.000000     17.967190   -174.209700       0.000000   \n",
       "25%     2500.75000  27592.000000     35.255120    -97.352982     694.750000   \n",
       "50%     5000.50000  50207.000000     39.419355    -88.397230    2769.000000   \n",
       "75%     7500.25000  72411.750000     42.044175    -80.438050   13945.000000   \n",
       "max    10000.00000  99929.000000     70.560990    -65.290170  122814.000000   \n",
       "\n",
       "           Children           Age         Income   VitD_levels    Doc_visits  \\\n",
       "count  10000.000000  10000.000000   10000.000000  10000.000000  10000.000000   \n",
       "mean       2.097200     53.511700   40490.495160     17.964262      5.012200   \n",
       "std        2.163659     20.638538   28521.153293      2.017231      1.045734   \n",
       "min        0.000000     18.000000     154.080000      9.806483      1.000000   \n",
       "25%        0.000000     36.000000   19598.775000     16.626439      4.000000   \n",
       "50%        1.000000     53.000000   33768.420000     17.951122      5.000000   \n",
       "75%        3.000000     71.000000   54296.402500     19.347963      6.000000   \n",
       "max       10.000000     89.000000  207249.100000     26.394449      9.000000   \n",
       "\n",
       "       ...   TotalCharge  Additional_charges         Item1         Item2  \\\n",
       "count  ...  10000.000000        10000.000000  10000.000000  10000.000000   \n",
       "mean   ...   5312.172769        12934.528587      3.518800      3.506700   \n",
       "std    ...   2180.393838         6542.601544      1.031966      1.034825   \n",
       "min    ...   1938.312067         3125.703000      1.000000      1.000000   \n",
       "25%    ...   3179.374015         7986.487755      3.000000      3.000000   \n",
       "50%    ...   5213.952000        11573.977735      4.000000      3.000000   \n",
       "75%    ...   7459.699750        15626.490000      4.000000      4.000000   \n",
       "max    ...   9180.728000        30566.070000      8.000000      7.000000   \n",
       "\n",
       "              Item3         Item4         Item5         Item6         Item7  \\\n",
       "count  10000.000000  10000.000000  10000.000000  10000.000000  10000.000000   \n",
       "mean       3.511100      3.515100      3.496900      3.522500      3.494000   \n",
       "std        1.032755      1.036282      1.030192      1.032376      1.021405   \n",
       "min        1.000000      1.000000      1.000000      1.000000      1.000000   \n",
       "25%        3.000000      3.000000      3.000000      3.000000      3.000000   \n",
       "50%        4.000000      4.000000      3.000000      4.000000      3.000000   \n",
       "75%        4.000000      4.000000      4.000000      4.000000      4.000000   \n",
       "max        8.000000      7.000000      7.000000      7.000000      7.000000   \n",
       "\n",
       "              Item8  \n",
       "count  10000.000000  \n",
       "mean       3.509700  \n",
       "std        1.042312  \n",
       "min        1.000000  \n",
       "25%        3.000000  \n",
       "50%        3.000000  \n",
       "75%        4.000000  \n",
       "max        7.000000  \n",
       "\n",
       "[8 rows x 23 columns]"
      ]
     },
     "execution_count": 3,
     "metadata": {},
     "output_type": "execute_result"
    }
   ],
   "source": [
    "df.describe()"
   ]
  },
  {
   "cell_type": "code",
   "execution_count": 4,
   "metadata": {},
   "outputs": [
    {
     "data": {
      "text/plain": [
       "Index(['CaseOrder', 'Customer_id', 'Interaction', 'UID', 'City', 'State',\n",
       "       'County', 'Zip', 'Lat', 'Lng', 'Population', 'Area', 'TimeZone', 'Job',\n",
       "       'Children', 'Age', 'Income', 'Marital', 'Gender', 'ReAdmis',\n",
       "       'VitD_levels', 'Doc_visits', 'Full_meals_eaten', 'vitD_supp',\n",
       "       'Soft_drink', 'Initial_admin', 'HighBlood', 'Stroke',\n",
       "       'Complication_risk', 'Overweight', 'Arthritis', 'Diabetes',\n",
       "       'Hyperlipidemia', 'BackPain', 'Anxiety', 'Allergic_rhinitis',\n",
       "       'Reflux_esophagitis', 'Asthma', 'Services', 'Initial_days',\n",
       "       'TotalCharge', 'Additional_charges', 'Item1', 'Item2', 'Item3', 'Item4',\n",
       "       'Item5', 'Item6', 'Item7', 'Item8'],\n",
       "      dtype='object')"
      ]
     },
     "execution_count": 4,
     "metadata": {},
     "output_type": "execute_result"
    }
   ],
   "source": [
    "df.columns"
   ]
  },
  {
   "cell_type": "code",
   "execution_count": 5,
   "metadata": {},
   "outputs": [
    {
     "data": {
      "text/plain": [
       "Index(['CaseOrder', 'Customer_id', 'Interaction', 'UID', 'City', 'State',\n",
       "       'County', 'Zip', 'Lat', 'Lng', 'Population', 'Area', 'TimeZone', 'Job',\n",
       "       'Children', 'Age', 'Income', 'Marital', 'Gender', 'ReAdmis',\n",
       "       'VitD_levels', 'Doc_visits', 'Full_meals_eaten', 'vitD_supp',\n",
       "       'Soft_drink', 'Initial_admin', 'HighBlood', 'Stroke',\n",
       "       'Complication_risk', 'Overweight', 'Arthritis', 'Diabetes',\n",
       "       'Hyperlipidemia', 'BackPain', 'Anxiety', 'Allergic_rhinitis',\n",
       "       'Reflux_esophagitis', 'Asthma', 'Services', 'Initial_days',\n",
       "       'TotalCharge', 'Additional_charges', 'TimelyAdmission',\n",
       "       'TimelyTreatment', 'TimelyVisits', 'Reliability', 'Options',\n",
       "       'TreatmentTime', 'Courteous', 'ActiveListening'],\n",
       "      dtype='object')"
      ]
     },
     "execution_count": 5,
     "metadata": {},
     "output_type": "execute_result"
    }
   ],
   "source": [
    "# Rename the last 8 columns to reflect what the variables measure\n",
    "\n",
    "df.rename(columns = {\n",
    "    'Item1':'TimelyAdmission',\n",
    "    'Item2':'TimelyTreatment',\n",
    "    'Item3':'TimelyVisits',\n",
    "    'Item4':'Reliability',\n",
    "    'Item5':'Options',\n",
    "    'Item6':'TreatmentTime',\n",
    "    'Item7':'Courteous',\n",
    "    'Item8':'ActiveListening'\n",
    "}, inplace=True)\n",
    "\n",
    "df.columns"
   ]
  },
  {
   "cell_type": "code",
   "execution_count": 6,
   "metadata": {},
   "outputs": [
    {
     "data": {
      "text/plain": [
       "CaseOrder             False\n",
       "Customer_id           False\n",
       "Interaction           False\n",
       "UID                   False\n",
       "City                  False\n",
       "State                 False\n",
       "County                False\n",
       "Zip                   False\n",
       "Lat                   False\n",
       "Lng                   False\n",
       "Population            False\n",
       "Area                  False\n",
       "TimeZone              False\n",
       "Job                   False\n",
       "Children              False\n",
       "Age                   False\n",
       "Income                False\n",
       "Marital               False\n",
       "Gender                False\n",
       "ReAdmis               False\n",
       "VitD_levels           False\n",
       "Doc_visits            False\n",
       "Full_meals_eaten      False\n",
       "vitD_supp             False\n",
       "Soft_drink            False\n",
       "Initial_admin         False\n",
       "HighBlood             False\n",
       "Stroke                False\n",
       "Complication_risk     False\n",
       "Overweight            False\n",
       "Arthritis             False\n",
       "Diabetes              False\n",
       "Hyperlipidemia        False\n",
       "BackPain              False\n",
       "Anxiety               False\n",
       "Allergic_rhinitis     False\n",
       "Reflux_esophagitis    False\n",
       "Asthma                False\n",
       "Services              False\n",
       "Initial_days          False\n",
       "TotalCharge           False\n",
       "Additional_charges    False\n",
       "TimelyAdmission       False\n",
       "TimelyTreatment       False\n",
       "TimelyVisits          False\n",
       "Reliability           False\n",
       "Options               False\n",
       "TreatmentTime         False\n",
       "Courteous             False\n",
       "ActiveListening       False\n",
       "dtype: bool"
      ]
     },
     "metadata": {},
     "output_type": "display_data"
    }
   ],
   "source": [
    "# Check for missing values\n",
    "display(df.isnull().any())"
   ]
  },
  {
   "cell_type": "code",
   "execution_count": 7,
   "metadata": {},
   "outputs": [],
   "source": [
    "# There were no missing values\n",
    "# Now we will drop variables that are not relevant / measurable to the research question\n",
    "df = df.drop(['Customer_id','CaseOrder','Interaction','UID','City','State','County','Zip','Lat','Lng', \n",
    "             \"Area\",'TimeZone','Job','Marital', 'Population'], axis=1)"
   ]
  },
  {
   "cell_type": "code",
   "execution_count": 8,
   "metadata": {},
   "outputs": [
    {
     "name": "stdout",
     "output_type": "stream",
     "text": [
      "\n",
      "Gender is categorical: ['Male' 'Female' 'Nonbinary'].\n",
      "\n",
      "ReAdmis is categorical: ['No' 'Yes'].\n",
      "\n",
      "Soft_drink is categorical: ['No' 'Yes'].\n",
      "\n",
      "Initial_admin is categorical: ['Emergency Admission' 'Elective Admission' 'Observation Admission'].\n",
      "\n",
      "HighBlood is categorical: ['Yes' 'No'].\n",
      "\n",
      "Stroke is categorical: ['No' 'Yes'].\n",
      "\n",
      "Complication_risk is categorical: ['Medium' 'High' 'Low'].\n",
      "\n",
      "Overweight is categorical: ['No' 'Yes'].\n",
      "\n",
      "Arthritis is categorical: ['Yes' 'No'].\n",
      "\n",
      "Diabetes is categorical: ['Yes' 'No'].\n",
      "\n",
      "Hyperlipidemia is categorical: ['No' 'Yes'].\n",
      "\n",
      "BackPain is categorical: ['Yes' 'No'].\n",
      "\n",
      "Anxiety is categorical: ['Yes' 'No'].\n",
      "\n",
      "Allergic_rhinitis is categorical: ['Yes' 'No'].\n",
      "\n",
      "Reflux_esophagitis is categorical: ['No' 'Yes'].\n",
      "\n",
      "Asthma is categorical: ['Yes' 'No'].\n",
      "\n",
      "Services is categorical: ['Blood Work' 'Intravenous' 'CT Scan' 'MRI'].\n"
     ]
    }
   ],
   "source": [
    "# Let's get a list of the categorical variables and their unique values\n",
    "\n",
    "for c in df.loc[:, df.columns]: # We are looking for columns in df\n",
    "    if df.dtypes[c] == \"object\": # select columns that dtype = object\n",
    "        print('\\n{} is categorical: {}.'.format(c,df[c].unique())) #print the column name and unique values"
   ]
  },
  {
   "cell_type": "code",
   "execution_count": 9,
   "metadata": {},
   "outputs": [
    {
     "data": {
      "text/plain": [
       "Index(['Children', 'Age', 'Income', 'Gender', 'ReAdmis', 'VitD_levels',\n",
       "       'Doc_visits', 'Full_meals_eaten', 'vitD_supp', 'Soft_drink',\n",
       "       'Initial_admin', 'HighBlood', 'Stroke', 'Complication_risk',\n",
       "       'Overweight', 'Arthritis', 'Diabetes', 'Hyperlipidemia', 'BackPain',\n",
       "       'Anxiety', 'Allergic_rhinitis', 'Reflux_esophagitis', 'Asthma',\n",
       "       'Services', 'Initial_days', 'TotalCharge', 'Additional_charges',\n",
       "       'TimelyAdmission', 'TimelyTreatment', 'TimelyVisits', 'Reliability',\n",
       "       'Options', 'TreatmentTime', 'Courteous', 'ActiveListening',\n",
       "       'DummyGender', 'DummyReAdmis', 'DummySoft_drink', 'DummyHighBlood',\n",
       "       'DummyStroke', 'DummyOverweight', 'DummyArthritis', 'DummyDiabetes',\n",
       "       'DummyHyperlipidemia', 'DummyBackPain', 'DummyAnxiety',\n",
       "       'DummyAllergic_rhinitis', 'DummyReflux_esophagitis', 'DummyAsthma',\n",
       "       'DummyEmergency_Admin', 'DummyHighComplication_risk',\n",
       "       'DummyXRAYServices'],\n",
       "      dtype='object')"
      ]
     },
     "execution_count": 9,
     "metadata": {},
     "output_type": "execute_result"
    }
   ],
   "source": [
    "# We will change the categorical variables to binary numerical values (1 or 0)\n",
    "\n",
    "df['DummyGender'] = [1 if v == 'Male' else 0 for v in df['Gender']]\n",
    "df['DummyReAdmis'] = [1 if v == 'Yes' else 0 for v in df['ReAdmis']]\n",
    "df['DummySoft_drink'] = [1 if v == 'Yes' else 0 for v in df['Soft_drink']]\n",
    "df['DummyHighBlood'] = [1 if v == 'Yes' else 0 for v in df['HighBlood']]\n",
    "df['DummyStroke'] = [1 if v == 'Yes' else 0 for v in df['Stroke']]\n",
    "df['DummyOverweight'] = [1 if v == 'Yes' else 0 for v in df['Overweight']]\n",
    "df['DummyArthritis'] = [1 if v == 'Yes' else 0 for v in df['Arthritis']]\n",
    "df['DummyDiabetes'] = [1 if v == 'Yes' else 0 for v in df['Diabetes']]\n",
    "df['DummyHyperlipidemia'] = [1 if v == 'Yes' else 0 for v in df['Hyperlipidemia']]\n",
    "df['DummyBackPain'] = [1 if v == 'Yes' else 0 for v in df['BackPain']]\n",
    "df['DummyAnxiety'] = [1 if v == 'Yes' else 0 for v in df['Anxiety']]\n",
    "df['DummyAllergic_rhinitis'] = [1 if v == 'Yes' else 0 for v in df['Allergic_rhinitis']]\n",
    "df['DummyReflux_esophagitis'] = [1 if v == 'Yes' else 0 for v in df['Reflux_esophagitis']]\n",
    "df['DummyAsthma'] = [1 if v == 'Yes' else 0 for v in df['Asthma']]\n",
    "\n",
    "# For Emergency_Admin, we will assign 1 to all emergency admission and 0 for the rest\n",
    "df['DummyEmergency_Admin'] = [1 if v == 'Emergency Admission' else 0 for v in df['Initial_admin']]\n",
    "\n",
    "# For Complication_Risk, we will assign 1 to all high complications and 0 for medium and low\n",
    "df['DummyHighComplication_risk'] = [1 if v == 'High' else 0 for v in df['Complication_risk']]\n",
    "\n",
    "# For Services, we will assign 1 to all xray scans (CT scan and MRI) and 0 to other services (blood work and IV)\n",
    "df['DummyXRAYServices'] = [1 if v == ('CT Scan' or 'MRI') else 0 for v in df['Services']]\n",
    "\n",
    "df.columns"
   ]
  },
  {
   "cell_type": "code",
   "execution_count": 10,
   "metadata": {},
   "outputs": [
    {
     "data": {
      "text/html": [
       "<div>\n",
       "<style scoped>\n",
       "    .dataframe tbody tr th:only-of-type {\n",
       "        vertical-align: middle;\n",
       "    }\n",
       "\n",
       "    .dataframe tbody tr th {\n",
       "        vertical-align: top;\n",
       "    }\n",
       "\n",
       "    .dataframe thead th {\n",
       "        text-align: right;\n",
       "    }\n",
       "</style>\n",
       "<table border=\"1\" class=\"dataframe\">\n",
       "  <thead>\n",
       "    <tr style=\"text-align: right;\">\n",
       "      <th></th>\n",
       "      <th>Children</th>\n",
       "      <th>Age</th>\n",
       "      <th>Income</th>\n",
       "      <th>Gender</th>\n",
       "      <th>ReAdmis</th>\n",
       "      <th>VitD_levels</th>\n",
       "      <th>Doc_visits</th>\n",
       "      <th>Full_meals_eaten</th>\n",
       "      <th>vitD_supp</th>\n",
       "      <th>Soft_drink</th>\n",
       "      <th>...</th>\n",
       "      <th>DummyDiabetes</th>\n",
       "      <th>DummyHyperlipidemia</th>\n",
       "      <th>DummyBackPain</th>\n",
       "      <th>DummyAnxiety</th>\n",
       "      <th>DummyAllergic_rhinitis</th>\n",
       "      <th>DummyReflux_esophagitis</th>\n",
       "      <th>DummyAsthma</th>\n",
       "      <th>DummyEmergency_Admin</th>\n",
       "      <th>DummyHighComplication_risk</th>\n",
       "      <th>DummyXRAYServices</th>\n",
       "    </tr>\n",
       "  </thead>\n",
       "  <tbody>\n",
       "    <tr>\n",
       "      <th>0</th>\n",
       "      <td>1</td>\n",
       "      <td>53</td>\n",
       "      <td>86575.93</td>\n",
       "      <td>Male</td>\n",
       "      <td>No</td>\n",
       "      <td>19.141466</td>\n",
       "      <td>6</td>\n",
       "      <td>0</td>\n",
       "      <td>0</td>\n",
       "      <td>No</td>\n",
       "      <td>...</td>\n",
       "      <td>1</td>\n",
       "      <td>0</td>\n",
       "      <td>1</td>\n",
       "      <td>1</td>\n",
       "      <td>1</td>\n",
       "      <td>0</td>\n",
       "      <td>1</td>\n",
       "      <td>1</td>\n",
       "      <td>0</td>\n",
       "      <td>0</td>\n",
       "    </tr>\n",
       "    <tr>\n",
       "      <th>1</th>\n",
       "      <td>3</td>\n",
       "      <td>51</td>\n",
       "      <td>46805.99</td>\n",
       "      <td>Female</td>\n",
       "      <td>No</td>\n",
       "      <td>18.940352</td>\n",
       "      <td>4</td>\n",
       "      <td>2</td>\n",
       "      <td>1</td>\n",
       "      <td>No</td>\n",
       "      <td>...</td>\n",
       "      <td>0</td>\n",
       "      <td>0</td>\n",
       "      <td>0</td>\n",
       "      <td>0</td>\n",
       "      <td>0</td>\n",
       "      <td>1</td>\n",
       "      <td>0</td>\n",
       "      <td>1</td>\n",
       "      <td>1</td>\n",
       "      <td>0</td>\n",
       "    </tr>\n",
       "    <tr>\n",
       "      <th>2</th>\n",
       "      <td>3</td>\n",
       "      <td>53</td>\n",
       "      <td>14370.14</td>\n",
       "      <td>Female</td>\n",
       "      <td>No</td>\n",
       "      <td>18.057507</td>\n",
       "      <td>4</td>\n",
       "      <td>1</td>\n",
       "      <td>0</td>\n",
       "      <td>No</td>\n",
       "      <td>...</td>\n",
       "      <td>1</td>\n",
       "      <td>0</td>\n",
       "      <td>0</td>\n",
       "      <td>0</td>\n",
       "      <td>0</td>\n",
       "      <td>0</td>\n",
       "      <td>0</td>\n",
       "      <td>0</td>\n",
       "      <td>0</td>\n",
       "      <td>0</td>\n",
       "    </tr>\n",
       "    <tr>\n",
       "      <th>3</th>\n",
       "      <td>0</td>\n",
       "      <td>78</td>\n",
       "      <td>39741.49</td>\n",
       "      <td>Male</td>\n",
       "      <td>No</td>\n",
       "      <td>16.576858</td>\n",
       "      <td>4</td>\n",
       "      <td>1</td>\n",
       "      <td>0</td>\n",
       "      <td>No</td>\n",
       "      <td>...</td>\n",
       "      <td>0</td>\n",
       "      <td>0</td>\n",
       "      <td>0</td>\n",
       "      <td>0</td>\n",
       "      <td>0</td>\n",
       "      <td>1</td>\n",
       "      <td>1</td>\n",
       "      <td>0</td>\n",
       "      <td>0</td>\n",
       "      <td>0</td>\n",
       "    </tr>\n",
       "    <tr>\n",
       "      <th>4</th>\n",
       "      <td>1</td>\n",
       "      <td>22</td>\n",
       "      <td>1209.56</td>\n",
       "      <td>Female</td>\n",
       "      <td>No</td>\n",
       "      <td>17.439069</td>\n",
       "      <td>5</td>\n",
       "      <td>0</td>\n",
       "      <td>2</td>\n",
       "      <td>Yes</td>\n",
       "      <td>...</td>\n",
       "      <td>0</td>\n",
       "      <td>1</td>\n",
       "      <td>0</td>\n",
       "      <td>0</td>\n",
       "      <td>1</td>\n",
       "      <td>0</td>\n",
       "      <td>0</td>\n",
       "      <td>0</td>\n",
       "      <td>0</td>\n",
       "      <td>1</td>\n",
       "    </tr>\n",
       "    <tr>\n",
       "      <th>...</th>\n",
       "      <td>...</td>\n",
       "      <td>...</td>\n",
       "      <td>...</td>\n",
       "      <td>...</td>\n",
       "      <td>...</td>\n",
       "      <td>...</td>\n",
       "      <td>...</td>\n",
       "      <td>...</td>\n",
       "      <td>...</td>\n",
       "      <td>...</td>\n",
       "      <td>...</td>\n",
       "      <td>...</td>\n",
       "      <td>...</td>\n",
       "      <td>...</td>\n",
       "      <td>...</td>\n",
       "      <td>...</td>\n",
       "      <td>...</td>\n",
       "      <td>...</td>\n",
       "      <td>...</td>\n",
       "      <td>...</td>\n",
       "      <td>...</td>\n",
       "    </tr>\n",
       "    <tr>\n",
       "      <th>9995</th>\n",
       "      <td>2</td>\n",
       "      <td>25</td>\n",
       "      <td>45967.61</td>\n",
       "      <td>Male</td>\n",
       "      <td>No</td>\n",
       "      <td>16.980860</td>\n",
       "      <td>4</td>\n",
       "      <td>2</td>\n",
       "      <td>1</td>\n",
       "      <td>No</td>\n",
       "      <td>...</td>\n",
       "      <td>0</td>\n",
       "      <td>0</td>\n",
       "      <td>0</td>\n",
       "      <td>1</td>\n",
       "      <td>0</td>\n",
       "      <td>1</td>\n",
       "      <td>0</td>\n",
       "      <td>1</td>\n",
       "      <td>0</td>\n",
       "      <td>0</td>\n",
       "    </tr>\n",
       "    <tr>\n",
       "      <th>9996</th>\n",
       "      <td>4</td>\n",
       "      <td>87</td>\n",
       "      <td>14983.02</td>\n",
       "      <td>Male</td>\n",
       "      <td>Yes</td>\n",
       "      <td>18.177020</td>\n",
       "      <td>5</td>\n",
       "      <td>0</td>\n",
       "      <td>0</td>\n",
       "      <td>No</td>\n",
       "      <td>...</td>\n",
       "      <td>1</td>\n",
       "      <td>0</td>\n",
       "      <td>0</td>\n",
       "      <td>0</td>\n",
       "      <td>0</td>\n",
       "      <td>0</td>\n",
       "      <td>1</td>\n",
       "      <td>0</td>\n",
       "      <td>0</td>\n",
       "      <td>1</td>\n",
       "    </tr>\n",
       "    <tr>\n",
       "      <th>9997</th>\n",
       "      <td>3</td>\n",
       "      <td>45</td>\n",
       "      <td>65917.81</td>\n",
       "      <td>Female</td>\n",
       "      <td>Yes</td>\n",
       "      <td>17.129070</td>\n",
       "      <td>4</td>\n",
       "      <td>2</td>\n",
       "      <td>0</td>\n",
       "      <td>Yes</td>\n",
       "      <td>...</td>\n",
       "      <td>0</td>\n",
       "      <td>0</td>\n",
       "      <td>0</td>\n",
       "      <td>1</td>\n",
       "      <td>1</td>\n",
       "      <td>0</td>\n",
       "      <td>0</td>\n",
       "      <td>0</td>\n",
       "      <td>1</td>\n",
       "      <td>0</td>\n",
       "    </tr>\n",
       "    <tr>\n",
       "      <th>9998</th>\n",
       "      <td>3</td>\n",
       "      <td>43</td>\n",
       "      <td>29702.32</td>\n",
       "      <td>Male</td>\n",
       "      <td>Yes</td>\n",
       "      <td>19.910430</td>\n",
       "      <td>5</td>\n",
       "      <td>2</td>\n",
       "      <td>1</td>\n",
       "      <td>No</td>\n",
       "      <td>...</td>\n",
       "      <td>0</td>\n",
       "      <td>0</td>\n",
       "      <td>1</td>\n",
       "      <td>0</td>\n",
       "      <td>0</td>\n",
       "      <td>0</td>\n",
       "      <td>0</td>\n",
       "      <td>1</td>\n",
       "      <td>0</td>\n",
       "      <td>0</td>\n",
       "    </tr>\n",
       "    <tr>\n",
       "      <th>9999</th>\n",
       "      <td>8</td>\n",
       "      <td>70</td>\n",
       "      <td>62682.63</td>\n",
       "      <td>Female</td>\n",
       "      <td>Yes</td>\n",
       "      <td>18.388620</td>\n",
       "      <td>5</td>\n",
       "      <td>0</td>\n",
       "      <td>1</td>\n",
       "      <td>No</td>\n",
       "      <td>...</td>\n",
       "      <td>0</td>\n",
       "      <td>1</td>\n",
       "      <td>0</td>\n",
       "      <td>0</td>\n",
       "      <td>1</td>\n",
       "      <td>0</td>\n",
       "      <td>0</td>\n",
       "      <td>0</td>\n",
       "      <td>0</td>\n",
       "      <td>0</td>\n",
       "    </tr>\n",
       "  </tbody>\n",
       "</table>\n",
       "<p>10000 rows × 52 columns</p>\n",
       "</div>"
      ],
      "text/plain": [
       "      Children  Age    Income  Gender ReAdmis  VitD_levels  Doc_visits  \\\n",
       "0            1   53  86575.93    Male      No    19.141466           6   \n",
       "1            3   51  46805.99  Female      No    18.940352           4   \n",
       "2            3   53  14370.14  Female      No    18.057507           4   \n",
       "3            0   78  39741.49    Male      No    16.576858           4   \n",
       "4            1   22   1209.56  Female      No    17.439069           5   \n",
       "...        ...  ...       ...     ...     ...          ...         ...   \n",
       "9995         2   25  45967.61    Male      No    16.980860           4   \n",
       "9996         4   87  14983.02    Male     Yes    18.177020           5   \n",
       "9997         3   45  65917.81  Female     Yes    17.129070           4   \n",
       "9998         3   43  29702.32    Male     Yes    19.910430           5   \n",
       "9999         8   70  62682.63  Female     Yes    18.388620           5   \n",
       "\n",
       "      Full_meals_eaten  vitD_supp Soft_drink  ... DummyDiabetes  \\\n",
       "0                    0          0         No  ...             1   \n",
       "1                    2          1         No  ...             0   \n",
       "2                    1          0         No  ...             1   \n",
       "3                    1          0         No  ...             0   \n",
       "4                    0          2        Yes  ...             0   \n",
       "...                ...        ...        ...  ...           ...   \n",
       "9995                 2          1         No  ...             0   \n",
       "9996                 0          0         No  ...             1   \n",
       "9997                 2          0        Yes  ...             0   \n",
       "9998                 2          1         No  ...             0   \n",
       "9999                 0          1         No  ...             0   \n",
       "\n",
       "     DummyHyperlipidemia DummyBackPain DummyAnxiety DummyAllergic_rhinitis  \\\n",
       "0                      0             1            1                      1   \n",
       "1                      0             0            0                      0   \n",
       "2                      0             0            0                      0   \n",
       "3                      0             0            0                      0   \n",
       "4                      1             0            0                      1   \n",
       "...                  ...           ...          ...                    ...   \n",
       "9995                   0             0            1                      0   \n",
       "9996                   0             0            0                      0   \n",
       "9997                   0             0            1                      1   \n",
       "9998                   0             1            0                      0   \n",
       "9999                   1             0            0                      1   \n",
       "\n",
       "     DummyReflux_esophagitis DummyAsthma DummyEmergency_Admin  \\\n",
       "0                          0           1                    1   \n",
       "1                          1           0                    1   \n",
       "2                          0           0                    0   \n",
       "3                          1           1                    0   \n",
       "4                          0           0                    0   \n",
       "...                      ...         ...                  ...   \n",
       "9995                       1           0                    1   \n",
       "9996                       0           1                    0   \n",
       "9997                       0           0                    0   \n",
       "9998                       0           0                    1   \n",
       "9999                       0           0                    0   \n",
       "\n",
       "     DummyHighComplication_risk DummyXRAYServices  \n",
       "0                             0                 0  \n",
       "1                             1                 0  \n",
       "2                             0                 0  \n",
       "3                             0                 0  \n",
       "4                             0                 1  \n",
       "...                         ...               ...  \n",
       "9995                          0                 0  \n",
       "9996                          0                 1  \n",
       "9997                          1                 0  \n",
       "9998                          0                 0  \n",
       "9999                          0                 0  \n",
       "\n",
       "[10000 rows x 52 columns]"
      ]
     },
     "execution_count": 10,
     "metadata": {},
     "output_type": "execute_result"
    }
   ],
   "source": [
    "df"
   ]
  },
  {
   "cell_type": "code",
   "execution_count": 11,
   "metadata": {},
   "outputs": [
    {
     "data": {
      "text/html": [
       "<div>\n",
       "<style scoped>\n",
       "    .dataframe tbody tr th:only-of-type {\n",
       "        vertical-align: middle;\n",
       "    }\n",
       "\n",
       "    .dataframe tbody tr th {\n",
       "        vertical-align: top;\n",
       "    }\n",
       "\n",
       "    .dataframe thead th {\n",
       "        text-align: right;\n",
       "    }\n",
       "</style>\n",
       "<table border=\"1\" class=\"dataframe\">\n",
       "  <thead>\n",
       "    <tr style=\"text-align: right;\">\n",
       "      <th></th>\n",
       "      <th>Children</th>\n",
       "      <th>Age</th>\n",
       "      <th>Income</th>\n",
       "      <th>VitD_levels</th>\n",
       "      <th>Doc_visits</th>\n",
       "      <th>Full_meals_eaten</th>\n",
       "      <th>vitD_supp</th>\n",
       "      <th>Initial_days</th>\n",
       "      <th>TotalCharge</th>\n",
       "      <th>Additional_charges</th>\n",
       "      <th>...</th>\n",
       "      <th>DummyDiabetes</th>\n",
       "      <th>DummyHyperlipidemia</th>\n",
       "      <th>DummyBackPain</th>\n",
       "      <th>DummyAnxiety</th>\n",
       "      <th>DummyAllergic_rhinitis</th>\n",
       "      <th>DummyReflux_esophagitis</th>\n",
       "      <th>DummyAsthma</th>\n",
       "      <th>DummyEmergency_Admin</th>\n",
       "      <th>DummyHighComplication_risk</th>\n",
       "      <th>DummyXRAYServices</th>\n",
       "    </tr>\n",
       "  </thead>\n",
       "  <tbody>\n",
       "    <tr>\n",
       "      <th>count</th>\n",
       "      <td>10000.000000</td>\n",
       "      <td>10000.000000</td>\n",
       "      <td>10000.000000</td>\n",
       "      <td>10000.000000</td>\n",
       "      <td>10000.000000</td>\n",
       "      <td>10000.000000</td>\n",
       "      <td>10000.000000</td>\n",
       "      <td>10000.000000</td>\n",
       "      <td>10000.000000</td>\n",
       "      <td>10000.000000</td>\n",
       "      <td>...</td>\n",
       "      <td>10000.00000</td>\n",
       "      <td>10000.000000</td>\n",
       "      <td>10000.000000</td>\n",
       "      <td>10000.000000</td>\n",
       "      <td>10000.000000</td>\n",
       "      <td>10000.000000</td>\n",
       "      <td>10000.00000</td>\n",
       "      <td>10000.000000</td>\n",
       "      <td>10000.000000</td>\n",
       "      <td>10000.000000</td>\n",
       "    </tr>\n",
       "    <tr>\n",
       "      <th>mean</th>\n",
       "      <td>2.097200</td>\n",
       "      <td>53.511700</td>\n",
       "      <td>40490.495160</td>\n",
       "      <td>17.964262</td>\n",
       "      <td>5.012200</td>\n",
       "      <td>1.001400</td>\n",
       "      <td>0.398900</td>\n",
       "      <td>34.455299</td>\n",
       "      <td>5312.172769</td>\n",
       "      <td>12934.528587</td>\n",
       "      <td>...</td>\n",
       "      <td>0.27380</td>\n",
       "      <td>0.337200</td>\n",
       "      <td>0.411400</td>\n",
       "      <td>0.321500</td>\n",
       "      <td>0.394100</td>\n",
       "      <td>0.413500</td>\n",
       "      <td>0.28930</td>\n",
       "      <td>0.506000</td>\n",
       "      <td>0.335800</td>\n",
       "      <td>0.122500</td>\n",
       "    </tr>\n",
       "    <tr>\n",
       "      <th>std</th>\n",
       "      <td>2.163659</td>\n",
       "      <td>20.638538</td>\n",
       "      <td>28521.153293</td>\n",
       "      <td>2.017231</td>\n",
       "      <td>1.045734</td>\n",
       "      <td>1.008117</td>\n",
       "      <td>0.628505</td>\n",
       "      <td>26.309341</td>\n",
       "      <td>2180.393838</td>\n",
       "      <td>6542.601544</td>\n",
       "      <td>...</td>\n",
       "      <td>0.44593</td>\n",
       "      <td>0.472777</td>\n",
       "      <td>0.492112</td>\n",
       "      <td>0.467076</td>\n",
       "      <td>0.488681</td>\n",
       "      <td>0.492486</td>\n",
       "      <td>0.45346</td>\n",
       "      <td>0.499989</td>\n",
       "      <td>0.472293</td>\n",
       "      <td>0.327879</td>\n",
       "    </tr>\n",
       "    <tr>\n",
       "      <th>min</th>\n",
       "      <td>0.000000</td>\n",
       "      <td>18.000000</td>\n",
       "      <td>154.080000</td>\n",
       "      <td>9.806483</td>\n",
       "      <td>1.000000</td>\n",
       "      <td>0.000000</td>\n",
       "      <td>0.000000</td>\n",
       "      <td>1.001981</td>\n",
       "      <td>1938.312067</td>\n",
       "      <td>3125.703000</td>\n",
       "      <td>...</td>\n",
       "      <td>0.00000</td>\n",
       "      <td>0.000000</td>\n",
       "      <td>0.000000</td>\n",
       "      <td>0.000000</td>\n",
       "      <td>0.000000</td>\n",
       "      <td>0.000000</td>\n",
       "      <td>0.00000</td>\n",
       "      <td>0.000000</td>\n",
       "      <td>0.000000</td>\n",
       "      <td>0.000000</td>\n",
       "    </tr>\n",
       "    <tr>\n",
       "      <th>25%</th>\n",
       "      <td>0.000000</td>\n",
       "      <td>36.000000</td>\n",
       "      <td>19598.775000</td>\n",
       "      <td>16.626439</td>\n",
       "      <td>4.000000</td>\n",
       "      <td>0.000000</td>\n",
       "      <td>0.000000</td>\n",
       "      <td>7.896215</td>\n",
       "      <td>3179.374015</td>\n",
       "      <td>7986.487755</td>\n",
       "      <td>...</td>\n",
       "      <td>0.00000</td>\n",
       "      <td>0.000000</td>\n",
       "      <td>0.000000</td>\n",
       "      <td>0.000000</td>\n",
       "      <td>0.000000</td>\n",
       "      <td>0.000000</td>\n",
       "      <td>0.00000</td>\n",
       "      <td>0.000000</td>\n",
       "      <td>0.000000</td>\n",
       "      <td>0.000000</td>\n",
       "    </tr>\n",
       "    <tr>\n",
       "      <th>50%</th>\n",
       "      <td>1.000000</td>\n",
       "      <td>53.000000</td>\n",
       "      <td>33768.420000</td>\n",
       "      <td>17.951122</td>\n",
       "      <td>5.000000</td>\n",
       "      <td>1.000000</td>\n",
       "      <td>0.000000</td>\n",
       "      <td>35.836244</td>\n",
       "      <td>5213.952000</td>\n",
       "      <td>11573.977735</td>\n",
       "      <td>...</td>\n",
       "      <td>0.00000</td>\n",
       "      <td>0.000000</td>\n",
       "      <td>0.000000</td>\n",
       "      <td>0.000000</td>\n",
       "      <td>0.000000</td>\n",
       "      <td>0.000000</td>\n",
       "      <td>0.00000</td>\n",
       "      <td>1.000000</td>\n",
       "      <td>0.000000</td>\n",
       "      <td>0.000000</td>\n",
       "    </tr>\n",
       "    <tr>\n",
       "      <th>75%</th>\n",
       "      <td>3.000000</td>\n",
       "      <td>71.000000</td>\n",
       "      <td>54296.402500</td>\n",
       "      <td>19.347963</td>\n",
       "      <td>6.000000</td>\n",
       "      <td>2.000000</td>\n",
       "      <td>1.000000</td>\n",
       "      <td>61.161020</td>\n",
       "      <td>7459.699750</td>\n",
       "      <td>15626.490000</td>\n",
       "      <td>...</td>\n",
       "      <td>1.00000</td>\n",
       "      <td>1.000000</td>\n",
       "      <td>1.000000</td>\n",
       "      <td>1.000000</td>\n",
       "      <td>1.000000</td>\n",
       "      <td>1.000000</td>\n",
       "      <td>1.00000</td>\n",
       "      <td>1.000000</td>\n",
       "      <td>1.000000</td>\n",
       "      <td>0.000000</td>\n",
       "    </tr>\n",
       "    <tr>\n",
       "      <th>max</th>\n",
       "      <td>10.000000</td>\n",
       "      <td>89.000000</td>\n",
       "      <td>207249.100000</td>\n",
       "      <td>26.394449</td>\n",
       "      <td>9.000000</td>\n",
       "      <td>7.000000</td>\n",
       "      <td>5.000000</td>\n",
       "      <td>71.981490</td>\n",
       "      <td>9180.728000</td>\n",
       "      <td>30566.070000</td>\n",
       "      <td>...</td>\n",
       "      <td>1.00000</td>\n",
       "      <td>1.000000</td>\n",
       "      <td>1.000000</td>\n",
       "      <td>1.000000</td>\n",
       "      <td>1.000000</td>\n",
       "      <td>1.000000</td>\n",
       "      <td>1.00000</td>\n",
       "      <td>1.000000</td>\n",
       "      <td>1.000000</td>\n",
       "      <td>1.000000</td>\n",
       "    </tr>\n",
       "  </tbody>\n",
       "</table>\n",
       "<p>8 rows × 35 columns</p>\n",
       "</div>"
      ],
      "text/plain": [
       "           Children           Age         Income   VitD_levels    Doc_visits  \\\n",
       "count  10000.000000  10000.000000   10000.000000  10000.000000  10000.000000   \n",
       "mean       2.097200     53.511700   40490.495160     17.964262      5.012200   \n",
       "std        2.163659     20.638538   28521.153293      2.017231      1.045734   \n",
       "min        0.000000     18.000000     154.080000      9.806483      1.000000   \n",
       "25%        0.000000     36.000000   19598.775000     16.626439      4.000000   \n",
       "50%        1.000000     53.000000   33768.420000     17.951122      5.000000   \n",
       "75%        3.000000     71.000000   54296.402500     19.347963      6.000000   \n",
       "max       10.000000     89.000000  207249.100000     26.394449      9.000000   \n",
       "\n",
       "       Full_meals_eaten     vitD_supp  Initial_days   TotalCharge  \\\n",
       "count      10000.000000  10000.000000  10000.000000  10000.000000   \n",
       "mean           1.001400      0.398900     34.455299   5312.172769   \n",
       "std            1.008117      0.628505     26.309341   2180.393838   \n",
       "min            0.000000      0.000000      1.001981   1938.312067   \n",
       "25%            0.000000      0.000000      7.896215   3179.374015   \n",
       "50%            1.000000      0.000000     35.836244   5213.952000   \n",
       "75%            2.000000      1.000000     61.161020   7459.699750   \n",
       "max            7.000000      5.000000     71.981490   9180.728000   \n",
       "\n",
       "       Additional_charges  ...  DummyDiabetes  DummyHyperlipidemia  \\\n",
       "count        10000.000000  ...    10000.00000         10000.000000   \n",
       "mean         12934.528587  ...        0.27380             0.337200   \n",
       "std           6542.601544  ...        0.44593             0.472777   \n",
       "min           3125.703000  ...        0.00000             0.000000   \n",
       "25%           7986.487755  ...        0.00000             0.000000   \n",
       "50%          11573.977735  ...        0.00000             0.000000   \n",
       "75%          15626.490000  ...        1.00000             1.000000   \n",
       "max          30566.070000  ...        1.00000             1.000000   \n",
       "\n",
       "       DummyBackPain  DummyAnxiety  DummyAllergic_rhinitis  \\\n",
       "count   10000.000000  10000.000000            10000.000000   \n",
       "mean        0.411400      0.321500                0.394100   \n",
       "std         0.492112      0.467076                0.488681   \n",
       "min         0.000000      0.000000                0.000000   \n",
       "25%         0.000000      0.000000                0.000000   \n",
       "50%         0.000000      0.000000                0.000000   \n",
       "75%         1.000000      1.000000                1.000000   \n",
       "max         1.000000      1.000000                1.000000   \n",
       "\n",
       "       DummyReflux_esophagitis  DummyAsthma  DummyEmergency_Admin  \\\n",
       "count             10000.000000  10000.00000          10000.000000   \n",
       "mean                  0.413500      0.28930              0.506000   \n",
       "std                   0.492486      0.45346              0.499989   \n",
       "min                   0.000000      0.00000              0.000000   \n",
       "25%                   0.000000      0.00000              0.000000   \n",
       "50%                   0.000000      0.00000              1.000000   \n",
       "75%                   1.000000      1.00000              1.000000   \n",
       "max                   1.000000      1.00000              1.000000   \n",
       "\n",
       "       DummyHighComplication_risk  DummyXRAYServices  \n",
       "count                10000.000000       10000.000000  \n",
       "mean                     0.335800           0.122500  \n",
       "std                      0.472293           0.327879  \n",
       "min                      0.000000           0.000000  \n",
       "25%                      0.000000           0.000000  \n",
       "50%                      0.000000           0.000000  \n",
       "75%                      1.000000           0.000000  \n",
       "max                      1.000000           1.000000  \n",
       "\n",
       "[8 rows x 35 columns]"
      ]
     },
     "execution_count": 11,
     "metadata": {},
     "output_type": "execute_result"
    }
   ],
   "source": [
    "df.describe()"
   ]
  },
  {
   "cell_type": "code",
   "execution_count": 12,
   "metadata": {},
   "outputs": [
    {
     "data": {
      "text/plain": [
       "count    10000.000000\n",
       "mean         0.506000\n",
       "std          0.499989\n",
       "min          0.000000\n",
       "25%          0.000000\n",
       "50%          1.000000\n",
       "75%          1.000000\n",
       "max          1.000000\n",
       "Name: DummyEmergency_Admin, dtype: float64"
      ]
     },
     "execution_count": 12,
     "metadata": {},
     "output_type": "execute_result"
    }
   ],
   "source": [
    "df['DummyEmergency_Admin'].describe()"
   ]
  },
  {
   "cell_type": "code",
   "execution_count": 13,
   "metadata": {},
   "outputs": [
    {
     "data": {
      "image/png": "[encoded data removed]",
      "text/plain": [
       "<Figure size 2160x1440 with 20 Axes>"
      ]
     },
     "metadata": {
      "needs_background": "light"
     },
     "output_type": "display_data"
    }
   ],
   "source": [
    "# Histograms of the continous variables to scan for outliers\n",
    "df[['Children', 'Age', 'Income', 'VitD_levels', 'Doc_visits',\n",
    "      'Full_meals_eaten', 'vitD_supp', 'Initial_days', 'TotalCharge',\n",
    "      'Additional_charges', 'TimelyAdmission', 'TimelyTreatment',\n",
    "       'TimelyVisits', 'Reliability', 'Options', 'TreatmentTime', 'Courteous',\n",
    "       'ActiveListening']].hist(figsize=(30,20),color='purple')\n",
    "plt.show()"
   ]
  },
  {
   "cell_type": "code",
   "execution_count": 14,
   "metadata": {},
   "outputs": [
    {
     "data": {
      "image/png": "[encoded data removed]",
      "text/plain": [
       "<Figure size 2160x1440 with 20 Axes>"
      ]
     },
     "metadata": {
      "needs_background": "light"
     },
     "output_type": "display_data"
    }
   ],
   "source": [
    "df[['DummyGender', 'DummyReAdmis', 'DummySoft_drink', 'DummyHighBlood',\n",
    "       'DummyStroke', 'DummyOverweight', 'DummyArthritis', 'DummyDiabetes',\n",
    "       'DummyHyperlipidemia', 'DummyBackPain', 'DummyAnxiety',\n",
    "       'DummyAllergic_rhinitis', 'DummyReflux_esophagitis', 'DummyAsthma',\n",
    "       'DummyEmergency_Admin', 'DummyHighComplication_risk',\n",
    "       'DummyXRAYServices']].hist(figsize=(30,20),color='purple')\n",
    "plt.show()"
   ]
  },
  {
   "cell_type": "code",
   "execution_count": 15,
   "metadata": {},
   "outputs": [
    {
     "data": {
      "image/png": "[encoded data removed]",
      "text/plain": [
       "<Figure size 432x288 with 1 Axes>"
      ]
     },
     "metadata": {
      "needs_background": "light"
     },
     "output_type": "display_data"
    }
   ],
   "source": [
    "sns.scatterplot(x=df['Children'],y=df['DummyReAdmis'], color='green')\n",
    "plt.show()"
   ]
  },
  {
   "cell_type": "code",
   "execution_count": 16,
   "metadata": {},
   "outputs": [
    {
     "data": {
      "image/png": "[encoded data removed]",
      "text/plain": [
       "<Figure size 432x288 with 1 Axes>"
      ]
     },
     "metadata": {
      "needs_background": "light"
     },
     "output_type": "display_data"
    }
   ],
   "source": [
    "sns.scatterplot(x=df['Age'],y=df['DummyReAdmis'], color='green')\n",
    "plt.show()"
   ]
  },
  {
   "cell_type": "code",
   "execution_count": 17,
   "metadata": {},
   "outputs": [
    {
     "data": {
      "image/png": "[encoded data removed]",
      "text/plain": [
       "<Figure size 432x288 with 1 Axes>"
      ]
     },
     "metadata": {
      "needs_background": "light"
     },
     "output_type": "display_data"
    }
   ],
   "source": [
    "sns.scatterplot(x=df['Income'],y=df['DummyReAdmis'], color='green')\n",
    "plt.show()"
   ]
  },
  {
   "cell_type": "code",
   "execution_count": 18,
   "metadata": {},
   "outputs": [
    {
     "data": {
      "image/png": "[encoded data removed]",
      "text/plain": [
       "<Figure size 432x288 with 1 Axes>"
      ]
     },
     "metadata": {
      "needs_background": "light"
     },
     "output_type": "display_data"
    }
   ],
   "source": [
    "sns.scatterplot(x=df['VitD_levels'],y=df['DummyReAdmis'], color='green')\n",
    "plt.show()"
   ]
  },
  {
   "cell_type": "code",
   "execution_count": 19,
   "metadata": {},
   "outputs": [
    {
     "data": {
      "image/png": "[encoded data removed]",
      "text/plain": [
       "<Figure size 432x288 with 1 Axes>"
      ]
     },
     "metadata": {
      "needs_background": "light"
     },
     "output_type": "display_data"
    }
   ],
   "source": [
    "sns.scatterplot(x=df['Doc_visits'],y=df['DummyReAdmis'], color='green')\n",
    "plt.show()"
   ]
  },
  {
   "cell_type": "code",
   "execution_count": 20,
   "metadata": {},
   "outputs": [
    {
     "data": {
      "image/png": "[encoded data removed]",
      "text/plain": [
       "<Figure size 432x288 with 1 Axes>"
      ]
     },
     "metadata": {
      "needs_background": "light"
     },
     "output_type": "display_data"
    }
   ],
   "source": [
    "sns.scatterplot(x=df['Full_meals_eaten'],y=df['DummyReAdmis'], color='green')\n",
    "plt.show()"
   ]
  },
  {
   "cell_type": "code",
   "execution_count": 21,
   "metadata": {},
   "outputs": [
    {
     "data": {
      "image/png": "[encoded data removed]",
      "text/plain": [
       "<Figure size 432x288 with 1 Axes>"
      ]
     },
     "metadata": {
      "needs_background": "light"
     },
     "output_type": "display_data"
    }
   ],
   "source": [
    "sns.scatterplot(x=df['vitD_supp'],y=df['DummyReAdmis'], color='green')\n",
    "plt.show()"
   ]
  },
  {
   "cell_type": "code",
   "execution_count": 22,
   "metadata": {},
   "outputs": [
    {
     "data": {
      "image/png": "[encoded data removed]",
      "text/plain": [
       "<Figure size 432x288 with 1 Axes>"
      ]
     },
     "metadata": {
      "needs_background": "light"
     },
     "output_type": "display_data"
    }
   ],
   "source": [
    "sns.scatterplot(x=df['Initial_days'],y=df['DummyReAdmis'], color='green')\n",
    "plt.show()"
   ]
  },
  {
   "cell_type": "code",
   "execution_count": 23,
   "metadata": {},
   "outputs": [
    {
     "data": {
      "image/png": "[encoded data removed]",
      "text/plain": [
       "<Figure size 432x288 with 1 Axes>"
      ]
     },
     "metadata": {
      "needs_background": "light"
     },
     "output_type": "display_data"
    }
   ],
   "source": [
    "sns.scatterplot(x=df['TotalCharge'],y=df['DummyReAdmis'], color='green')\n",
    "plt.show()"
   ]
  },
  {
   "cell_type": "code",
   "execution_count": 24,
   "metadata": {},
   "outputs": [
    {
     "data": {
      "image/png": "[encoded data removed]",
      "text/plain": [
       "<Figure size 432x288 with 1 Axes>"
      ]
     },
     "metadata": {
      "needs_background": "light"
     },
     "output_type": "display_data"
    }
   ],
   "source": [
    "sns.scatterplot(x=df['Additional_charges'],y=df['DummyReAdmis'], color='green')\n",
    "plt.show()"
   ]
  },
  {
   "cell_type": "code",
   "execution_count": 25,
   "metadata": {},
   "outputs": [
    {
     "data": {
      "image/png": "[encoded data removed]",
      "text/plain": [
       "<Figure size 432x288 with 1 Axes>"
      ]
     },
     "metadata": {
      "needs_background": "light"
     },
     "output_type": "display_data"
    }
   ],
   "source": [
    "sns.scatterplot(x=df['TimelyAdmission'],y=df['DummyReAdmis'], color='green')\n",
    "plt.show()"
   ]
  },
  {
   "cell_type": "code",
   "execution_count": 26,
   "metadata": {},
   "outputs": [
    {
     "data": {
      "image/png": "[encoded data removed]",
      "text/plain": [
       "<Figure size 432x288 with 1 Axes>"
      ]
     },
     "metadata": {
      "needs_background": "light"
     },
     "output_type": "display_data"
    }
   ],
   "source": [
    "sns.scatterplot(x=df['TimelyTreatment'],y=df['DummyReAdmis'], color='green')\n",
    "plt.show()"
   ]
  },
  {
   "cell_type": "code",
   "execution_count": 27,
   "metadata": {},
   "outputs": [
    {
     "data": {
      "image/png": "[encoded data removed]",
      "text/plain": [
       "<Figure size 432x288 with 1 Axes>"
      ]
     },
     "metadata": {
      "needs_background": "light"
     },
     "output_type": "display_data"
    }
   ],
   "source": [
    "sns.scatterplot(x=df['TimelyVisits'],y=df['DummyReAdmis'], color='green')\n",
    "plt.show()"
   ]
  },
  {
   "cell_type": "code",
   "execution_count": 28,
   "metadata": {},
   "outputs": [
    {
     "data": {
      "image/png": "[encoded data removed]",
      "text/plain": [
       "<Figure size 432x288 with 1 Axes>"
      ]
     },
     "metadata": {
      "needs_background": "light"
     },
     "output_type": "display_data"
    }
   ],
   "source": [
    "sns.scatterplot(x=df['Reliability'],y=df['DummyReAdmis'], color='green')\n",
    "plt.show()"
   ]
  },
  {
   "cell_type": "code",
   "execution_count": 29,
   "metadata": {},
   "outputs": [
    {
     "data": {
      "image/png": "[encoded data removed]",
      "text/plain": [
       "<Figure size 432x288 with 1 Axes>"
      ]
     },
     "metadata": {
      "needs_background": "light"
     },
     "output_type": "display_data"
    }
   ],
   "source": [
    "sns.scatterplot(x=df['Options'],y=df['DummyReAdmis'], color='green')\n",
    "plt.show()"
   ]
  },
  {
   "cell_type": "code",
   "execution_count": 30,
   "metadata": {},
   "outputs": [
    {
     "data": {
      "image/png": "[encoded data removed]",
      "text/plain": [
       "<Figure size 432x288 with 1 Axes>"
      ]
     },
     "metadata": {
      "needs_background": "light"
     },
     "output_type": "display_data"
    }
   ],
   "source": [
    "sns.scatterplot(x=df['TreatmentTime'],y=df['DummyReAdmis'], color='green')\n",
    "plt.show()"
   ]
  },
  {
   "cell_type": "code",
   "execution_count": 31,
   "metadata": {},
   "outputs": [
    {
     "data": {
      "image/png": "[encoded data removed]",
      "text/plain": [
       "<Figure size 432x288 with 1 Axes>"
      ]
     },
     "metadata": {
      "needs_background": "light"
     },
     "output_type": "display_data"
    }
   ],
   "source": [
    "sns.scatterplot(x=df['Courteous'],y=df['DummyReAdmis'], color='green')\n",
    "plt.show()"
   ]
  },
  {
   "cell_type": "code",
   "execution_count": 32,
   "metadata": {},
   "outputs": [
    {
     "data": {
      "image/png": "[encoded data removed]",
      "text/plain": [
       "<Figure size 432x288 with 1 Axes>"
      ]
     },
     "metadata": {
      "needs_background": "light"
     },
     "output_type": "display_data"
    }
   ],
   "source": [
    "sns.scatterplot(x=df['ActiveListening'],y=df['DummyReAdmis'], color='green')\n",
    "plt.show()"
   ]
  },
  {
   "cell_type": "markdown",
   "metadata": {},
   "source": [
    "### Copy of Cleaned Data"
   ]
  },
  {
   "cell_type": "code",
   "execution_count": 33,
   "metadata": {},
   "outputs": [],
   "source": [
    "df = df[['Children', 'Age', 'Income', 'VitD_levels', 'Doc_visits', 'Full_meals_eaten', 'vitD_supp','Initial_days',\n",
    "       'TotalCharge', 'Additional_charges', 'TimelyAdmission',\n",
    "       'TimelyTreatment', 'TimelyVisits', 'Reliability', 'Options',\n",
    "       'TreatmentTime', 'Courteous', 'ActiveListening', 'DummyReAdmis', 'DummyGender',\n",
    "       'DummySoft_drink', 'DummyDiabetes', 'DummyStroke',\n",
    "       'DummyArthritis', 'DummyHyperlipidemia', 'DummyBackPain', 'DummyAnxiety',\n",
    "       'DummyAllergic_rhinitis', 'DummyReflux_esophagitis', 'DummyAsthma', \n",
    "        'DummyHighBlood', 'DummyXRAYServices', 'DummyEmergency_Admin', 'DummyHighComplication_risk', 'DummyOverweight']]"
   ]
  },
  {
   "cell_type": "code",
   "execution_count": 34,
   "metadata": {},
   "outputs": [],
   "source": [
    "# Save clean data as csv\n",
    "df.to_csv('prepared_df_task2.csv')"
   ]
  },
  {
   "cell_type": "code",
   "execution_count": 35,
   "metadata": {},
   "outputs": [
    {
     "name": "stdout",
     "output_type": "stream",
     "text": [
      "Index(['Unnamed: 0', 'Children', 'Age', 'Income', 'VitD_levels', 'Doc_visits',\n",
      "       'Full_meals_eaten', 'vitD_supp', 'Initial_days', 'TotalCharge',\n",
      "       'Additional_charges', 'TimelyAdmission', 'TimelyTreatment',\n",
      "       'TimelyVisits', 'Reliability', 'Options', 'TreatmentTime', 'Courteous',\n",
      "       'ActiveListening', 'DummyReAdmis', 'DummyGender', 'DummySoft_drink',\n",
      "       'DummyDiabetes', 'DummyStroke', 'DummyArthritis', 'DummyHyperlipidemia',\n",
      "       'DummyBackPain', 'DummyAnxiety', 'DummyAllergic_rhinitis',\n",
      "       'DummyReflux_esophagitis', 'DummyAsthma', 'DummyHighBlood',\n",
      "       'DummyXRAYServices', 'DummyEmergency_Admin',\n",
      "       'DummyHighComplication_risk', 'DummyOverweight'],\n",
      "      dtype='object')\n"
     ]
    }
   ],
   "source": [
    "# Let's redefine df and save the column names for future use\n",
    "df = pd.read_csv('prepared_df_task2.csv')\n",
    "df_columns = df.columns\n",
    "print(df_columns)"
   ]
  },
  {
   "cell_type": "markdown",
   "metadata": {},
   "source": [
    "## Part IV: Model Comparison and Analysis\n",
    "\n",
    "**D.  Compare an initial and a reduced logistic regression model by doing the following:**\n",
    "\n",
    "**1.  Construct an initial logistic regression model from all predictors that were identified in Part C2**\n",
    "\n",
    "See below for the initial logistical regression model."
   ]
  },
  {
   "cell_type": "code",
   "execution_count": 36,
   "metadata": {},
   "outputs": [
    {
     "name": "stdout",
     "output_type": "stream",
     "text": [
      "Optimization terminated successfully.\n",
      "         Current function value: 0.035800\n",
      "         Iterations 14\n",
      "                           Logit Regression Results                           \n",
      "==============================================================================\n",
      "Dep. Variable:           DummyReAdmis   No. Observations:                10000\n",
      "Model:                          Logit   Df Residuals:                     9966\n",
      "Method:                           MLE   Df Model:                           33\n",
      "Date:                Mon, 05 Dec 2022   Pseudo R-squ.:                  0.9455\n",
      "Time:                        21:54:34   Log-Likelihood:                -358.00\n",
      "converged:                       True   LL-Null:                       -6572.9\n",
      "Covariance Type:            nonrobust   LLR p-value:                     0.000\n",
      "==============================================================================================\n",
      "                                 coef    std err          z      P>|z|      [0.025      0.975]\n",
      "----------------------------------------------------------------------------------------------\n",
      "Children                       0.0837      0.044      1.909      0.056      -0.002       0.170\n",
      "Age                           -0.0121      0.014     -0.848      0.397      -0.040       0.016\n",
      "Income                      1.227e-07    3.5e-06      0.035      0.972   -6.74e-06    6.99e-06\n",
      "VitD_levels                    0.0433      0.047      0.926      0.355      -0.048       0.135\n",
      "Doc_visits                     0.0078      0.094      0.083      0.934      -0.176       0.192\n",
      "Full_meals_eaten               0.0512      0.098      0.521      0.602      -0.141       0.244\n",
      "vitD_supp                     -0.1096      0.156     -0.705      0.481      -0.415       0.195\n",
      "Initial_days                   4.6254      0.252     18.375      0.000       4.132       5.119\n",
      "TotalCharge                   -0.0400      0.002    -17.986      0.000      -0.044      -0.036\n",
      "Additional_charges          5.434e-05   6.03e-05      0.902      0.367   -6.38e-05       0.000\n",
      "TimelyAdmission               -0.0099      0.145     -0.069      0.945      -0.294       0.274\n",
      "TimelyTreatment                0.2646      0.129      2.048      0.041       0.011       0.518\n",
      "TimelyVisits                  -0.1491      0.123     -1.215      0.224      -0.390       0.091\n",
      "Reliability                    0.0221      0.110      0.201      0.841      -0.193       0.237\n",
      "Options                       -0.1566      0.113     -1.382      0.167      -0.379       0.065\n",
      "TreatmentTime                 -0.0942      0.119     -0.792      0.428      -0.327       0.139\n",
      "Courteous                      0.0856      0.111      0.773      0.439      -0.131       0.303\n",
      "ActiveListening               -0.1977      0.105     -1.878      0.060      -0.404       0.009\n",
      "DummyGender                    0.1259      0.197      0.638      0.523      -0.261       0.512\n",
      "DummySoft_drink               -0.0148      0.228     -0.065      0.948      -0.463       0.433\n",
      "DummyDiabetes                  3.3879      0.289     11.719      0.000       2.821       3.955\n",
      "DummyStroke                    1.5683      0.259      6.054      0.000       1.061       2.076\n",
      "DummyArthritis                 1.7227      0.226      7.607      0.000       1.279       2.167\n",
      "DummyHyperlipidemia            4.1013      0.310     13.242      0.000       3.494       4.708\n",
      "DummyBackPain                  3.7794      0.292     12.933      0.000       3.207       4.352\n",
      "DummyAnxiety                   2.4951      0.253      9.845      0.000       1.998       2.992\n",
      "DummyAllergic_rhinitis         2.0512      0.232      8.827      0.000       1.596       2.507\n",
      "DummyReflux_esophagitis        2.1039      0.238      8.824      0.000       1.637       2.571\n",
      "DummyAsthma                   -1.2193      0.222     -5.494      0.000      -1.654      -0.784\n",
      "DummyHighBlood                 4.8199      0.637      7.568      0.000       3.572       6.068\n",
      "DummyXRAYServices              1.2550      0.340      3.692      0.000       0.589       1.921\n",
      "DummyEmergency_Admin          22.3331      1.248     17.894      0.000      19.887      24.779\n",
      "DummyHighComplication_risk    17.2520      0.974     17.705      0.000      15.342      19.162\n",
      "DummyOverweight               -0.2611      0.219     -1.191      0.234      -0.691       0.168\n",
      "==============================================================================================\n",
      "\n",
      "Possibly complete quasi-separation: A fraction 0.80 of observations can be\n",
      "perfectly predicted. This might indicate that there is complete\n",
      "quasi-separation. In this case some parameters will not be identified.\n"
     ]
    }
   ],
   "source": [
    "df['Intercept']=1\n",
    "log_reg_results = sm.Logit(df['DummyReAdmis'], df[['Children', 'Age', 'Income', 'VitD_levels', 'Doc_visits', 'Full_meals_eaten', 'vitD_supp','Initial_days',\n",
    "       'TotalCharge', 'Additional_charges', 'TimelyAdmission',\n",
    "       'TimelyTreatment', 'TimelyVisits', 'Reliability', 'Options',\n",
    "       'TreatmentTime', 'Courteous', 'ActiveListening', 'DummyGender',\n",
    "       'DummySoft_drink', 'DummyDiabetes', 'DummyStroke',\n",
    "       'DummyArthritis', 'DummyHyperlipidemia', 'DummyBackPain', 'DummyAnxiety',\n",
    "       'DummyAllergic_rhinitis', 'DummyReflux_esophagitis', 'DummyAsthma', \n",
    "        'DummyHighBlood', 'DummyXRAYServices', 'DummyEmergency_Admin', 'DummyHighComplication_risk', 'DummyOverweight']]).fit()\n",
    "\n",
    "print(log_reg_results.summary())"
   ]
  },
  {
   "cell_type": "markdown",
   "metadata": {},
   "source": [
    "\n",
    "#### 2. Justify a statistically based variable selection procedure and a model evaluation metric to reduce the initial model in a way that aligns with the research question.\n",
    "\n",
    "Our initial model gives a pseudo r-squared value of 0.9455, with a measurement of 33 variables.\n",
    "\n",
    "We will reduce the model by evaluating the p-values. Any p-value above 0.05 is considered statistically insignificant, therefore any variable that has a p-value above 0.05 will be dropped. \n",
    "\n",
    "'Children', 'Age', 'Income', 'VitD_levels', 'Doc_visits', 'Full_meals_eaten', 'vitD_supp',' 'Additional_charges', 'TimelyAdmission', 'TimelyVisits', 'Reliability', 'Options', 'TreatmentTime', 'Courteous', 'ActiveListening', 'DummyGender', 'DummySoft_drink', and 'DummyOverweight' have all been dropped since their p-values are above 0.05.\n",
    "\n",
    "Let's run a reduced model to evaluate the r-squared value. (Kanade, 2022)\n",
    "\n",
    "#### 3. Provide a reduced logistic regression model.\n",
    "\n",
    "Please see below."
   ]
  },
  {
   "cell_type": "code",
   "execution_count": 37,
   "metadata": {},
   "outputs": [
    {
     "name": "stdout",
     "output_type": "stream",
     "text": [
      "Optimization terminated successfully.\n",
      "         Current function value: 0.036729\n",
      "         Iterations 14\n",
      "                           Logit Regression Results                           \n",
      "==============================================================================\n",
      "Dep. Variable:           DummyReAdmis   No. Observations:                10000\n",
      "Model:                          Logit   Df Residuals:                     9984\n",
      "Method:                           MLE   Df Model:                           15\n",
      "Date:                Mon, 05 Dec 2022   Pseudo R-squ.:                  0.9441\n",
      "Time:                        21:54:34   Log-Likelihood:                -367.29\n",
      "converged:                       True   LL-Null:                       -6572.9\n",
      "Covariance Type:            nonrobust   LLR p-value:                     0.000\n",
      "==============================================================================================\n",
      "                                 coef    std err          z      P>|z|      [0.025      0.975]\n",
      "----------------------------------------------------------------------------------------------\n",
      "Initial_days                   4.5464      0.239     18.996      0.000       4.077       5.015\n",
      "TotalCharge                   -0.0394      0.002    -18.956      0.000      -0.043      -0.035\n",
      "TimelyTreatment                0.1561      0.092      1.694      0.090      -0.025       0.337\n",
      "DummyDiabetes                  3.3311      0.277     12.026      0.000       2.788       3.874\n",
      "DummyStroke                    1.5370      0.250      6.137      0.000       1.046       2.028\n",
      "DummyArthritis                 1.7039      0.215      7.920      0.000       1.282       2.126\n",
      "DummyHyperlipidemia            4.0333      0.297     13.560      0.000       3.450       4.616\n",
      "DummyBackPain                  3.6936      0.278     13.304      0.000       3.149       4.238\n",
      "DummyAnxiety                   2.4833      0.243     10.231      0.000       2.008       2.959\n",
      "DummyAllergic_rhinitis         2.0517      0.223      9.189      0.000       1.614       2.489\n",
      "DummyReflux_esophagitis        2.0627      0.227      9.079      0.000       1.617       2.508\n",
      "DummyAsthma                   -1.1890      0.217     -5.478      0.000      -1.614      -0.764\n",
      "DummyHighBlood                 5.2845      0.344     15.346      0.000       4.610       5.959\n",
      "DummyXRAYServices              1.2143      0.329      3.695      0.000       0.570       1.858\n",
      "DummyEmergency_Admin          22.0675      1.176     18.765      0.000      19.763      24.372\n",
      "DummyHighComplication_risk    16.9972      0.916     18.549      0.000      15.201      18.793\n",
      "==============================================================================================\n",
      "\n",
      "Possibly complete quasi-separation: A fraction 0.80 of observations can be\n",
      "perfectly predicted. This might indicate that there is complete\n",
      "quasi-separation. In this case some parameters will not be identified.\n"
     ]
    }
   ],
   "source": [
    "df['Intercept']=1\n",
    "red_log_reg_results = sm.Logit(df['DummyReAdmis'], df[['Initial_days', 'TotalCharge', 'TimelyTreatment',\n",
    "        'DummyDiabetes', 'DummyStroke', 'DummyArthritis', 'DummyHyperlipidemia', 'DummyBackPain', 'DummyAnxiety',\n",
    "       'DummyAllergic_rhinitis', 'DummyReflux_esophagitis', 'DummyAsthma', \n",
    "        'DummyHighBlood', 'DummyXRAYServices', 'DummyEmergency_Admin', 'DummyHighComplication_risk']]).fit()\n",
    "\n",
    "print(red_log_reg_results.summary())"
   ]
  },
  {
   "cell_type": "markdown",
   "metadata": {},
   "source": [
    "We have reduced over half the variables (from 33 variables to 15 variables). The reduced model is as follows:\n",
    "\n",
    "\n",
    "L = 4.5464 * Inital_Days - 0.0394 * TotalCharge + 0.1561 * TimelyTreatment + 3.3311 * DummyDiabetes + 1.5370 * DummyStroke + 1.7039 * DummyArthritis + 4.0333 * DummyHyperlipidemia + 3.6936 * DummyBackPain + 2.4833 * DummyAnxiety + 2.0517 * DummyAllergic_rhinitis + 2.0627 * DummyReflux_esophagitis  - 1.1890 * DummyAsthma + 5.2845 * DummyHighBlood + 1.2143 * DummyXRAYServices + 22.0675 * DummyEmergency_Admin + 16.9972 * DummyHighComplication_risk\n",
    "\n",
    "Additionally, the pseudo r-squared value has reduced from 0.9455 to 0.9441. After reducing the model by 18 variables, we have a 0.0014 difference in the p-value."
   ]
  },
  {
   "cell_type": "code",
   "execution_count": 38,
   "metadata": {},
   "outputs": [],
   "source": [
    "df_reduced = df[['Initial_days', 'TotalCharge', 'TimelyTreatment',\n",
    "        'DummyDiabetes', 'DummyStroke', 'DummyArthritis', 'DummyHyperlipidemia', 'DummyBackPain', 'DummyAnxiety',\n",
    "       'DummyAllergic_rhinitis', 'DummyReflux_esophagitis', 'DummyAsthma', \n",
    "        'DummyHighBlood', 'DummyXRAYServices', 'DummyEmergency_Admin', 'DummyHighComplication_risk', 'DummyReAdmis']]"
   ]
  },
  {
   "cell_type": "code",
   "execution_count": 39,
   "metadata": {},
   "outputs": [],
   "source": [
    "df.to_csv(r'C:\\Users\\shabn\\Documents\\WGU - MSDA\\D208\\Performance Assessment\\Final PA - Task 2\\reduced_df_task2.csv')"
   ]
  },
  {
   "cell_type": "markdown",
   "metadata": {},
   "source": [
    "### Confusion Matrix"
   ]
  },
  {
   "cell_type": "code",
   "execution_count": 40,
   "metadata": {},
   "outputs": [],
   "source": [
    "matrix_df = df[['Initial_days', 'TotalCharge', 'TimelyTreatment',\n",
    "        'DummyDiabetes', 'DummyStroke', 'DummyArthritis', 'DummyHyperlipidemia', 'DummyBackPain', 'DummyAnxiety',\n",
    "       'DummyAllergic_rhinitis', 'DummyReflux_esophagitis', 'DummyAsthma', \n",
    "        'DummyHighBlood', 'DummyXRAYServices', 'DummyEmergency_Admin', 'DummyHighComplication_risk', 'DummyReAdmis']]\n",
    "\n",
    "x = matrix_df.iloc[:, 1:-1].values\n",
    "\n",
    "y = matrix_df.iloc[:, -1].values"
   ]
  },
  {
   "cell_type": "code",
   "execution_count": 41,
   "metadata": {},
   "outputs": [],
   "source": [
    "X_train, X_test, y_train, y_test = train_test_split(x, y,test_size=0.3, random_state=0)"
   ]
  },
  {
   "cell_type": "code",
   "execution_count": 42,
   "metadata": {},
   "outputs": [
    {
     "name": "stdout",
     "output_type": "stream",
     "text": [
      "LogisticRegression()\n"
     ]
    },
    {
     "name": "stderr",
     "output_type": "stream",
     "text": [
      "C:\\Users\\shabn\\anaconda3\\lib\\site-packages\\sklearn\\linear_model\\_logistic.py:762: ConvergenceWarning: lbfgs failed to converge (status=1):\n",
      "STOP: TOTAL NO. of ITERATIONS REACHED LIMIT.\n",
      "\n",
      "Increase the number of iterations (max_iter) or scale the data as shown in:\n",
      "    https://scikit-learn.org/stable/modules/preprocessing.html\n",
      "Please also refer to the documentation for alternative solver options:\n",
      "    https://scikit-learn.org/stable/modules/linear_model.html#logistic-regression\n",
      "  n_iter_i = _check_optimize_result(\n"
     ]
    }
   ],
   "source": [
    "classifier = LogisticRegression()\n",
    "print(classifier.fit(X_train, y_train))"
   ]
  },
  {
   "cell_type": "code",
   "execution_count": 43,
   "metadata": {},
   "outputs": [],
   "source": [
    "y_pred = classifier.predict(X_test)"
   ]
  },
  {
   "cell_type": "code",
   "execution_count": 44,
   "metadata": {},
   "outputs": [
    {
     "name": "stdout",
     "output_type": "stream",
     "text": [
      "[[1880   31]\n",
      " [  33 1056]]\n"
     ]
    }
   ],
   "source": [
    "matrix = confusion_matrix(y_test, y_pred)\n",
    "print(matrix)"
   ]
  },
  {
   "cell_type": "markdown",
   "metadata": {},
   "source": [
    "True positive is 1880.\n",
    "True negative is 1056.\n",
    "False positive is 31.\n",
    "False negative is 33."
   ]
  },
  {
   "cell_type": "code",
   "execution_count": 45,
   "metadata": {},
   "outputs": [
    {
     "data": {
      "text/plain": [
       "<matplotlib.axes._subplots.AxesSubplot at 0xc67d310>"
      ]
     },
     "execution_count": 45,
     "metadata": {},
     "output_type": "execute_result"
    },
    {
     "data": {
      "image/png": "[encoded data removed]",
      "text/plain": [
       "<Figure size 432x288 with 2 Axes>"
      ]
     },
     "metadata": {
      "needs_background": "light"
     },
     "output_type": "display_data"
    }
   ],
   "source": [
    "y_predict_test = classifier.predict(X_test)\n",
    "new_matrix = confusion_matrix(y_test, y_predict_test)\n",
    "sns.heatmap(new_matrix, annot=True)"
   ]
  },
  {
   "cell_type": "code",
   "execution_count": 46,
   "metadata": {},
   "outputs": [
    {
     "name": "stdout",
     "output_type": "stream",
     "text": [
      "              precision    recall  f1-score   support\n",
      "\n",
      "           0       0.98      0.98      0.98      1911\n",
      "           1       0.97      0.97      0.97      1089\n",
      "\n",
      "    accuracy                           0.98      3000\n",
      "   macro avg       0.98      0.98      0.98      3000\n",
      "weighted avg       0.98      0.98      0.98      3000\n",
      "\n"
     ]
    }
   ],
   "source": [
    "print(classification_report(y_test, y_predict_test))"
   ]
  },
  {
   "cell_type": "markdown",
   "metadata": {},
   "source": [
    "**E. Analyze the data set using your reduced logistic regression model by doing the following:**\n",
    "\n",
    "**1. Explain your data analysis process by comparing the initial and reduced logistic regression models, including the following elements: i. the logic of the variable selection technique ii. the model evaluation metric**\n",
    "\n",
    "We reduced the model by evaluating the p-values. Any p-value above 0.05 is considered statistically insignificant, therefore any variable that has a p-value above 0.05 was dropped. \n",
    "\n",
    "'Children', 'Age', 'Income', 'VitD_levels', 'Doc_visits', 'Full_meals_eaten', 'vitD_supp',' 'Additional_charges', 'TimelyAdmission', 'TimelyVisits', 'Reliability', 'Options', 'TreatmentTime', 'Courteous', 'ActiveListening', 'DummyGender', 'DummySoft_drink', and 'DummyOverweight' have all been dropped since their p-values are above 0.05.\n",
    "\n",
    "The pseudo r-squared value from the initial model was 0.9455 and the reduced model has a p-value of 0.9441. After reducing the model by 18 variables, we have a 0.0014 difference in the p-value. This is a significant reduction in varibales with a small difference in p-value.\n",
    "\n",
    "**2. Provide the output and any calculations of the analysis you performed, including a confusion matrix.** \n",
    "\n",
    "Please see the above for the calculations and the confusion matrix.\n",
    "\n",
    "**3. Provide the code used to support the implementation of the logistic regression models.**\n",
    "\n",
    "Please see the code above."
   ]
  },
  {
   "cell_type": "markdown",
   "metadata": {},
   "source": [
    "### Part V: Data Summary and Implications\n",
    "\n",
    "**F. Summarize your findings and assumptions by doing the following:**\n",
    "\n",
    "**1. Discuss the results of your data analysis, including the following elements:**\n",
    "\n",
    "* a regression equation for the reduced model\n",
    "* an interpretation of coefficients of the statistically significant variables of the model\n",
    "* the statistical and practical significance of the model\n",
    "* the limitations of the data analysis\n",
    "\n",
    "The regression equation for the reduced model is as follows: \n",
    "\n",
    "L = 4.5464 * Inital_days - 0.0394 * TotalCharge + 0.1561 * TimelyTreatment + 3.3311 * DummyDiabetes + 1.5370 * DummyStroke + 1.7039 * DummyArthritis + 4.0333 * DummyHyperlipidemia + 3.6936 * DummyBackPain + 2.4833 * DummyAnxiety + 2.0517 * DummyAllergic_rhinitis + 2.0627 * DummyReflux_esophagitis  - 1.1890 * DummyAsthma + 5.2845 * DummyHighBlood + 1.2143 * DummyXRAYServices + 22.0675 * DummyEmergency_Admin + 16.9972 * DummyHighComplication_risk\n",
    "\n",
    "All these variables are statistically significant since their p-values are under 0.05. Additionally, the r-squared of this regression model is 0.9441, which can be interpreted the varibales are able to explain 94.4% of the variance of the target variable ReAdmis.\n",
    "\n",
    "The coefficents represent the following:\n",
    "* 4.5464 * Inital_days \n",
    "* -0.0394 * TotalCharge \n",
    "* 0.1561 * TimelyTreatment \n",
    "* 3.3311 * DummyDiabetes \n",
    "* 1.5370 * DummyStroke \n",
    "* 1.7039 * DummyArthritis \n",
    "* 4.0333 * DummyHyperlipidemia \n",
    "* 3.6936 * DummyBackPain \n",
    "* 2.4833 * DummyAnxiety \n",
    "* 2.0517 * DummyAllergic_rhinitis \n",
    "* 2.0627 * DummyReflux_esophagitis  \n",
    "* -1.1890 * DummyAsthma\n",
    "* 5.2845 * DummyHighBlood \n",
    "* 1.2143 * DummyXRAYServices\n",
    "* 22.0675 * DummyEmergency_Admin \n",
    "* 16.9972 * DummyHighComplication_risk\n",
    "\n",
    "Each regression coefficient describes the estimated change in the log-odds of the response variable when the coefficient's predictor variable increases by one.\n",
    "\n",
    "For example, Initial_days have a regression coefficient of 4.5464. We calculate the log-odds by taking e^(4.5464) = 94.292. This indicates that a patient is 94.3 times as likely to be readmitted into the hospital for every unit of increase of Initial_days.\n",
    "\n",
    "The limitations of this dataset is that there are still numerous variables that are needed to be able to predict readmission. While the p-value is 0.9441, there are still 15 variables that need to be collected to predict readmission. Additionally, the dataset is quite small with limited variables, the hospital could potentially measure other variables and with another regression analysis, there could be another variable that could explain the majority of the variance of readmission. Overall, it would be beneficial if there were only a few variables that were needed to predict possible readmission since data could potentially be inaccurate, lost, or missing.\n",
    "\n",
    "**2. Recommend a course of action based on your results.**\n",
    "\n",
    "Preventable rehospitalization is a persistent financial challenge for medical institutions across the United States. This occurrence is frequent enough to where there is an external organization, Centers for Medicare and Medicaid Services (CMS), that penalizes hospitals for excessive readmissions. The Kaiser Family Foundations states that some of these readmissions are preventable if more measures were in conduct by both the healthcare professionals and patients during and after they leave the hospital (Rau, 2021)\n",
    "\n",
    "The percentage of hospitals penalized for readmissions has increased each year since the CMS began imposing penalties. According to the CMS reports, there were approximately 78% of hospitals that were fined with readmission penalties in the year 2015. About 75% of hospitals report being confident in their ability to remedy and reduce these fines and only 55% of hospitals project receiving these penalties. However, given the historical trend, the percentage of total hospitals fined is projected to be higher than 55%. Although hospitals are becoming more proactive and asserting more reduction strategies, fewer than 20% utilize technologies that is specific to reducing readmissions. \n",
    "\n",
    "Our reduced logisitc regression model (with the target variable ReAdmis) had a r-squared value of 0.9441, meaning that 94.41% of the variance of ReAdmis can be explained by our regression model equation. Since there is an incentive for hospitals to estimate readmission, I would recommend the hospital to use our regression model to help identify patients who are at risk of readmission. After using the results from the regression analysis to predict patients at risk of readmission, I would recommend the hospital to take a course of action to prevent the patient from readmission to avoid penalties. "
   ]
  },
  {
   "cell_type": "markdown",
   "metadata": {},
   "source": [
    "### Part VI: Demonstration\n",
    "\n",
    "**G. Link to the Panopto video:**\n",
    "\n",
    "https://wgu.hosted.panopto.com/Panopto/Pages/Viewer.aspx?id=76fc539b-52ff-4040-be6e-af5d00fb39ae\n",
    "\n",
    "**H. and I. Sources:**\n",
    "\n",
    "Kanade, Vijay. “What Is Logistic Regression? Equation, Assumptions, Types, and Best Practices.” Logistic Regression: Equation, Assumptions, Types, and Best Practices, 18 Apr. 2022, https://www.spiceworks.com/tech/artificial-intelligence/articles/what-is-logistic-regression/. \n",
    "\n",
    "Leung, Kenneth. “Assumptions of Logistic Regression, Clearly Explained.” Medium, Towards Data Science, 13 Sept. 2022, https://towardsdatascience.com/assumptions-of-logistic-regression-clearly-explained-44d85a22b290. \n",
    "\n",
    "Rau, J. \"10 Years of Hospital Readmissions Penalties. KFF\" 4 Nov. 2021\thttps://www.kff.org/health-reform/slide/10-years-of-hospital-readmissions-penalties/#:~:text=The%20average%20penalty%20this%20fiscal,and%2055%25%20of%20all%20hospitals.\n",
    "\n",
    "**J. Professional Communication**\n",
    "\n",
    "Please see the Performance Assessment as an example of professional communication."
   ]
  }
 ],
 "metadata": {
  "kernelspec": {
   "display_name": "Python 3 (ipykernel)",
   "language": "python",
   "name": "python3"
  },
  "language_info": {
   "codemirror_mode": {
    "name": "ipython",
    "version": 3
   },
   "file_extension": ".py",
   "mimetype": "text/x-python",
   "name": "python",
   "nbconvert_exporter": "python",
   "pygments_lexer": "ipython3",
   "version": "3.11.4"
  }
 },
 "nbformat": 4,
 "nbformat_minor": 4
}
